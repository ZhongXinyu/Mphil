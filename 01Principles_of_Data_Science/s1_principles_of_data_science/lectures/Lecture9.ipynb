{
 "cells": [
  {
   "cell_type": "markdown",
   "id": "47468801",
   "metadata": {
    "slideshow": {
     "slide_type": "slide"
    }
   },
   "source": [
    "# Principles of Data Science\n",
    "\n",
    "### Lecture 9: Estimates\n",
    "\n",
    "_MPhil in Data Intensive Science_\n",
    "\n",
    "**University of Cambridge**\n",
    "\n",
    "<h2 style=\"color: blue\">Matt Kenzie</h2>\n",
    "\n",
    "[mk652@cam.ac.uk](mailto:mk652@cam.ac.uk)"
   ]
  },
  {
   "cell_type": "markdown",
   "id": "08641518",
   "metadata": {
    "slideshow": {
     "slide_type": "subslide"
    }
   },
   "source": [
    "## Estimates\n",
    "\n",
    "- Today's lecture covers estimates\n",
    "\n",
    "- Learning objectives:\n",
    "    - Understand what estimators and estimates are\n",
    "    - Be able to discuss, compute and interpret the consistency, bias and efficiency of estimators\n",
    "    - Be able to compute estimates for the mean and variance of a samples (as well as estimates of the variance of these estimates)"
   ]
  },
  {
   "cell_type": "markdown",
   "id": "2c0c66fc",
   "metadata": {
    "slideshow": {
     "slide_type": "subslide"
    }
   },
   "source": [
    "## Recap\n",
    "\n",
    "In previous lectures we have covered:\n",
    " - properties of distributions\n",
    " - some common probability distributions\n",
    " - estimating the mean and variance of a dataset\n",
    " \n",
    "Today we will formalise what we mean by estimates"
   ]
  },
  {
   "cell_type": "markdown",
   "id": "8700e26b",
   "metadata": {
    "slideshow": {
     "slide_type": "slide"
    }
   },
   "source": [
    "## What is an estimate?\n",
    "\n",
    "- An estimate is a measurement of some quantity based on observations in data\n",
    "- We will label estimates with a \"hat\", e.g. $\\hat{\\theta}$ is an estimate of $\\theta$\n",
    "\n",
    "<font color=\"blue\">**Frequentist:**</font>\n",
    "- True values of parameters are fixed\n",
    "- A **point estimate** is an estimate of the value itself\n",
    "- An **interval** is an estimated range of values which contains the true value at some confidence level\n",
    "\n",
    "<font color=\"blue\">**Bayesian:**</font>\n",
    "- Parameters are themselves random variables\n",
    "- We can infer the probability distribution (posterior)\n",
    "- Can quote a value and an interval from the probability distribution"
   ]
  },
  {
   "cell_type": "markdown",
   "id": "d801a343",
   "metadata": {
    "slideshow": {
     "slide_type": "subslide"
    }
   },
   "source": [
    "## How do we produce estimates?\n",
    "\n",
    "- Need some function, algorithm or procedure which produces an *estimate* from our observations\n",
    "- This is known as an *estimator*\n",
    "- The numerical value the *estimator* produces is the *estimate*\n",
    "- An estimator can be almost anything you like\n",
    "    - *e.g.* to estimate student height in this like class I could decide to compute the number of minutes each student has been alive and divide it by $\\pi$\n",
    "- This clearly produces a poor estimate so first we should quantity some properties of estimates that we would like to fulfil"
   ]
  },
  {
   "cell_type": "markdown",
   "id": "b2ebe498",
   "metadata": {
    "slideshow": {
     "slide_type": "slide"
    }
   },
   "source": [
    "## Consistency\n",
    "\n",
    "- An *estimator* is <font color=\"blue\">*consistent*</font> if the estimate it produces tends to the true value as the data size increases\n",
    "\n",
    "- <font color=\"green\">Hand written notes in lectures</font>\n",
    "\n",
    "- We want to have <font color=\"blue\">*consistent*</font> estimators"
   ]
  },
  {
   "cell_type": "markdown",
   "id": "cd6385aa",
   "metadata": {
    "slideshow": {
     "slide_type": "subslide"
    }
   },
   "source": [
    "## Bias\n",
    "\n",
    "- An estimator is <font color=\"blue\">*unbiased*</font> if the expectation value of the estimate equals the true value\n",
    "- <font color=\"green\">Hand written notes in lectures</font>\n",
    "- Having <font color=\"blue\">*unbiased*</font> is desirable (although often managable) \n",
    "- It is preferable to have <font color=\"blue\">*consistent*</font> estimators over <font color=\"blue\">*biased*</font> estimators"
   ]
  },
  {
   "cell_type": "markdown",
   "id": "33010e93",
   "metadata": {
    "slideshow": {
     "slide_type": "subslide"
    }
   },
   "source": [
    "## Consistency and bias\n",
    "\n",
    "<img src=\"plots/consistency_bias.png\" alt=\"drawing\" width=\"1000\">"
   ]
  },
  {
   "cell_type": "markdown",
   "id": "617d05a1",
   "metadata": {
    "slideshow": {
     "slide_type": "subslide"
    }
   },
   "source": [
    "## Efficiency\n",
    "\n",
    "- Efficiency relates to the variance of the estimate $V(\\hat{\\theta})$\n",
    "- Our estimate $\\hat{\\theta}$ will incur statistical fluctuations from the data we have\n",
    "    - leads to a variance of the estimate\n",
    "- An <font color=\"blue\">*efficient*</font> estimate is one that minimises this variance"
   ]
  },
  {
   "cell_type": "markdown",
   "id": "87a4cd45",
   "metadata": {
    "slideshow": {
     "slide_type": "subslide"
    }
   },
   "source": [
    "## Bias-variance trade off\n",
    "\n",
    "- You may have seen this before in discussion of accuracy *vs.* precision\n",
    "- Have to make a judgement on whether I keep an uncertainty in the *statistical* uncertainty or the *systematic* uncertainty\n",
    "    - Which order of polynomial should I fit with?\n"
   ]
  },
  {
   "cell_type": "code",
   "execution_count": 1,
   "id": "810bfad1",
   "metadata": {
    "slideshow": {
     "slide_type": "fragment"
    }
   },
   "outputs": [
    {
     "name": "stdout",
     "output_type": "stream",
     "text": [
      "4.691999999999999\n"
     ]
    },
    {
     "data": {
      "text/plain": [
       "[<matplotlib.lines.Line2D at 0x113fd0490>]"
      ]
     },
     "execution_count": 1,
     "metadata": {},
     "output_type": "execute_result"
    },
    {
     "data": {
      "image/png": "[encoded data removed]",
      "text/plain": [
       "<Figure size 640x480 with 1 Axes>"
      ]
     },
     "metadata": {},
     "output_type": "display_data"
    }
   ],
   "source": [
    "import numpy as np\n",
    "import matplotlib.pyplot as plt\n",
    "plt.style.use('../mphil.mplstyle')\n",
    "\n",
    "x = np.arange(0,11,1)\n",
    "\n",
    "def true_func(x):\n",
    "    return 0.2*x**2 - 0.3*x + 0.1\n",
    "\n",
    "plt.scatter(x, true_func(x), c='k' )\n",
    "\n",
    "xp = np.linspace(0,10,100)\n",
    "plt.plot( xp, true_func(xp) )\n",
    "\n",
    "# true value we want to estimate is func value at x=5.6\n",
    "tx = 5.6\n",
    "ty = true_func(tx)\n",
    "print(ty)\n",
    "plt.plot([0,tx],[ty,ty], 'r-')\n",
    "\n",
    "    "
   ]
  },
  {
   "cell_type": "code",
   "execution_count": 2,
   "id": "0c8e33b1",
   "metadata": {
    "slideshow": {
     "slide_type": "fragment"
    }
   },
   "outputs": [],
   "source": [
    "# write a func to compute polynomials return by np.polyfit\n",
    "def pfunc(x, *pars):\n",
    "    ps = np.flip(pars)\n",
    "    res = np.zeros_like(x)\n",
    "    for i, p in enumerate(ps):\n",
    "        res += p*x**i\n",
    "    return res\n",
    "\n",
    "nsamps = 2000\n",
    "\n",
    "# run some pseudo-experiments\n",
    "results = []\n",
    "for i in range(nsamps):\n",
    "    \n",
    "    # add noise to yvals\n",
    "    y = true_func(x) + np.random.normal(0, 1, size=x.shape)\n",
    "    \n",
    "    # fit with p1, p2 and p6\n",
    "    p1 = np.polyfit(x, y, deg=1)\n",
    "    p2 = np.polyfit(x, y, deg=2)  \n",
    "    p6 = np.polyfit(x, y, deg=6)\n",
    "    \n",
    "    # evaluate at the tx value\n",
    "    y1 = pfunc(tx, *p1)\n",
    "    y2 = pfunc(tx, *p2)\n",
    "    y6 = pfunc(tx, *p6)\n",
    "    \n",
    "    results.append( [y1, y2, y6] )\n",
    "    "
   ]
  },
  {
   "cell_type": "code",
   "execution_count": 3,
   "id": "c4ecb523",
   "metadata": {
    "slideshow": {
     "slide_type": "fragment"
    }
   },
   "outputs": [
    {
     "data": {
      "text/plain": [
       "<matplotlib.legend.Legend at 0x1169ac910>"
      ]
     },
     "execution_count": 3,
     "metadata": {},
     "output_type": "execute_result"
    },
    {
     "data": {
      "image/png": "[encoded data removed]",
      "text/plain": [
       "<Figure size 640x480 with 1 Axes>"
      ]
     },
     "metadata": {},
     "output_type": "display_data"
    }
   ],
   "source": [
    "# evaluate the results\n",
    "results = np.array( results )\n",
    "\n",
    "plt.hist( results[:,0], bins='auto', density=True, histtype='step', label='pol1' )\n",
    "plt.hist( results[:,1], bins='auto', density=True, histtype='step', label='pol2' )\n",
    "plt.hist( results[:,2], bins='auto', density=True, histtype='step', label='pol6' )\n",
    "plt.plot( [ty,ty], [0,1], 'k-', label='Truth')\n",
    "plt.xlabel('$\\hat{y}$')\n",
    "plt.legend()\n"
   ]
  },
  {
   "cell_type": "code",
   "execution_count": 4,
   "id": "f98223cb",
   "metadata": {
    "slideshow": {
     "slide_type": "fragment"
    }
   },
   "outputs": [
    {
     "name": "stdout",
     "output_type": "stream",
     "text": [
      "pol1\n",
      "  Mean: 6.604213166516198\n",
      "  Bias: 1.9122131665161985\n",
      "  sDev: 0.3008208267636082\n",
      "pol2\n",
      "  Mean: 4.658530979376607\n",
      "  Bias: -0.033469020623392076\n",
      "  sDev: 0.4389921524262365\n",
      "pol6\n",
      "  Mean: 4.648338179094802\n",
      "  Bias: -0.043661820905197324\n",
      "  sDev: 0.6553998974275861\n"
     ]
    }
   ],
   "source": [
    "# Let's evaluate the estimates\n",
    "for i, pol in enumerate(['pol1','pol2','pol6']):\n",
    "    mean = np.mean( results[:,i] )\n",
    "    sdev = np.std( results[:,i] )\n",
    "    \n",
    "    print(pol)\n",
    "    print('  Mean:', mean)\n",
    "    print('  Bias:', mean - ty)\n",
    "    print('  sDev:', sdev)"
   ]
  },
  {
   "cell_type": "markdown",
   "id": "2749af2e",
   "metadata": {
    "slideshow": {
     "slide_type": "subslide"
    }
   },
   "source": [
    "## Precision-accuracy\n",
    "\n",
    "- Relates to the classic precision *vs.* accuracy question\n",
    "- Often has to be user defined\n",
    "\n",
    "<img src=\"plots/accuracy_precision.png\" alt=\"drawing\" width=\"1000\">"
   ]
  },
  {
   "cell_type": "code",
   "execution_count": null,
   "id": "84f7ce8f",
   "metadata": {},
   "outputs": [],
   "source": [
    "  "
   ]
  },
  {
   "cell_type": "markdown",
   "id": "49cd53f3",
   "metadata": {
    "slideshow": {
     "slide_type": "slide"
    }
   },
   "source": [
    "# <font color=\"darkred\">*Musical interlude...*</font>"
   ]
  },
  {
   "cell_type": "markdown",
   "id": "640b1a0e",
   "metadata": {
    "slideshow": {
     "slide_type": "slide"
    }
   },
   "source": [
    "## Estimates of mean, variance and standard deviation\n",
    "\n",
    "- <font color=\"green\">*Hand written notes in lectures*</font>"
   ]
  },
  {
   "cell_type": "markdown",
   "id": "1221c0f8",
   "metadata": {
    "slideshow": {
     "slide_type": "fragment"
    }
   },
   "source": [
    "<img src=\"plots/estimates.png\" alt=\"drawing\" width=\"600\">"
   ]
  },
  {
   "cell_type": "markdown",
   "id": "9c96f171",
   "metadata": {
    "slideshow": {
     "slide_type": "slide"
    }
   },
   "source": [
    "# End of Lecture 9\n",
    "\n",
    "By the end of this lecture you should:\n",
    "   - Understand what estimators and estimates are\n",
    "   - Be able to discuss, compute and interpret the consistency, bias and efficiency of estimators\n",
    "   - Be able to compute estimates for the mean and variance of a samples (as well as estimates of the variance of these estimates)"
   ]
  }
 ],
 "metadata": {
  "celltoolbar": "Slideshow",
  "kernelspec": {
   "display_name": "Python 3 (ipykernel)",
   "language": "python",
   "name": "python3"
  },
  "language_info": {
   "codemirror_mode": {
    "name": "ipython",
    "version": 3
   },
   "file_extension": ".py",
   "mimetype": "text/x-python",
   "name": "python",
   "nbconvert_exporter": "python",
   "pygments_lexer": "ipython3",
   "version": "3.9.16"
  },
  "rise": {
   "enable_chalkboard": true,
   "scroll": true
  }
 },
 "nbformat": 4,
 "nbformat_minor": 5
}
