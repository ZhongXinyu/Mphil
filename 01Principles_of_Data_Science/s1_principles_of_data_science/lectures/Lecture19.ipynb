{
 "cells": [
  {
   "cell_type": "markdown",
   "id": "47468801",
   "metadata": {
    "slideshow": {
     "slide_type": "slide"
    }
   },
   "source": [
    "# Principles of Data Science\n",
    "\n",
    "### Lecture 19: More resampling and systematics\n",
    "\n",
    "_MPhil in Data Intensive Science_\n",
    "\n",
    "**University of Cambridge**\n",
    "\n",
    "<h2 style=\"color: blue\">Matt Kenzie</h2>\n",
    "\n",
    "[mk652@cam.ac.uk](mailto:mk652@cam.ac.uk)"
   ]
  },
  {
   "cell_type": "markdown",
   "id": "08641518",
   "metadata": {
    "slideshow": {
     "slide_type": "subslide"
    }
   },
   "source": [
    "## Some more resampling \n",
    "\n",
    "- Today's lecture covers some examples and applications of resampling techniques\n",
    "    - The bootstrap\n",
    "    - The jackknife\n",
    "\n",
    "- Learning objectives:\n",
    "    - See how resampling methods are applied\n",
    "    - Understand a few principles behind computation of systematic uncertainties\n"
   ]
  },
  {
   "cell_type": "markdown",
   "id": "2c0c66fc",
   "metadata": {
    "slideshow": {
     "slide_type": "subslide"
    }
   },
   "source": [
    "## Recap\n",
    "\n",
    "In the last lecture we saw various concepts in resampling for estimation:\n",
    "\n",
    "- **Jackknife estimate** (produces <font color=\"blue\">bias-corrected</font> estimate and <font color=\"blue\">variance on estimate</font>)\n",
    "    - Produce N approximately i.i.d sample by omitting points\n",
    "    - Run estimation on them and produce estimate \"pseduo-values\"\n",
    "    $$ \\tilde{\\theta}_{(i)} = n\\hat{\\theta} - (n-1) \\hat{\\theta}_{(i)} $$\n",
    "    - Provide *bias-corrected* estimate\n",
    "    $$ \\hat{\\theta}_{c} = \\frac{1}{N} \\sum_{i=1}^N \\tilde{\\theta}_{(i)} $$\n",
    "    - And variance on that estimate\n",
    "    $$ V(\\hat{\\theta}_c) = \\frac{\\hat{s}^2}{N} = \\frac{1}{N}\\frac{1}{N-1} \\sum_{i=1}^N (\\tilde{\\theta}_{(i)} - \\hat{\\theta}_c )^2$$\n",
    "    \n",
    "- **Bootstrap estimate** (produces <font color=\"blue\">estimate distribution</font>)\n",
    "    - Use BCa method to produce confidence intervals\n",
    "    \n",
    " "
   ]
  },
  {
   "cell_type": "markdown",
   "id": "de6f55bd",
   "metadata": {
    "slideshow": {
     "slide_type": "slide"
    }
   },
   "source": [
    "## Parametric bootstrap\n",
    "\n",
    "- A form of bootstrapping based on the model itself\n",
    "- Sampling is now not via replacement but from the p.d.f of the model directly\n",
    "- We have already seen use of this multiple times\n",
    "    - e.g. to obtain test-statistic distributions\n",
    "    \n",
    "- We have already seen how to generate from probability distributions\n",
    "    - inverse c.d.f (i.e. the p.p.f)\n",
    "    - accept-reject\n"
   ]
  },
  {
   "cell_type": "markdown",
   "id": "a304fc6f",
   "metadata": {
    "slideshow": {
     "slide_type": "subslide"
    }
   },
   "source": [
    "## The \"pull\" of parameters and the \"Aidan\" plot\n",
    "\n",
    "- parametric bootstrap (i.e. running \"toys\") can be used for estimation \n",
    "- but also to check estimation procedures\n",
    "- We should find that over an ensemble\n",
    "\n",
    "$$ \\frac{\\hat{\\theta} - \\theta}{\\hat{\\sigma}} \\sim \\mathcal{N}(0,1) $$\n",
    "\n",
    "- If instead we find this is given by $\\mathcal{N}(z_0, a)$ then\n",
    "    - we are biased by $z_0$\n",
    "    - and under/over-cover by $a$ or $1/a$\n",
    "    \n",
    "- Very useful to plot the distribution of $(\\hat{\\theta}-\\theta)/\\hat{\\sigma}$ sometimes called the \"pull\" distribution\n",
    "    - we have already seen the pull in another guise"
   ]
  },
  {
   "cell_type": "markdown",
   "id": "f8215589",
   "metadata": {
    "slideshow": {
     "slide_type": "subslide"
    }
   },
   "source": [
    "## An example of a parametric bootstrap study\n",
    "\n",
    "<img src=\"plots/parametric_bootstrap.png\">"
   ]
  },
  {
   "cell_type": "markdown",
   "id": "50a296e5",
   "metadata": {
    "slideshow": {
     "slide_type": "fragment"
    }
   },
   "source": [
    "### The \"Aidan\" plot\n",
    "\n",
    "<img src=\"plots/parametric_bootstrap_pulls.png\">\n",
    "\n",
    "- What I determine from this is?\n",
    "    - <font color=\"green\">*Dicussion in lecture*</font>"
   ]
  },
  {
   "cell_type": "markdown",
   "id": "8e0c03ad",
   "metadata": {
    "slideshow": {
     "slide_type": "slide"
    }
   },
   "source": [
    "## Some jackknife and boostrap examples\n",
    "\n",
    "- There are tons of examples and packages out there\n",
    "- As usual I make use of a package written by a pal, this time the python [resample](https://resample.readthedocs.io/en/stable/index.html) package"
   ]
  },
  {
   "cell_type": "code",
   "execution_count": 17,
   "id": "c98945a7",
   "metadata": {
    "scrolled": true,
    "slideshow": {
     "slide_type": "slide"
    }
   },
   "outputs": [
    {
     "name": "stdout",
     "output_type": "stream",
     "text": [
      "0.014153195911253903\n",
      "1.1006076845524735\n"
     ]
    }
   ],
   "source": [
    "import numpy as np\n",
    "np.random.seed(210187)\n",
    "\n",
    "x = np.random.normal( size=500 )\n",
    "\n",
    "# let's investigate use of sample mean and variance\n",
    "print(np.mean(x))\n",
    "print(np.var(x))"
   ]
  },
  {
   "cell_type": "markdown",
   "id": "3195da61",
   "metadata": {
    "slideshow": {
     "slide_type": "fragment"
    }
   },
   "source": [
    "- Can ask the [resample](https://resample.readthedocs.io/en/stable/index.html) package to simply provide **bootstrap** and **jackknife** samples themselves\n",
    "- To avoid memory overruns they will return generators rather than very large arrays"
   ]
  },
  {
   "cell_type": "code",
   "execution_count": 18,
   "id": "3a062dbf",
   "metadata": {},
   "outputs": [
    {
     "name": "stdout",
     "output_type": "stream",
     "text": [
      "(500,)\n",
      "(1000, 500)\n",
      "(500, 499)\n"
     ]
    }
   ],
   "source": [
    "from resample import bootstrap, jackknife\n",
    "\n",
    "bstrp = np.array( [ b for b in bootstrap.resample(x, size=1000) ] )\n",
    "jknif = np.array( [ j for j in jackknife.resample(x) ] )\n",
    "\n",
    "print(x.shape)\n",
    "print(bstrp.shape)\n",
    "print(jknif.shape)\n"
   ]
  },
  {
   "cell_type": "markdown",
   "id": "b19c9bde",
   "metadata": {
    "slideshow": {
     "slide_type": "fragment"
    }
   },
   "source": [
    "- Can also ask [resample](https://resample.readthedocs.io/en/stable/index.html) to provide biases or estimates directly"
   ]
  },
  {
   "cell_type": "code",
   "execution_count": 19,
   "id": "7587c420",
   "metadata": {
    "scrolled": true
   },
   "outputs": [
    {
     "name": "stdout",
     "output_type": "stream",
     "text": [
      "-0.0021608543068003527\n",
      "-0.0022056266222025833\n"
     ]
    }
   ],
   "source": [
    "b_bias = bootstrap.bias( np.var, x, size=5000 )\n",
    "print(b_bias)\n",
    "\n",
    "j_bias = jackknife.bias( np.var, x )\n",
    "print(j_bias)"
   ]
  },
  {
   "cell_type": "code",
   "execution_count": 20,
   "id": "f88557d4",
   "metadata": {},
   "outputs": [
    {
     "name": "stdout",
     "output_type": "stream",
     "text": [
      "1.1028413807839892\n",
      "1.1028133111747138\n",
      "1.1006076845524735\n",
      "1.1028133111748233\n"
     ]
    }
   ],
   "source": [
    "b_est = bootstrap.bias_corrected( np.var, x, size=5000 )\n",
    "print(b_est)\n",
    "\n",
    "j_est = jackknife.bias_corrected( np.var, x )\n",
    "print(j_est)\n",
    "\n",
    "print( np.var(x) )\n",
    "print( np.var(x, ddof=1) )"
   ]
  },
  {
   "cell_type": "markdown",
   "id": "e55deefe",
   "metadata": {
    "slideshow": {
     "slide_type": "fragment"
    }
   },
   "source": [
    "- and indeed it can provide confidence intervals as well with either\n",
    "    - percentile\n",
    "    - BCa"
   ]
  },
  {
   "cell_type": "code",
   "execution_count": 21,
   "id": "95e06659",
   "metadata": {},
   "outputs": [
    {
     "name": "stdout",
     "output_type": "stream",
     "text": [
      "Standard Sample Estimate:  1.103 +/- 0.070\n",
      "Bootstrapped BCa interval: 1.103 +/- 0.070\n"
     ]
    }
   ],
   "source": [
    "from scipy.stats import chi2\n",
    "\n",
    "theta = jackknife.bias_corrected( np.var, x )\n",
    "theta_l, theta_h = bootstrap.confidence_interval( np.var, x, size=50000, cl=chi2.cdf(1,1), ci_method='bca') \n",
    "theta_e = (theta_h - theta_l)/2\n",
    "\n",
    "N = len(x)\n",
    "\n",
    "sample_var_corr = np.var(x, ddof=1)\n",
    "sample_var_corr_err = np.sqrt( 2*np.var(x,ddof=1)**2/(N-1) )\n",
    "\n",
    "print( f'Standard Sample Estimate:  {sample_var_corr:5.3f} +/- {sample_var_corr_err:5.3f}'  )\n",
    "print( f'Bootstrapped BCa interval: {theta:5.3f} +/- {theta_e:5.3f}'  )"
   ]
  },
  {
   "cell_type": "markdown",
   "id": "059da55c",
   "metadata": {},
   "source": [
    "- <font color=\"green\">*discuss in lectures why these give different uncertainties*</font>"
   ]
  },
  {
   "cell_type": "markdown",
   "id": "6627030c",
   "metadata": {
    "slideshow": {
     "slide_type": "subslide"
    }
   },
   "source": [
    "### One final note on the bootstrap\n",
    "\n",
    "- It is dependent on some random sample so in general is not exactly reproducible\n",
    "- Consequently the [resample](https://resample.readthedocs.io/en/stable/reference.html) package allows passing of a `random_state` so that code is reproducible (deterministic)\n",
    "- Can be useful for cross-checking / validation of code"
   ]
  },
  {
   "cell_type": "markdown",
   "id": "49cd53f3",
   "metadata": {
    "slideshow": {
     "slide_type": "slide"
    }
   },
   "source": [
    "# <font color=\"darkred\">*Musical interlude...*</font>"
   ]
  },
  {
   "cell_type": "markdown",
   "id": "3e503dc2",
   "metadata": {
    "slideshow": {
     "slide_type": "slide"
    }
   },
   "source": [
    "## Another nice use case of bootstrapping\n",
    "\n",
    "- Plotting error bands on fitted curves\n",
    "- <font color=\"green\">*Discuss pitfalls of this in lectures*</font>"
   ]
  },
  {
   "cell_type": "code",
   "execution_count": 6,
   "id": "0c2481d6",
   "metadata": {
    "slideshow": {
     "slide_type": "notes"
    }
   },
   "outputs": [],
   "source": [
    "import numpy as np\n",
    "import matplotlib.pyplot as plt\n",
    "plt.style.use('../mphil.mplstyle')\n",
    "from scipy.stats import truncnorm, truncexpon\n",
    "from iminuit import Minuit, cost\n",
    "\n",
    "# set the seed for reproducibility\n",
    "np.random.seed(21187)\n",
    "\n",
    "# setup the model\n",
    "\n",
    "# model parameters\n",
    "xrange = (100,150)\n",
    "Ns = 450\n",
    "Nb = 900\n",
    "mu = 125\n",
    "sg = 3\n",
    "p  = 0.04\n",
    "names = [ 'N_s', '\\mu', '\\sigma', 'N_b', 'p' ]\n",
    "\n",
    "# the model functions\n",
    "def bkg_model(p):\n",
    "    endp = (xrange[1]-xrange[0])*p\n",
    "    srtp = xrange[0]\n",
    "    scl  = 1/p\n",
    "    return truncexpon(b=endp, loc=srtp, scale=scl)\n",
    "\n",
    "def sig_model(mu, sg):\n",
    "    a, b = (xrange[0]-mu)/sg, (xrange[1]-mu)/sg\n",
    "    return truncnorm(a=a, b=b, loc=mu, scale=sg)\n",
    "\n",
    "def tot_model(x, Ns, mu, sg, Nb, p):\n",
    "    return Ns*sig_model(mu,sg).pdf(x) + Nb*bkg_model(p).pdf(x)\n",
    "\n",
    "def tot_density(x, Ns, mu, sg, Nb, p):\n",
    "    return Ns+Nb, tot_model(x, Ns, mu, sg, Nb, p)\n",
    "\n",
    "# a generate function\n",
    "def generate(Ns, mu, sg, Nb, p):\n",
    "\n",
    "    # generate poisson number of events first\n",
    "    Ns = np.random.poisson(Ns)\n",
    "    Nb = np.random.poisson(Nb)\n",
    "\n",
    "    # then generate from the model\n",
    "    b = bkg_model(p)\n",
    "    s = sig_model(mu,sg)\n",
    "\n",
    "    bkg = b.rvs( size=Nb )\n",
    "    sig = s.rvs( size=Ns )\n",
    "\n",
    "    return np.concatenate( [bkg, sig] )\n",
    "\n",
    "# a fit function\n",
    "def fit(dset):\n",
    "    n2ll = cost.ExtendedUnbinnedNLL( dset, tot_density )\n",
    "    mi = Minuit( n2ll, Ns=450, mu=125, sg=3, Nb=900, p=0.04 )\n",
    "    mi.limits['Ns','Nb'] = (0,2000)\n",
    "    mi.limits['mu'] = (110,140)\n",
    "    mi.limits['sg'] = (0,10)\n",
    "    mi.limits['p'] = (0,1)\n",
    "    mi.migrad()\n",
    "    mi.hesse()\n",
    "    return mi\n",
    "\n",
    "# a plot function\n",
    "def plot(xvals, ax=None):\n",
    "    ax = ax or plt.gca()\n",
    "    # compute mean, sdev and their errors of distribution\n",
    "    m = np.mean(xvals)\n",
    "    s = np.std(xvals, ddof=1)\n",
    "    me = s/len(xvals)**0.5\n",
    "    se = s/(2*len(xvals)-1)**0.5\n",
    "    # make a density histogram\n",
    "    nh, xe = np.histogram( xvals, range=(m-3*s,m+3*s), bins='auto', density=True )\n",
    "    # draw the density histogram\n",
    "    ax.hist( xvals, bins=xe, density=True, alpha=0.5 )\n",
    "    # also draw error bars on points\n",
    "    N = np.sum(nh)/len(xvals)\n",
    "    cx = 0.5*(xe[1:]+xe[:-1])\n",
    "    ax.errorbar( cx, nh, N*(nh/N)**0.5, fmt='ko' )\n",
    "    # draw the normal distribution with the mean and sigma\n",
    "    x = np.linspace(xe[0],xe[-1],100)\n",
    "    ax.plot(x, norm.pdf(x,m,s), 'r-')\n",
    "    # plot the results (use uncertainties package for nice formatting)\n",
    "    um = uncert.ufloat( m, me )\n",
    "    us = uncert.ufloat( s, se )\n",
    "    mstr = f\"{um:.1u}\".replace(\"+/-\",\"\\pm\")\n",
    "    sstr = f\"{us:.1u}\".replace(\"+/-\",\"\\pm\")\n",
    "    ax.text(0.01,0.92, f\"$\\hat{{\\mu}} = {mstr}$\", transform=ax.transAxes)\n",
    "    ax.text(0.01,0.86, f\"$\\hat{{\\sigma}} = {sstr}$\", transform=ax.transAxes)\n",
    "\n",
    "## 0. let's do a dummy generation to get ourselves the \"real\" data\n",
    "data = generate(Ns, mu, sg, Nb, p)\n",
    "\n",
    "## 1. now let's fit the data\n",
    "# this gives us the fit values for our ensemble generation\n",
    "mi = fit(data)\n",
    "\n",
    "nom_vals = list(mi.values)\n",
    "nom_errs = list(mi.errors)"
   ]
  },
  {
   "cell_type": "code",
   "execution_count": 7,
   "id": "7ce592b2",
   "metadata": {
    "scrolled": false,
    "slideshow": {
     "slide_type": "fragment"
    }
   },
   "outputs": [
    {
     "data": {
      "text/plain": [
       "Text(0, 0.5, 'Events / GeV')"
      ]
     },
     "execution_count": 7,
     "metadata": {},
     "output_type": "execute_result"
    },
    {
     "data": {
      "image/png": "[encoded data removed]",
      "text/plain": [
       "<Figure size 640x480 with 1 Axes>"
      ]
     },
     "metadata": {},
     "output_type": "display_data"
    }
   ],
   "source": [
    "# generate 1000 bootstrapped values\n",
    "bootstrap_pars = np.random.multivariate_normal( mi.values, mi.covariance, size=1000)\n",
    "\n",
    "# draw the pdf and the bootstrapped error\n",
    "x = np.linspace(*xrange,200)\n",
    "y = tot_model(x, *mi.values)\n",
    "y_boot = [ tot_model(x, *p) for p in bootstrap_pars ]\n",
    "yerr_boot = np.std( y_boot, axis=0 )\n",
    " \n",
    "fig, ax = plt.subplots()\n",
    "nh, xe = np.histogram(data, range=xrange, bins=50)\n",
    "cx = 0.5*(xe[:-1]+xe[1:])\n",
    "ax.errorbar( cx, nh, nh**0.5, fmt='ko', label='Data' )\n",
    "ax.plot(x, y, 'b-', label='Fit')\n",
    "ax.fill_between(x, y-yerr_boot, y+yerr_boot, fc='b', alpha=0.4, label='Fit Error')\n",
    "\n",
    "ax.legend()\n",
    "ax.set_xlim(*xrange)\n",
    "bw = xe[1]-xe[0]\n",
    "ax.set_xlabel('$m_H$ [GeV]')\n",
    "ax.set_ylabel(f'Events / GeV')"
   ]
  },
  {
   "cell_type": "markdown",
   "id": "cc981378",
   "metadata": {
    "slideshow": {
     "slide_type": "fragment"
    }
   },
   "source": [
    "- <font color=\"green\">*Discuss why this plot is mis-leading*</font>\n",
    "- So what *would* be an appropriate use case for doing this?"
   ]
  },
  {
   "cell_type": "markdown",
   "id": "64ff0874",
   "metadata": {
    "slideshow": {
     "slide_type": "slide"
    }
   },
   "source": [
    "## Computing systematics with bootstrapping\n",
    "\n",
    "- This is one of the most useful applications of a bootstrap\n",
    "\n",
    "- <font color=\"green\">*In the lectures discuss some systematic effects*</font>\n",
    "    - How do we compute these?\n",
    "\n",
    "- *Discuss how systematic effects can be computed*\n",
    "     - Try to avoid simply \"*taking the difference*\" from nominal an alternate scenario if possible \n",
    "     \n",
    "- Discussion of <font color=\"blue\">coverage regarding systematic uncertainties</font>\n",
    "    - Try to avoid being *conservative* for the sake of it\n",
    "\n",
    "**Bootstrapping procedure for systematic computation**\n",
    "- Change an assumption in (data collection or estimation) procedure and/or modelling\n",
    "- Run parametric bootstrap\n",
    "    - i.e. generate under change of assumption, fit back with nominal procedure\n",
    "    \n",
    "- Obtain covariance matrix using covariance estimate from bootstrapped sample\n",
    "$$ \\text{cov}(\\theta_1, \\theta_2) = \\frac{1}{N} \\sum_{i=1}^{N} ( \\theta_{1i} - \\bar{\\theta}_1) ( \\theta_{2i} - \\bar{\\theta}_{2} ) $$\n",
    "    - covariance matrices from different systematic effects can simply be summed"
   ]
  },
  {
   "cell_type": "markdown",
   "id": "c1ba4682",
   "metadata": {
    "slideshow": {
     "slide_type": "subslide"
    }
   },
   "source": [
    "## A short discussion on nuisance parameters\n",
    "\n",
    "- <font color=\"green\">*Discuss in the lectures the concept of nuisance parameters*</font>\n",
    "- These are parameters that float in our fit but we do not care about the value of\n",
    "- The slope of our smoothly falling background is an example\n",
    "- These we will often \"profile over\" in likelihood fits\n",
    "- <font color=\"green\">Discussion of approach here regarding Feldman-Cousins intervals</font>\n",
    "    - The so-called \"plugin\" method\n",
    "    \n",
    "- In complex fits we quite often **fix** parameters (and thus propagate the uncertainty on them as a systematic)"
   ]
  },
  {
   "cell_type": "markdown",
   "id": "661da64e",
   "metadata": {
    "slideshow": {
     "slide_type": "subslide"
    }
   },
   "source": [
    "## A quick example of running a systematic\n",
    "\n",
    " - let's say I have the same fit I just used above\n",
    " - but I realise I made an assumption on the parametric form of the background\n",
    "     - I assumed it follows an exponential distribution\n",
    "     - Perhaps I don't have physical motivation for this and want to include a systematic effect for it"
   ]
  },
  {
   "cell_type": "markdown",
   "id": "f0fb5d0f",
   "metadata": {
    "slideshow": {
     "slide_type": "fragment"
    }
   },
   "source": [
    "- So will generate under some other assumption and then fit back to see what the systematic offset is"
   ]
  },
  {
   "cell_type": "code",
   "execution_count": 8,
   "id": "8d451451",
   "metadata": {
    "slideshow": {
     "slide_type": "fragment"
    }
   },
   "outputs": [
    {
     "data": {
      "text/html": [
       "<table>\n",
       "    <tr>\n",
       "        <th colspan=\"5\" style=\"text-align:center\" title=\"Minimizer\"> Migrad </th>\n",
       "    </tr>\n",
       "    <tr>\n",
       "        <td colspan=\"2\" style=\"text-align:left\" title=\"Minimum value of function\"> FCN = -6480 </td>\n",
       "        <td colspan=\"3\" style=\"text-align:center\" title=\"Total number of function and (optional) gradient evaluations\"> Nfcn = 188 </td>\n",
       "    </tr>\n",
       "    <tr>\n",
       "        <td colspan=\"2\" style=\"text-align:left\" title=\"Estimated distance to minimum and goal\"> EDM = 4.68e-05 (Goal: 0.0002) </td>\n",
       "        <td colspan=\"3\" style=\"text-align:center\" title=\"Total run time of algorithms\">  </td>\n",
       "    </tr>\n",
       "    <tr>\n",
       "        <td colspan=\"2\" style=\"text-align:center;background-color:#92CCA6;color:black\"> Valid Minimum </td>\n",
       "        <td colspan=\"3\" style=\"text-align:center;background-color:#92CCA6;color:black\"> No Parameters at limit </td>\n",
       "    </tr>\n",
       "    <tr>\n",
       "        <td colspan=\"2\" style=\"text-align:center;background-color:#92CCA6;color:black\"> Below EDM threshold (goal x 10) </td>\n",
       "        <td colspan=\"3\" style=\"text-align:center;background-color:#92CCA6;color:black\"> Below call limit </td>\n",
       "    </tr>\n",
       "    <tr>\n",
       "        <td style=\"text-align:center;background-color:#92CCA6;color:black\"> Covariance </td>\n",
       "        <td style=\"text-align:center;background-color:#92CCA6;color:black\"> Hesse ok </td>\n",
       "        <td style=\"text-align:center;background-color:#92CCA6;color:black\" title=\"Is covariance matrix accurate?\"> Accurate </td>\n",
       "        <td style=\"text-align:center;background-color:#92CCA6;color:black\" title=\"Is covariance matrix positive definite?\"> Pos. def. </td>\n",
       "        <td style=\"text-align:center;background-color:#92CCA6;color:black\" title=\"Was positive definiteness enforced by Minuit?\"> Not forced </td>\n",
       "    </tr>\n",
       "</table><table>\n",
       "    <tr>\n",
       "        <td></td>\n",
       "        <th title=\"Variable name\"> Name </th>\n",
       "        <th title=\"Value of parameter\"> Value </th>\n",
       "        <th title=\"Hesse error\"> Hesse Error </th>\n",
       "        <th title=\"Minos lower error\"> Minos Error- </th>\n",
       "        <th title=\"Minos upper error\"> Minos Error+ </th>\n",
       "        <th title=\"Lower limit of the parameter\"> Limit- </th>\n",
       "        <th title=\"Upper limit of the parameter\"> Limit+ </th>\n",
       "        <th title=\"Is the parameter fixed in the fit\"> Fixed </th>\n",
       "    </tr>\n",
       "    <tr>\n",
       "        <th> 0 </th>\n",
       "        <td> Ns </td>\n",
       "        <td> 424 </td>\n",
       "        <td> 29 </td>\n",
       "        <td>  </td>\n",
       "        <td>  </td>\n",
       "        <td> 0 </td>\n",
       "        <td> 2E+03 </td>\n",
       "        <td>  </td>\n",
       "    </tr>\n",
       "    <tr>\n",
       "        <th> 1 </th>\n",
       "        <td> mu </td>\n",
       "        <td> 125.01 </td>\n",
       "        <td> 0.21 </td>\n",
       "        <td>  </td>\n",
       "        <td>  </td>\n",
       "        <td> 110 </td>\n",
       "        <td> 140 </td>\n",
       "        <td>  </td>\n",
       "    </tr>\n",
       "    <tr>\n",
       "        <th> 2 </th>\n",
       "        <td> sg </td>\n",
       "        <td> 2.96 </td>\n",
       "        <td> 0.21 </td>\n",
       "        <td>  </td>\n",
       "        <td>  </td>\n",
       "        <td> 0 </td>\n",
       "        <td> 10 </td>\n",
       "        <td>  </td>\n",
       "    </tr>\n",
       "    <tr>\n",
       "        <th> 3 </th>\n",
       "        <td> Nb </td>\n",
       "        <td> 890 </td>\n",
       "        <td> 40 </td>\n",
       "        <td>  </td>\n",
       "        <td>  </td>\n",
       "        <td> 0 </td>\n",
       "        <td> 2E+03 </td>\n",
       "        <td>  </td>\n",
       "    </tr>\n",
       "    <tr>\n",
       "        <th> 4 </th>\n",
       "        <td> p </td>\n",
       "        <td> 38 </td>\n",
       "        <td> 4 </td>\n",
       "        <td>  </td>\n",
       "        <td>  </td>\n",
       "        <td> 0 </td>\n",
       "        <td> 100 </td>\n",
       "        <td>  </td>\n",
       "    </tr>\n",
       "</table><table>\n",
       "    <tr>\n",
       "        <td></td>\n",
       "        <th> Ns </th>\n",
       "        <th> mu </th>\n",
       "        <th> sg </th>\n",
       "        <th> Nb </th>\n",
       "        <th> p </th>\n",
       "    </tr>\n",
       "    <tr>\n",
       "        <th> Ns </th>\n",
       "        <td> 872 </td>\n",
       "        <td style=\"background-color:rgb(237,237,250);color:black\"> -0.633 <strong>(-0.102)</strong> </td>\n",
       "        <td style=\"background-color:rgb(250,183,183);color:black\"> 2.84 <strong>(0.449)</strong> </td>\n",
       "        <td style=\"background-color:rgb(196,196,250);color:black\"> -448 <strong>(-0.415)</strong> </td>\n",
       "        <td style=\"background-color:rgb(212,212,250);color:black\"> -35.7 <strong>(-0.289)</strong> </td>\n",
       "    </tr>\n",
       "    <tr>\n",
       "        <th> mu </th>\n",
       "        <td style=\"background-color:rgb(237,237,250);color:black\"> -0.633 <strong>(-0.102)</strong> </td>\n",
       "        <td> 0.0439 </td>\n",
       "        <td style=\"background-color:rgb(229,229,250);color:black\"> -0.0072 <strong>(-0.160)</strong> </td>\n",
       "        <td style=\"background-color:rgb(250,238,238);color:black\"> 0.633 <strong>(0.083)</strong> </td>\n",
       "        <td style=\"background-color:rgb(247,247,250);color:black\"> -0.0208 <strong>(-0.024)</strong> </td>\n",
       "    </tr>\n",
       "    <tr>\n",
       "        <th> sg </th>\n",
       "        <td style=\"background-color:rgb(250,183,183);color:black\"> 2.84 <strong>(0.449)</strong> </td>\n",
       "        <td style=\"background-color:rgb(229,229,250);color:black\"> -0.0072 <strong>(-0.160)</strong> </td>\n",
       "        <td> 0.0459 </td>\n",
       "        <td style=\"background-color:rgb(203,203,250);color:black\"> -2.84 <strong>(-0.363)</strong> </td>\n",
       "        <td style=\"background-color:rgb(219,219,250);color:black\"> -0.211 <strong>(-0.236)</strong> </td>\n",
       "    </tr>\n",
       "    <tr>\n",
       "        <th> Nb </th>\n",
       "        <td style=\"background-color:rgb(196,196,250);color:black\"> -448 <strong>(-0.415)</strong> </td>\n",
       "        <td style=\"background-color:rgb(250,238,238);color:black\"> 0.633 <strong>(0.083)</strong> </td>\n",
       "        <td style=\"background-color:rgb(203,203,250);color:black\"> -2.84 <strong>(-0.363)</strong> </td>\n",
       "        <td> 1.33e+03 </td>\n",
       "        <td style=\"background-color:rgb(250,215,215);color:black\"> 35.7 <strong>(0.234)</strong> </td>\n",
       "    </tr>\n",
       "    <tr>\n",
       "        <th> p </th>\n",
       "        <td style=\"background-color:rgb(212,212,250);color:black\"> -35.7 <strong>(-0.289)</strong> </td>\n",
       "        <td style=\"background-color:rgb(247,247,250);color:black\"> -0.0208 <strong>(-0.024)</strong> </td>\n",
       "        <td style=\"background-color:rgb(219,219,250);color:black\"> -0.211 <strong>(-0.236)</strong> </td>\n",
       "        <td style=\"background-color:rgb(250,215,215);color:black\"> 35.7 <strong>(0.234)</strong> </td>\n",
       "        <td> 17.4 </td>\n",
       "    </tr>\n",
       "</table>"
      ],
      "text/plain": [
       "┌─────────────────────────────────────────────────────────────────────────┐\n",
       "│                                Migrad                                   │\n",
       "├──────────────────────────────────┬──────────────────────────────────────┤\n",
       "│ FCN = -6480                      │              Nfcn = 188              │\n",
       "│ EDM = 4.68e-05 (Goal: 0.0002)    │                                      │\n",
       "├──────────────────────────────────┼──────────────────────────────────────┤\n",
       "│          Valid Minimum           │        No Parameters at limit        │\n",
       "├──────────────────────────────────┼──────────────────────────────────────┤\n",
       "│ Below EDM threshold (goal x 10)  │           Below call limit           │\n",
       "├───────────────┬──────────────────┼───────────┬─────────────┬────────────┤\n",
       "│  Covariance   │     Hesse ok     │ Accurate  │  Pos. def.  │ Not forced │\n",
       "└───────────────┴──────────────────┴───────────┴─────────────┴────────────┘\n",
       "┌───┬──────┬───────────┬───────────┬────────────┬────────────┬─────────┬─────────┬───────┐\n",
       "│   │ Name │   Value   │ Hesse Err │ Minos Err- │ Minos Err+ │ Limit-  │ Limit+  │ Fixed │\n",
       "├───┼──────┼───────────┼───────────┼────────────┼────────────┼─────────┼─────────┼───────┤\n",
       "│ 0 │ Ns   │    424    │    29     │            │            │    0    │  2000   │       │\n",
       "│ 1 │ mu   │  125.01   │   0.21    │            │            │   110   │   140   │       │\n",
       "│ 2 │ sg   │   2.96    │   0.21    │            │            │    0    │   10    │       │\n",
       "│ 3 │ Nb   │    890    │    40     │            │            │    0    │  2000   │       │\n",
       "│ 4 │ p    │    38     │     4     │            │            │    0    │   100   │       │\n",
       "└───┴──────┴───────────┴───────────┴────────────┴────────────┴─────────┴─────────┴───────┘\n",
       "┌────┬──────────────────────────────────────────────┐\n",
       "│    │       Ns       mu       sg       Nb        p │\n",
       "├────┼──────────────────────────────────────────────┤\n",
       "│ Ns │      872   -0.633     2.84     -448    -35.7 │\n",
       "│ mu │   -0.633   0.0439  -0.0072    0.633  -0.0208 │\n",
       "│ sg │     2.84  -0.0072   0.0459    -2.84   -0.211 │\n",
       "│ Nb │     -448    0.633    -2.84 1.33e+03     35.7 │\n",
       "│  p │    -35.7  -0.0208   -0.211     35.7     17.4 │\n",
       "└────┴──────────────────────────────────────────────┘"
      ]
     },
     "metadata": {},
     "output_type": "display_data"
    },
    {
     "data": {
      "image/png": "[encoded data removed]",
      "text/plain": [
       "<Figure size 640x480 with 1 Axes>"
      ]
     },
     "metadata": {},
     "output_type": "display_data"
    }
   ],
   "source": [
    "## Define alternate fit to data\n",
    "from scipy.stats import powerlaw, truncpareto\n",
    "\n",
    "# an alternate background model\n",
    "def alt_bkg_model(p):\n",
    "    scale = p\n",
    "    loc = xrange[0]-scale\n",
    "    c = ( xrange[1] - xrange[0] + scale ) / scale\n",
    "    return truncpareto(b=1, c=c, loc=loc, scale=scale)\n",
    "\n",
    "def alt_tot_model(x, Ns, mu, sg, Nb, p):\n",
    "    return Ns*sig_model(mu,sg).pdf(x) + Nb*alt_bkg_model(p).pdf(x)\n",
    "\n",
    "def alt_tot_density(x, Ns, mu, sg, Nb, p):\n",
    "    return Ns+Nb, alt_tot_model(x, Ns, mu, sg, Nb, p)\n",
    "\n",
    "# a generate function\n",
    "def alt_generate(Ns, mu, sg, Nb, p):\n",
    "\n",
    "    # generate poisson number of events first\n",
    "    Ns = np.random.poisson(Ns)\n",
    "    Nb = np.random.poisson(Nb)\n",
    "\n",
    "    # then generate from the model\n",
    "    b = alt_bkg_model(p)\n",
    "    s = sig_model(mu,sg)\n",
    "\n",
    "    bkg = b.rvs( size=Nb )\n",
    "    sig = s.rvs( size=Ns )\n",
    "\n",
    "    return np.concatenate( [bkg, sig] )\n",
    "\n",
    "# a fit function\n",
    "def alt_fit(dset):\n",
    "    n2ll = cost.ExtendedUnbinnedNLL( dset, alt_tot_density )\n",
    "    mi = Minuit( n2ll, Ns=450, mu=125, sg=3, Nb=900, p=8 )\n",
    "    mi.limits['Ns','Nb'] = (0,2000)\n",
    "    mi.limits['mu'] = (110,140)\n",
    "    mi.limits['sg'] = (0,10)\n",
    "    mi.limits['p'] = (0,100)\n",
    "    mi.migrad()\n",
    "    mi.hesse()\n",
    "    return mi\n",
    "\n",
    "alt_mi = alt_fit( data )\n",
    "alt_mi.visualize()\n",
    "display(alt_mi)"
   ]
  },
  {
   "cell_type": "code",
   "execution_count": 9,
   "id": "ea78ff0a",
   "metadata": {
    "slideshow": {
     "slide_type": "fragment"
    }
   },
   "outputs": [
    {
     "name": "stderr",
     "output_type": "stream",
     "text": [
      "100%|█████████████████████████████████████████████████████████████████████████████████████████████████████████████████████████████████████████████████████████| 250/250 [01:12<00:00,  3.43it/s]\n"
     ]
    }
   ],
   "source": [
    "# now bootstrap from here\n",
    "from tqdm import tqdm\n",
    "ntoys = 250\n",
    "gen_vals = list(alt_mi.values)\n",
    "fit_diff = []\n",
    "for i in tqdm(range(ntoys)):\n",
    "    alt_toy = alt_generate(*gen_vals)\n",
    "    alt_mi = alt_fit(alt_toy)\n",
    "    nom_mi = fit(alt_toy)\n",
    "    if alt_mi.valid and nom_mi.valid:\n",
    "        fit_diff.append( np.array(nom_ mi.values) - np.array(alt_mi.values) )\n",
    "    \n",
    "fit_diff = np.asarray(fit_diff)\n"
   ]
  },
  {
   "cell_type": "code",
   "execution_count": 10,
   "id": "f0d10f51",
   "metadata": {},
   "outputs": [
    {
     "data": {
      "image/png": "[encoded data removed]",
      "text/plain": [
       "<Figure size 1280x960 with 4 Axes>"
      ]
     },
     "metadata": {},
     "output_type": "display_data"
    }
   ],
   "source": [
    "from scipy.stats import norm\n",
    "\n",
    "fig, axes = plt.subplots(2, 2, figsize=(12.8, 9.6))\n",
    "for (i, par), ax in zip( enumerate(['Ns','mu','sg','Nb']), axes.flatten() ):\n",
    "    \n",
    "    ax.hist( fit_diff[:,i], density=True, bins=50)\n",
    "    ax.axvline(0, c='k')\n",
    "    ax.axvline(nom_errs[i], c='g', ls='--', label='Stat Error')\n",
    "    ax.axvline(np.mean(fit_diff[:,i]), c='r', ls='--', label='Syst Error')\n",
    "    ax.set_xlabel(par)\n",
    "    ax.legend()\n"
   ]
  },
  {
   "cell_type": "markdown",
   "id": "9bfa0161",
   "metadata": {
    "slideshow": {
     "slide_type": "slide"
    }
   },
   "source": [
    "## Some recommendations on systematics (in the absence of the bootstrap possibility)\n",
    "\n",
    "- With one preferred result and one variation, quote\n",
    " \n",
    "$$ R_1 \\pm |R_1 - R_2| $$\n",
    "\n",
    "- With two variations of equal status, quote\n",
    "\n",
    "$$ \\frac{R_1 + R_2}{2} \\pm \\bigg| \\frac{R_1 - R_2}{\\sqrt 2} \\bigg| $$\n",
    "\n",
    "- With N variations of equal status, quote\n",
    "\n",
    "$$  \\overline R  \\pm \\sqrt{\\frac{N}{N-1} \\big( \\overline{R^2} - \\overline{R}^2  \\big) } $$\n",
    "\n",
    "- With one preferred result and one extreme variation, quote\n",
    "\n",
    "$$  R_1 \\pm \\frac{|R_1 - R_2|}{\\sqrt{3}} $$\n",
    "\n",
    "- With two extreme variations, quote\n",
    "\n",
    "$$  \\frac{R_1 + R_2}{2} \\pm \\frac{|R_1 - R_2|}{\\sqrt{12}} $$\n",
    "\n",
    "- With N extreme variations, quote\n",
    "\n",
    "$$ \\text{median}(R) \\pm \\frac{\\max(R) - \\min(R)}{\\sqrt{12}} $$"
   ]
  },
  {
   "cell_type": "markdown",
   "id": "d3b93c0c",
   "metadata": {
    "slideshow": {
     "slide_type": "slide"
    }
   },
   "source": [
    "## Mention the \"Asimov\" sample\n",
    "\n",
    "- A very, very special (and highly useful case)\n",
    "- Will cover the details in the lectures"
   ]
  },
  {
   "cell_type": "markdown",
   "id": "9c96f171",
   "metadata": {
    "slideshow": {
     "slide_type": "slide"
    }
   },
   "source": [
    "# End of Lecture 19\n",
    "\n",
    "By the end of this lecture you should:\n",
    "   - See how resampling methods are applied\n",
    "   - Understand a few principles behind computation of systematic uncertainties"
   ]
  }
 ],
 "metadata": {
  "celltoolbar": "Slideshow",
  "kernelspec": {
   "display_name": "Python 3 (ipykernel)",
   "language": "python",
   "name": "python3"
  },
  "language_info": {
   "codemirror_mode": {
    "name": "ipython",
    "version": 3
   },
   "file_extension": ".py",
   "mimetype": "text/x-python",
   "name": "python",
   "nbconvert_exporter": "python",
   "pygments_lexer": "ipython3",
   "version": "3.9.16"
  },
  "rise": {
   "enable_chalkboard": true,
   "scroll": true
  }
 },
 "nbformat": 4,
 "nbformat_minor": 5
}
