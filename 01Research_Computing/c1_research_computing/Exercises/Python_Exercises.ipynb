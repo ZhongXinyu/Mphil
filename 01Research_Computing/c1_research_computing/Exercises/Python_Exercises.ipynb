{
 "cells": [
  {
   "cell_type": "markdown",
   "metadata": {},
   "source": [
    "### Exercise - 04\n",
    "\n",
    "1. Calculate sin(0.1) using its taylor expansion to order 5\n",
    "2. Print the result as a descriptive string stating the order expanded to and value to 5 decimal places\n",
    "3. Construct a function which returns a list of prime numbers less than a given integer, N\n",
    "4. Construct a function which returns a list of the first N terms in the Recaman's sequence (http://mathworld.wolfram.com/RecamansSequence.html)\n",
    "5. Compute a list of the numbers which appear in both lists when they are both N items long\n",
    "6. Create a list of all pairs of factors (as tuples) of 362880 using list comprehension.\n",
    "7. Write a generator function for a random walk, step size 1, which is equally likely to go up or down.  End the generator when you have total displacement of 10 steps (you will need a random number generator like `random.randint(a,b)` which gives a random integer between a and b inclusive, you will need to add the line `import random` at the top in order to use it)"
   ]
  },
  {
   "cell_type": "markdown",
   "metadata": {},
   "source": [
    "### Exercises - 05\n",
    "\n",
    "1. Create a set of orthogonal polynomials.\n",
    "\n",
    "    Suppose you net to create a set of $N$ orthonormal polynomials with respect to an inner product define by $\\left<P_{n} P_{m} \\right> = \\int_0^1 P_{n}(x) P_{m}(x) W(x) dx$ where the weight function is $W(x) = \\sin(\\ln (x+1))$.  \n",
    "    \n",
    "    These can be created via the following method.  We require the polynomials to be orthonormal so:\n",
    "\n",
    "    $I_{nm} = \\left<P_{n} P_{m} \\right>$\n",
    "\n",
    "    and we can represent polynomials as:\n",
    "\n",
    "    $P_n = \\sum_m \\lambda_{nm} x^m$\n",
    "\n",
    "    where the rows of $\\lambda$ are the coefficents for each polynomial. By substitution\n",
    "\n",
    "    $I_{nm} = \\left<\\lambda_{ni} x^i \\lambda_{mj} x^j \\right> = \\lambda_{ni} \\lambda_{mj} \\left<x^i x^j \\right> $\n",
    "\n",
    "    If we define the correlation matrix for monomials\n",
    "\n",
    "    $M _{nm}= \\left<x^n x^m\\right>$\n",
    "\n",
    "    the above previous becomes (in matrix form):\n",
    "\n",
    "    $ I = \\lambda M \\lambda^T$\n",
    "\n",
    "    So the solution is to decompose $M$ into $LL^T$ form then invert $L$ to get $\\lambda$\n",
    "\n",
    "    a. Calculating the correlation matrix, $M$, up to degree 5.\n",
    "\n",
    "    b. Diagonalise this matrix to produce the coefficents (Any decomposition where the matrix becomes $\\lambda\\lambda^T$ works.  Cholesky will mimic Gram-Schmitt Orthonormalisation so is a good choice but eigen decompositions are also fine).\n",
    "\n",
    "    c. Use $\\lambda$ to create a function that generate the polynomials\n",
    "    \n",
    "    d. Check that the polynomials $P_n(x)$ are indeed orthonormal, by computing $\\left<P_{n} P_{m} \\right>$ explicitly.\n",
    "\n",
    "2. Plot a lovely Rainbow, ie:\n",
    "![](../Plots/Rainbow.png)\n",
    "3. Generate a 2d multivariate data set with mean [1,2] and covariance [[1,2],[2,5]] then plot it like this:\n",
    "![](../Plots/Multivar.png)\n"
   ]
  },
  {
   "cell_type": "markdown",
   "metadata": {},
   "source": []
  },
  {
   "cell_type": "markdown",
   "metadata": {},
   "source": [
    "### Exercises - 06:\n",
    "Build a class for fractions (python already has one of these but we'll pretend that it doesn't for now so don't call it \"fraction\"). The class should do the following:\n",
    "1. Store fractions as number pairs eg: 3/4 = (3,4)\n",
    "2. Have a definitions for +,-,*,/,<,>,=\n",
    "3. Have a function reduce that takes the fraction to its lowest terms, i.e. (2,4) -> (1,2)\n",
    "4. Returns a sensible expression to print\n",
    "\n",
    "Design a decorator to time how long functions take to run and output it as a string.\n",
    "You will need commands from the built-in module `time`"
   ]
  },
  {
   "cell_type": "markdown",
   "metadata": {},
   "source": []
  }
 ],
 "metadata": {
  "kernelspec": {
   "display_name": "Python 3 (ipykernel)",
   "language": "python",
   "name": "python3"
  },
  "language_info": {
   "codemirror_mode": {
    "name": "ipython",
    "version": 3
   },
   "file_extension": ".py",
   "mimetype": "text/x-python",
   "name": "python",
   "nbconvert_exporter": "python",
   "pygments_lexer": "ipython3",
   "version": "3.11.5"
  }
 },
 "nbformat": 4,
 "nbformat_minor": 4
}
