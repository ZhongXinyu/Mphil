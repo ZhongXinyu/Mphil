{
 "cells": [
  {
   "cell_type": "markdown",
   "id": "47468801",
   "metadata": {
    "slideshow": {
     "slide_type": "slide"
    }
   },
   "source": [
    "# Principles of Data Science\n",
    "\n",
    "### Lecture 13: Test statistics and the method of moments\n",
    "\n",
    "_MPhil in Data Intensive Science_\n",
    "\n",
    "**University of Cambridge**\n",
    "\n",
    "<h2 style=\"color: blue\">Matt Kenzie</h2>\n",
    "\n",
    "[mk652@cam.ac.uk](mailto:mk652@cam.ac.uk)"
   ]
  },
  {
   "cell_type": "code",
   "execution_count": null,
   "id": "236e508f",
   "metadata": {},
   "outputs": [],
   "source": []
  },
  {
   "cell_type": "markdown",
   "id": "08641518",
   "metadata": {
    "slideshow": {
     "slide_type": "subslide"
    }
   },
   "source": [
    "## Test statistics and the method of moments\n",
    "\n",
    "- Today's lecture covers \n",
    "\n",
    "    - Test statistics\n",
    "    - The method of moments\n",
    "    \n",
    "- This is a short lecture to build in some buffer space for the previous 3 very packed lectures\n",
    "\n",
    "- Learning objectives:\n",
    "   - Know what a test statistic is and how to use it\n",
    "   - Understand and be able to produce Method of Moments estimates"
   ]
  },
  {
   "cell_type": "markdown",
   "id": "2c0c66fc",
   "metadata": {
    "slideshow": {
     "slide_type": "subslide"
    }
   },
   "source": [
    "## Recap\n",
    "\n",
    "- We have previously seen estimation via maximum likelihood and least-squares\n",
    "- An important application of these is not just in point estimates of parameters (central values) but also estimates of the uncertainty on those estimates\n"
   ]
  },
  {
   "cell_type": "markdown",
   "id": "f96a7a43",
   "metadata": {
    "slideshow": {
     "slide_type": "slide"
    }
   },
   "source": [
    "## Test statistics\n",
    "\n",
    "- A *test statistic* (sometimes just *statistic*) is some function of the estimated parameters\n",
    "\n",
    "$$ T = f(\\hat{\\theta})$$\n",
    "\n",
    "- Ideally it is informative\n",
    "\n",
    "- But it can be anything you want\n",
    "    - e.g. if determinining heights in this class could use the minutes since birth \n",
    "    - this would not be a very useful test statistic\n",
    "    \n",
    "- Particularly useful when trying to distinguish between hypothesis (as we will see later)\n",
    "\n",
    "- For now just remember that a particualrly powerful test-statistics is the LLR\n",
    "\n",
    "$$ T = \\ln \\left( \\frac{ L_1(\\hat{\\theta}) }{L_2(\\hat{\\theta})} \\right) $$"
   ]
  },
  {
   "cell_type": "markdown",
   "id": "35b3749d",
   "metadata": {
    "slideshow": {
     "slide_type": "slide"
    }
   },
   "source": [
    "## The method of moments\n",
    "\n",
    "- We have now seen ML and least-squares estimates\n",
    "- These have close to optimal properties\n",
    "    - particularly for large $N$\n",
    "- Sometimes, however, they are hard to implement\n",
    "    - computing resources\n",
    "    - difficulty differentiating the likelihood\n",
    "    \n",
    "- The method of moments (MoM) provides an alternative"
   ]
  },
  {
   "cell_type": "markdown",
   "id": "300eae79",
   "metadata": {
    "slideshow": {
     "slide_type": "subslide"
    }
   },
   "source": [
    "## The law of large numbers\n",
    "\n",
    "- MoM is entirely based on the fact that sample estiamtes of the moments tend to the true moments for large $N$\n",
    "- Recall this is the *law of large numbers*\n",
    "- For the mean:\n",
    "\n",
    "$$ \\bar{X} = \\frac{1}{N} \\sum_{i=1}^N X_i \\to \\;\\; \\mu \\;\\;\\; \\text{ as } \\;\\;\\; N\\to\\infty $$\n",
    "\n",
    "- For any moment about zero:\n",
    "\n",
    "$$ \\hat{\\mu}_\\alpha = \\frac{1}{N} \\sum_{i=1}^N X_i^\\alpha   \\to \\;\\; \\mu_\\alpha \\;\\;\\; \\text{ as } \\;\\;\\; N\\to\\infty $$\n",
    "\n",
    "- For any moment about the mean\n",
    "\n",
    "$$ \\hat{\\mu}'_{\\alpha} = \\frac{1}{N} \\sum_{i=1}^N (X_i - \\bar{X})^\\alpha  \\to \\;\\; \\mu_\\alpha \\;\\;\\; \\text{ as } \\;\\;\\; N\\to\\infty $$ \n"
   ]
  },
  {
   "cell_type": "markdown",
   "id": "b885d3cc",
   "metadata": {
    "slideshow": {
     "slide_type": "slide"
    }
   },
   "source": [
    "## Method of Moments demonstration\n",
    "\n",
    "- <font color=\"green\">*See hand written notes in lectures*</font>\n",
    "- example for normal distribution\n",
    "    - gives unbiased and consistent estimate (as efficient as ML or least-sqaures)\n",
    "- example for for angular distribution of $\\mu^- \\to e^- \\nu_e \\bar{\\nu}_{\\mu}$ decays \n",
    "    - if any moment is zero just move on to the next one\n",
    "    - or use the moment about the mean"
   ]
  },
  {
   "cell_type": "markdown",
   "id": "49cd53f3",
   "metadata": {
    "slideshow": {
     "slide_type": "slide"
    }
   },
   "source": [
    "# <font color=\"darkred\">*Musical interlude...*</font>"
   ]
  },
  {
   "cell_type": "markdown",
   "id": "fb3d43cd",
   "metadata": {
    "slideshow": {
     "slide_type": "slide"
    }
   },
   "source": [
    "## Some MoM examples\n",
    "\n",
    "- First the very easy normal distribution example\n",
    "    - $\\mu = \\theta_1 = \\mu_1$\n",
    "    - $\\sigma = \\theta_2 = \\sqrt{\\mu_2 - \\mu_1^2} $"
   ]
  },
  {
   "cell_type": "code",
   "execution_count": 1,
   "id": "01baf3c5",
   "metadata": {
    "slideshow": {
     "slide_type": "fragment"
    }
   },
   "outputs": [
    {
     "data": {
      "text/html": [
       "<table>\n",
       "    <tr>\n",
       "        <th colspan=\"5\" style=\"text-align:center\" title=\"Minimizer\"> Migrad </th>\n",
       "    </tr>\n",
       "    <tr>\n",
       "        <td colspan=\"2\" style=\"text-align:left\" title=\"Minimum value of function\"> FCN = 1.126e+04 </td>\n",
       "        <td colspan=\"3\" style=\"text-align:center\" title=\"Total number of function and (optional) gradient evaluations\"> Nfcn = 46 </td>\n",
       "    </tr>\n",
       "    <tr>\n",
       "        <td colspan=\"2\" style=\"text-align:left\" title=\"Estimated distance to minimum and goal\"> EDM = 2.4e-06 (Goal: 0.0002) </td>\n",
       "        <td colspan=\"3\" style=\"text-align:center\" title=\"Total run time of algorithms\">  </td>\n",
       "    </tr>\n",
       "    <tr>\n",
       "        <td colspan=\"2\" style=\"text-align:center;background-color:#92CCA6;color:black\"> Valid Minimum </td>\n",
       "        <td colspan=\"3\" style=\"text-align:center;background-color:#92CCA6;color:black\"> No Parameters at limit </td>\n",
       "    </tr>\n",
       "    <tr>\n",
       "        <td colspan=\"2\" style=\"text-align:center;background-color:#92CCA6;color:black\"> Below EDM threshold (goal x 10) </td>\n",
       "        <td colspan=\"3\" style=\"text-align:center;background-color:#92CCA6;color:black\"> Below call limit </td>\n",
       "    </tr>\n",
       "    <tr>\n",
       "        <td style=\"text-align:center;background-color:#92CCA6;color:black\"> Covariance </td>\n",
       "        <td style=\"text-align:center;background-color:#92CCA6;color:black\"> Hesse ok </td>\n",
       "        <td style=\"text-align:center;background-color:#92CCA6;color:black\" title=\"Is covariance matrix accurate?\"> Accurate </td>\n",
       "        <td style=\"text-align:center;background-color:#92CCA6;color:black\" title=\"Is covariance matrix positive definite?\"> Pos. def. </td>\n",
       "        <td style=\"text-align:center;background-color:#92CCA6;color:black\" title=\"Was positive definiteness enforced by Minuit?\"> Not forced </td>\n",
       "    </tr>\n",
       "</table><table>\n",
       "    <tr>\n",
       "        <td></td>\n",
       "        <th title=\"Variable name\"> Name </th>\n",
       "        <th title=\"Value of parameter\"> Value </th>\n",
       "        <th title=\"Hesse error\"> Hesse Error </th>\n",
       "        <th title=\"Minos lower error\"> Minos Error- </th>\n",
       "        <th title=\"Minos upper error\"> Minos Error+ </th>\n",
       "        <th title=\"Lower limit of the parameter\"> Limit- </th>\n",
       "        <th title=\"Upper limit of the parameter\"> Limit+ </th>\n",
       "        <th title=\"Is the parameter fixed in the fit\"> Fixed </th>\n",
       "    </tr>\n",
       "    <tr>\n",
       "        <th> 0 </th>\n",
       "        <td> mu </td>\n",
       "        <td> 2.02 </td>\n",
       "        <td> 0.09 </td>\n",
       "        <td>  </td>\n",
       "        <td>  </td>\n",
       "        <td>  </td>\n",
       "        <td>  </td>\n",
       "        <td>  </td>\n",
       "    </tr>\n",
       "    <tr>\n",
       "        <th> 1 </th>\n",
       "        <td> sg </td>\n",
       "        <td> 4.04 </td>\n",
       "        <td> 0.06 </td>\n",
       "        <td>  </td>\n",
       "        <td>  </td>\n",
       "        <td>  </td>\n",
       "        <td>  </td>\n",
       "        <td>  </td>\n",
       "    </tr>\n",
       "</table><table>\n",
       "    <tr>\n",
       "        <td></td>\n",
       "        <th> mu </th>\n",
       "        <th> sg </th>\n",
       "    </tr>\n",
       "    <tr>\n",
       "        <th> mu </th>\n",
       "        <td> 0.00816 </td>\n",
       "        <td style=\"background-color:rgb(250,250,250);color:black\"> 4.46e-06 </td>\n",
       "    </tr>\n",
       "    <tr>\n",
       "        <th> sg </th>\n",
       "        <td style=\"background-color:rgb(250,250,250);color:black\"> 4.46e-06 </td>\n",
       "        <td> 0.00408 </td>\n",
       "    </tr>\n",
       "</table>"
      ],
      "text/plain": [
       "┌─────────────────────────────────────────────────────────────────────────┐\n",
       "│                                Migrad                                   │\n",
       "├──────────────────────────────────┬──────────────────────────────────────┤\n",
       "│ FCN = 1.126e+04                  │              Nfcn = 46               │\n",
       "│ EDM = 2.4e-06 (Goal: 0.0002)     │                                      │\n",
       "├──────────────────────────────────┼──────────────────────────────────────┤\n",
       "│          Valid Minimum           │        No Parameters at limit        │\n",
       "├──────────────────────────────────┼──────────────────────────────────────┤\n",
       "│ Below EDM threshold (goal x 10)  │           Below call limit           │\n",
       "├───────────────┬──────────────────┼───────────┬─────────────┬────────────┤\n",
       "│  Covariance   │     Hesse ok     │ Accurate  │  Pos. def.  │ Not forced │\n",
       "└───────────────┴──────────────────┴───────────┴─────────────┴────────────┘\n",
       "┌───┬──────┬───────────┬───────────┬────────────┬────────────┬─────────┬─────────┬───────┐\n",
       "│   │ Name │   Value   │ Hesse Err │ Minos Err- │ Minos Err+ │ Limit-  │ Limit+  │ Fixed │\n",
       "├───┼──────┼───────────┼───────────┼────────────┼────────────┼─────────┼─────────┼───────┤\n",
       "│ 0 │ mu   │   2.02    │   0.09    │            │            │         │         │       │\n",
       "│ 1 │ sg   │   4.04    │   0.06    │            │            │         │         │       │\n",
       "└───┴──────┴───────────┴───────────┴────────────┴────────────┴─────────┴─────────┴───────┘\n",
       "┌────┬───────────────────┐\n",
       "│    │       mu       sg │\n",
       "├────┼───────────────────┤\n",
       "│ mu │  0.00816 4.46e-06 │\n",
       "│ sg │ 4.46e-06  0.00408 │\n",
       "└────┴───────────────────┘"
      ]
     },
     "execution_count": 1,
     "metadata": {},
     "output_type": "execute_result"
    }
   ],
   "source": [
    "import numpy as np\n",
    "import scipy as sp\n",
    "from iminuit import Minuit, cost\n",
    "\n",
    "x = np.random.normal(2 ,4, size=2000)\n",
    "\n",
    "# MoM\n",
    "\n",
    "# function to compute mean from moments\n",
    "def mu(m1, m2):\n",
    "    return m1\n",
    "\n",
    "# function to compute sigma from moments\n",
    "def sg(m1, m2):\n",
    "    return np.sqrt( m2 - m1**2 )\n",
    "\n",
    "# compute 1st and 2nd central moments from sample\n",
    "m1_hat = sp.stats.moment(x, moment=1, center=0)\n",
    "m2_hat = sp.stats.moment(x, moment=2, center=0)\n",
    "\n",
    "# propagate to estimates of mu and sg\n",
    "mu_hat = mu(m1_hat, m2_hat)\n",
    "sg_hat = sg(m1_hat, m2_hat)\n",
    "\n",
    "# and do a minuit fit\n",
    "def model(x, mu, sg):\n",
    "    return sp.stats.norm.pdf(x, mu, sg)\n",
    "\n",
    "nll = cost.UnbinnedNLL(x, model )\n",
    "mi  = Minuit(nll, mu=1, sg=3)\n",
    "mi.migrad()\n"
   ]
  },
  {
   "cell_type": "code",
   "execution_count": 2,
   "id": "e7657243",
   "metadata": {
    "slideshow": {
     "slide_type": "fragment"
    }
   },
   "outputs": [
    {
     "name": "stdout",
     "output_type": "stream",
     "text": [
      "MLE: 2.0235362762768005 4.039245378125887\n",
      "MOM: 2.0236652170943334 4.03920710804216\n",
      "┌────┬───────────────────┐\n",
      "│    │       mu       sg │\n",
      "├────┼───────────────────┤\n",
      "│ mu │  0.00816 4.46e-06 │\n",
      "│ sg │ 4.46e-06  0.00408 │\n",
      "└────┴───────────────────┘\n"
     ]
    }
   ],
   "source": [
    "print('MLE:', *mi.values )\n",
    "print('MOM:', mu_hat, sg_hat)\n",
    "\n",
    "print(mi.covariance)"
   ]
  },
  {
   "cell_type": "markdown",
   "id": "5e2d633c",
   "metadata": {
    "slideshow": {
     "slide_type": "subslide"
    }
   },
   "source": [
    "## What about uncertainties from MoM estimates?\n",
    "\n",
    "- Recall from earlier in the lectures how we estimate the covariance between two sample estimates (with Bessel correction)\n",
    "- This gives a sample estimate of the covariance on the estimates, $\\hat{\\mu}$:\n",
    "\n",
    "$$ \\widehat{\\text{cov}}(\\hat{\\mu}_\\alpha, \\hat{\\mu}_\\beta) = \\frac{1}{n(n-1)} \\sum_{i=1}^N (X_i^\\alpha - \\overline{X^\\alpha}_i)(X^\\beta_i - \\overline{X^\\beta}_i) $$\n",
    "\n",
    "- Can then propagate this covariance to the $\\hat{\\theta}$ as we have functions of $\\theta$ in terms of $\\mu$:\n",
    "\n",
    "$$ \\text{cov}(\\theta_i,\\theta_j) = \\sum_{k,l} \\frac{\\partial \\theta_i}{\\partial \\mu_k}\\frac{\\partial \\theta_j}{\\partial\\mu_l} \\text{cov}(\\mu_k, \\mu_l) $$\n",
    "\n",
    "- For this example I exploit the [`jacobi`](https://hdembinski.github.io/jacobi/) python package for error propagation"
   ]
  },
  {
   "cell_type": "code",
   "execution_count": 3,
   "id": "d8e60e32",
   "metadata": {
    "slideshow": {
     "slide_type": "fragment"
    }
   },
   "outputs": [],
   "source": [
    "## covariance of moment estimates\n",
    "N = len(x)\n",
    "\n",
    "x1_bar = np.mean(x)\n",
    "x2_bar = np.mean(x**2)\n",
    "\n",
    "cov_x11 = 1/(N*(N-1)) * np.sum( (x-x1_bar) * ( x - x1_bar) )\n",
    "cov_x12 = 1/(N*(N-1)) * np.sum( (x-x1_bar) * ( x**2 - x2_bar) )\n",
    "cov_x22 = 1/(N*(N-1)) * np.sum( (x**2-x2_bar) * ( x**2 - x2_bar) )\n",
    "\n",
    "cov_mus_hat = np.array( [ [cov_x11, cov_x12], [ cov_x12, cov_x22] ] )\n"
   ]
  },
  {
   "cell_type": "code",
   "execution_count": 4,
   "id": "7d36b5b3",
   "metadata": {
    "slideshow": {
     "slide_type": "fragment"
    }
   },
   "outputs": [],
   "source": [
    "# propagate to parameter estimates\n",
    "\n",
    "from jacobi import propagate\n",
    "\n",
    "# jacobi needs a single wrapped function\n",
    "theta = lambda p: np.array([ mu(*p), sg(*p) ])\n",
    "\n",
    "mom, mom_cov = propagate( theta, [m1_hat, m2_hat], cov_mus_hat)"
   ]
  },
  {
   "cell_type": "markdown",
   "id": "1fd5dc0c",
   "metadata": {
    "slideshow": {
     "slide_type": "subslide"
    }
   },
   "source": [
    "## Comparison with MLE\n",
    "\n",
    "- Differences are just in the computation numerics"
   ]
  },
  {
   "cell_type": "code",
   "execution_count": 5,
   "id": "7f16397f",
   "metadata": {},
   "outputs": [
    {
     "name": "stdout",
     "output_type": "stream",
     "text": [
      "MLE: 2.0235362762768005 4.039245378125887\n",
      "MoM: 2.0236652170943334 4.03920710804216\n",
      "MLE_err: 0.09032029945228127 0.06386695548065455\n",
      "MoM_err: 0.09034200501297299 0.06388671459541279\n",
      "MLE_cov:\n",
      "┌────┬───────────────────┐\n",
      "│    │       mu       sg │\n",
      "├────┼───────────────────┤\n",
      "│ mu │  0.00816 4.46e-06 │\n",
      "│ sg │ 4.46e-06  0.00408 │\n",
      "└────┴───────────────────┘\n",
      "MoM_cov:\n",
      "[[0.00816168 0.00024794]\n",
      " [0.00024794 0.00408151]]\n"
     ]
    }
   ],
   "source": [
    "print('MLE:', *mi.values)\n",
    "print('MoM:', *mom)\n",
    "\n",
    "print('MLE_err:', *mi.errors)\n",
    "print('MoM_err:', *np.sqrt(np.diag(mom_cov)))\n",
    "\n",
    "print('MLE_cov:')\n",
    "print(mi.covariance)\n",
    "\n",
    "print('MoM_cov:')\n",
    "print(mom_cov)"
   ]
  },
  {
   "cell_type": "markdown",
   "id": "3585ed41",
   "metadata": {
    "slideshow": {
     "slide_type": "slide"
    }
   },
   "source": [
    "## An MoM example for you\n",
    "\n",
    "- You can have a go at this one\n",
    "- probability distribution is\n",
    "\n",
    "$$ f(X;\\alpha, \\beta) = N [ 1 + \\alpha x + \\beta x^2 ] \\;\\; \\text{ for }  a < x < b $$\n",
    "\n",
    "- the details are in Problem Sheet 3\n"
   ]
  },
  {
   "cell_type": "code",
   "execution_count": 6,
   "id": "1347cd64",
   "metadata": {
    "slideshow": {
     "slide_type": "notes"
    }
   },
   "outputs": [],
   "source": [
    "# accept-reject\n",
    "xrange = (-3, 3)\n",
    "true_alpha = 1.3\n",
    "true_beta = 2.4\n",
    "\n",
    "# norm terms for pdf\n",
    "d1 = xrange[1] - xrange[0]\n",
    "d2 = (xrange[1]**2 -xrange[0]**2)/2 \n",
    "d3 = (xrange[1]**3 -xrange[0]**3)/3 \n",
    "\n",
    "def pdf(x, alpha, beta):\n",
    "    \n",
    "    return (1 + alpha*x + beta*x**2) / (d1 + alpha*d2 + beta*d3)\n",
    "\n",
    "# find max pdf\n",
    "from scipy.optimize import minimize\n",
    "truef = lambda x: -pdf(x, true_alpha, true_beta)\n",
    "x = minimize(truef, x0=[0], bounds=[xrange])\n",
    "maxy = -truef(x.x[0])\n",
    "\n",
    "def gen(size=1):\n",
    "    evs = []\n",
    "    while len(evs)<size:\n",
    "        # gen [-pi,pi]\n",
    "        x = np.random.uniform(*xrange)\n",
    "        # gen [0,maxy]\n",
    "        y = np.random.uniform(0,maxy)\n",
    "        # eval pdf\n",
    "        p = pdf(x, true_alpha, true_beta)\n",
    "        # accept-reject\n",
    "        if y<p:\n",
    "            evs.append(x)\n",
    "    if size==1:\n",
    "        return evs[0]\n",
    "    else:\n",
    "        return np.array(evs)\n"
   ]
  },
  {
   "cell_type": "code",
   "execution_count": 7,
   "id": "54e3caf5",
   "metadata": {
    "slideshow": {
     "slide_type": "notes"
    }
   },
   "outputs": [],
   "source": [
    "# gen sample\n",
    "x_i = gen(size=10000)"
   ]
  },
  {
   "cell_type": "code",
   "execution_count": 8,
   "id": "5f8f5356",
   "metadata": {
    "scrolled": false,
    "slideshow": {
     "slide_type": "notes"
    }
   },
   "outputs": [
    {
     "data": {
      "text/plain": [
       "[<matplotlib.lines.Line2D at 0x1580a9d60>]"
      ]
     },
     "execution_count": 8,
     "metadata": {},
     "output_type": "execute_result"
    },
    {
     "data": {
      "image/png": "[encoded data removed]",
      "text/plain": [
       "<Figure size 640x480 with 1 Axes>"
      ]
     },
     "metadata": {},
     "output_type": "display_data"
    }
   ],
   "source": [
    "# check it looks ok\n",
    "import matplotlib.pyplot as plt\n",
    "plt.style.use('../mphil.mplstyle')\n",
    "plt.hist(x_i, density=True, bins=200)\n",
    "x = np.linspace(*xrange,100)\n",
    "plt.plot(x, pdf(x, true_alpha, true_beta))"
   ]
  },
  {
   "cell_type": "markdown",
   "id": "71ebf155",
   "metadata": {},
   "source": [
    "<font color=\"red\">**You will need to finish off this example...**</font>"
   ]
  },
  {
   "cell_type": "markdown",
   "id": "9c96f171",
   "metadata": {
    "slideshow": {
     "slide_type": "slide"
    }
   },
   "source": [
    "# End of Lecture 13\n",
    "\n",
    "By the end of this lecture you should:\n",
    "   - Know what a test statistic is and how to use it\n",
    "   - Understand and be able to produce Method of Moments estimates"
   ]
  }
 ],
 "metadata": {
  "celltoolbar": "Slideshow",
  "kernelspec": {
   "display_name": "Python 3 (ipykernel)",
   "language": "python",
   "name": "python3"
  },
  "language_info": {
   "codemirror_mode": {
    "name": "ipython",
    "version": 3
   },
   "file_extension": ".py",
   "mimetype": "text/x-python",
   "name": "python",
   "nbconvert_exporter": "python",
   "pygments_lexer": "ipython3",
   "version": "3.9.16"
  },
  "rise": {
   "enable_chalkboard": true,
   "scroll": true
  }
 },
 "nbformat": 4,
 "nbformat_minor": 5
}
