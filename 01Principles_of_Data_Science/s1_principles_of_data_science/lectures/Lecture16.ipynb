{
 "cells": [
  {
   "cell_type": "markdown",
   "id": "47468801",
   "metadata": {
    "slideshow": {
     "slide_type": "slide"
    }
   },
   "source": [
    "# Principles of Data Science\n",
    "\n",
    "### Lecture 16: Hypothesis testing\n",
    "\n",
    "_MPhil in Data Intensive Science_\n",
    "\n",
    "**University of Cambridge**\n",
    "\n",
    "<h2 style=\"color: blue\">Matt Kenzie</h2>\n",
    "\n",
    "[mk652@cam.ac.uk](mailto:mk652@cam.ac.uk)"
   ]
  },
  {
   "cell_type": "markdown",
   "id": "08641518",
   "metadata": {
    "slideshow": {
     "slide_type": "slide"
    }
   },
   "source": [
    "## Hypothesis testing\n",
    "\n",
    "- Today's lecture covers \n",
    "    - Hypothesis testing\n",
    "\n",
    "- Learning objectives:\n",
    "    - Understand the concept of a <font color=\"blue\">hypothesis test</font>\n",
    "    - Be able to distinguish <font color=\"blue\">Type-I</font> and <font color=\"blue\">Type-II errors</font> arise\n",
    "    - Understand how to quanitfy the <font color=\"blue\">statistical power</font> of a test\n",
    "    - Be able to proove that the most powerful test is the <font color=\"blue\">Neyman-Pearson test</font>"
   ]
  },
  {
   "cell_type": "markdown",
   "id": "21c210b1",
   "metadata": {
    "slideshow": {
     "slide_type": "subslide"
    }
   },
   "source": [
    "## Hypothesis testing\n",
    "\n",
    "- Goodness of fit tests are a type of hypothesis test\n",
    "- Compare the model we fit (call it hypothesis $H_0$) against all other possible hypotheses\n",
    "- We can of course be much more powerful if we compare two specific hypotheses\n",
    "    - Often referred to as the *null hypothesis* ($H_0$) and the *alternate hypothesis* ($H_1$)"
   ]
  },
  {
   "cell_type": "markdown",
   "id": "bb9bfa23",
   "metadata": {
    "slideshow": {
     "slide_type": "subslide"
    }
   },
   "source": [
    "## Hypothesis Testing\n",
    "\n",
    "- Let $X$ be some *test statistic*\n",
    "- Use our two hypotheses (or models) to determine the distribution of $X$ under each of $H_0$ and $H_1$\n",
    "$$ P(X|H_0) \\quad \\text{ and } \\quad P(X|H_1) $$\n",
    "- Then determine how much of $H_0$ or $H_1$ falls above or below a certain value (or threshold)\n",
    "- <font color=\"green\">*See handwritten notes in lecture*</font>\n",
    "\n",
    "<img src=\"plots/hypothesis_test.png\" alt=\"drawing\" width=\"800\">"
   ]
  },
  {
   "cell_type": "code",
   "execution_count": null,
   "id": "670ecc8c",
   "metadata": {},
   "outputs": [],
   "source": []
  },
  {
   "cell_type": "markdown",
   "id": "3781dee6",
   "metadata": {
    "slideshow": {
     "slide_type": "slide"
    }
   },
   "source": [
    "## The Neyman-Pearson Lemma\n",
    "\n",
    "- But what is the best choice of the test statistic?\n",
    "- In order to find out we need to *maximise* the power\n",
    "- <font color=\"green\">*See handwritten notes in lecture*</font>\n",
    "- Result turns out to be the likelihood ratio:\n",
    "\n",
    "$$ T = -2\\ln \\left( \\frac{L(X|H_0)}{L(X|H_1)} \\right) = -2\\Delta\\ln L' $$\n",
    "\n",
    "- This is known as the <font color=\"blue\">*Neyman-Pearson Lemma*</font>\n",
    "- Due to Wilks' theorem we know it is distributed as a $\\chi^2$ with 1 d.o.f."
   ]
  },
  {
   "cell_type": "markdown",
   "id": "49cd53f3",
   "metadata": {
    "slideshow": {
     "slide_type": "slide"
    }
   },
   "source": [
    "# <font color=\"darkred\">*Musical interlude...*</font>"
   ]
  },
  {
   "cell_type": "markdown",
   "id": "8cc101cf",
   "metadata": {
    "slideshow": {
     "slide_type": "slide"
    }
   },
   "source": [
    "## A demonstration of Hypothesis testing\n",
    "\n",
    "- A real life example searching for the Higgs, $H\\to\\gamma\\gamma$"
   ]
  },
  {
   "cell_type": "code",
   "execution_count": 1,
   "id": "baac3b28",
   "metadata": {
    "slideshow": {
     "slide_type": "notes"
    }
   },
   "outputs": [],
   "source": [
    "import numpy as np\n",
    "np.random.seed(21187)\n",
    "import matplotlib.pyplot as plt\n",
    "plt.style.use('../mphil.mplstyle')\n",
    "from iminuit import Minuit, cost"
   ]
  },
  {
   "cell_type": "code",
   "execution_count": 2,
   "id": "ddd0394f",
   "metadata": {
    "slideshow": {
     "slide_type": "fragment"
    }
   },
   "outputs": [],
   "source": [
    "# set up model parameters\n",
    "xrange = (100,150)\n",
    "Ns = 850\n",
    "Nb = 200e3\n",
    "mu = 125\n",
    "sg = 1\n",
    "p  = 0.04\n",
    "sa, sb = (xrange[0]-mu)/sg, (xrange[1]-mu)/sg\n",
    "bb = (xrange[1]-xrange[0])*p"
   ]
  },
  {
   "cell_type": "code",
   "execution_count": 3,
   "id": "58a9ffba",
   "metadata": {
    "slideshow": {
     "slide_type": "fragment"
    }
   },
   "outputs": [],
   "source": [
    "# define functions for the pdfs\n",
    "from scipy.stats import truncexpon, truncnorm\n",
    "\n",
    "def bkg_model(x, p):\n",
    "    endp = (xrange[1]-xrange[0])*p\n",
    "    srtp = xrange[0]\n",
    "    scl = 1/p\n",
    "    return truncexpon.pdf(x, b=endp, loc=srtp, scale=scl)\n",
    "\n",
    "def sig_model(x, mu, sg):\n",
    "    a, b = (xrange[0]-mu)/sg, (xrange[1]-mu)/sg\n",
    "    return truncnorm.pdf(x, a=a, b=b, loc=mu, scale=sg)\n",
    "\n",
    "def tot_model(x, Ns, mu, sg, Nb, p):\n",
    "    return Ns*sig_model(x,mu,sg) + Nb*bkg_model(x,p)\n",
    " \n",
    "def tot_density(x, Ns, mu, sg, Nb, p):\n",
    "    return Ns+Nb, tot_model(x, Ns, mu, sg, Nb, p)"
   ]
  },
  {
   "cell_type": "code",
   "execution_count": 4,
   "id": "5c538949",
   "metadata": {
    "slideshow": {
     "slide_type": "subslide"
    }
   },
   "outputs": [],
   "source": [
    "# generate a pseudo-dataset\n",
    "Ns = np.random.poisson(Ns)\n",
    "Nb = np.random.poisso n(Nb)\n",
    "\n",
    "xb = truncexpon.rvs(b=bb, loc=xrange[0], scale=1/p, size=Nb)\n",
    "xs = truncnorm.rvs(a=sa, b=sb, loc=mu, scale=sg, size=Ns)\n",
    "dset = np.concatenate( [xb,xs] )"
   ]
  },
  {
   "cell_type": "code",
   "execution_count": 5,
   "id": "5dfe6c67",
   "metadata": {
    "slideshow": {
     "slide_type": "fragment"
    }
   },
   "outputs": [],
   "source": [
    "# Setup a fit\n",
    "nll = cost.ExtendedUnbinnedNLL( dset, tot_density )\n",
    "mi = Minuit( nll, Ns=Ns, mu=mu, sg=sg, Nb=Nb, p=p )"
   ]
  },
  {
   "cell_type": "code",
   "execution_count": 56,
   "id": "71d38742",
   "metadata": {
    "scrolled": true,
    "slideshow": {
     "slide_type": "fragment"
    }
   },
   "outputs": [
    {
     "name": "stdout",
     "output_type": "stream",
     "text": [
      "┌─────────────────────────────────────────────────────────────────────────┐\n",
      "│                                Migrad                                   │\n",
      "├──────────────────────────────────┬──────────────────────────────────────┤\n",
      "│ FCN = -2.988e+06                 │              Nfcn = 372              │\n",
      "│ EDM = 3.75e-07 (Goal: 0.0002)    │                                      │\n",
      "├──────────────────────────────────┼──────────────────────────────────────┤\n",
      "│          Valid Minimum           │        No Parameters at limit        │\n",
      "├──────────────────────────────────┼──────────────────────────────────────┤\n",
      "│ Below EDM threshold (goal x 10)  │           Below call limit           │\n",
      "├───────────────┬──────────────────┼───────────┬─────────────┬────────────┤\n",
      "│  Covariance   │     Hesse ok     │ Accurate  │  Pos. def.  │ Not forced │\n",
      "└───────────────┴──────────────────┴───────────┴─────────────┴────────────┘\n",
      "┌───┬──────┬───────────┬───────────┬────────────┬────────────┬─────────┬─────────┬───────┐\n",
      "│   │ Name │   Value   │ Hesse Err │ Minos Err- │ Minos Err+ │ Limit-  │ Limit+  │ Fixed │\n",
      "├───┼──────┼───────────┼───────────┼────────────┼────────────┼─────────┼─────────┼───────┤\n",
      "│ 0 │ Ns   │     0     │  0.14e3   │            │            │         │         │  yes  │\n",
      "│ 1 │ mu   │  125.03   │   0.21    │            │            │         │         │  yes  │\n",
      "│ 2 │ sg   │   1.07    │   0.17    │            │            │         │         │  yes  │\n",
      "│ 3 │ Nb   │  200.6e3  │   0.4e3   │            │            │         │         │       │\n",
      "│ 4 │ p    │ 39.77e-3  │  0.17e-3  │            │            │         │         │       │\n",
      "└───┴──────┴───────────┴───────────┴────────────┴────────────┴─────────┴─────────┴───────┘\n",
      "┌────┬──────────────────────────────────────────────┐\n",
      "│    │       Ns       mu       sg       Nb        p │\n",
      "├────┼──────────────────────────────────────────────┤\n",
      "│ Ns │        0        0        0        0        0 │\n",
      "│ mu │        0        0        0        0        0 │\n",
      "│ sg │        0        0        0        0        0 │\n",
      "│ Nb │        0        0        0 2.01e+05 9.97e-11 │\n",
      "│  p │        0        0        0 9.97e-11 2.88e-08 │\n",
      "└────┴──────────────────────────────────────────────┘\n"
     ]
    }
   ],
   "source": [
    "# Run the fit for the null hypothesis\n",
    "mi.values['Ns'] = 0\n",
    "mi.fixed['Ns'] = True\n",
    "mi.fixed['mu'] = True\n",
    "mi.fixed['sg'] = True\n",
    "mi.migrad()\n",
    "mi.hesse()\n",
    "\n",
    "bo_vals = list(mi.values)\n",
    "bo_min = mi.fval\n",
    "\n",
    "print(mi)"
   ]
  },
  {
   "cell_type": "code",
   "execution_count": 7,
   "id": "3743c1f3",
   "metadata": {
    "slideshow": {
     "slide_type": "subslide"
    }
   },
   "outputs": [
    {
     "name": "stdout",
     "output_type": "stream",
     "text": [
      "┌─────────────────────────────────────────────────────────────────────────┐\n",
      "│                                Migrad                                   │\n",
      "├──────────────────────────────────┬──────────────────────────────────────┤\n",
      "│ FCN = -2.988e+06                 │              Nfcn = 343              │\n",
      "│ EDM = 6.1e-06 (Goal: 0.0002)     │                                      │\n",
      "├──────────────────────────────────┼──────────────────────────────────────┤\n",
      "│          Valid Minimum           │        No Parameters at limit        │\n",
      "├──────────────────────────────────┼──────────────────────────────────────┤\n",
      "│ Below EDM threshold (goal x 10)  │           Below call limit           │\n",
      "├───────────────┬──────────────────┼───────────┬─────────────┬────────────┤\n",
      "│  Covariance   │     Hesse ok     │ Accurate  │  Pos. def.  │ Not forced │\n",
      "└───────────────┴──────────────────┴───────────┴─────────────┴────────────┘\n",
      "┌───┬──────┬───────────┬───────────┬────────────┬────────────┬─────────┬─────────┬───────┐\n",
      "│   │ Name │   Value   │ Hesse Err │ Minos Err- │ Minos Err+ │ Limit-  │ Limit+  │ Fixed │\n",
      "├───┼──────┼───────────┼───────────┼────────────┼────────────┼─────────┼─────────┼───────┤\n",
      "│ 0 │ Ns   │  0.86e3   │  0.14e3   │            │            │         │         │       │\n",
      "│ 1 │ mu   │  125.03   │   0.21    │            │            │         │         │       │\n",
      "│ 2 │ sg   │   1.07    │   0.17    │            │            │         │         │       │\n",
      "│ 3 │ Nb   │  199.8e3  │   0.5e3   │            │            │         │         │       │\n",
      "│ 4 │ p    │ 39.96e-3  │  0.17e-3  │            │            │         │         │       │\n",
      "└───┴──────┴───────────┴───────────┴────────────┴────────────┴─────────┴─────────┴───────┘\n",
      "┌────┬───────────────────────────────────────────────────┐\n",
      "│    │        Ns        mu        sg        Nb         p │\n",
      "├────┼───────────────────────────────────────────────────┤\n",
      "│ Ns │  2.06e+04     -1.89      12.8 -1.98e+04   0.00445 │\n",
      "│ mu │     -1.89    0.0428  -0.00275      1.89  5.99e-07 │\n",
      "│ sg │      12.8  -0.00275    0.0302     -12.8  2.85e-06 │\n",
      "│ Nb │ -1.98e+04      1.89     -12.8   2.2e+05  -0.00445 │\n",
      "│  p │   0.00445  5.99e-07  2.85e-06  -0.00445     3e-08 │\n",
      "└────┴───────────────────────────────────────────────────┘\n"
     ]
    }
   ],
   "source": [
    "# Run the fit for the alternate hypothesis\n",
    "mi.values['Ns'] = Ns\n",
    "mi.fixed['Ns'] = False\n",
    "mi.migrad()\n",
    "mi.hesse()  \n",
    "\n",
    "sb_vals = list(mi.values)\n",
    "sb_min = mi.fval\n",
    "\n",
    "print(mi)"
   ]
  },
  {
   "cell_type": "code",
   "execution_count": 47,
   "id": "5889902e",
   "metadata": {
    "scrolled": false,
    "slideshow": {
     "slide_type": "subslide"
    }
   },
   "outputs": [
    {
     "data": {
      "text/plain": [
       "<matplotlib.legend.Legend at 0x15f10bcd0>"
      ]
     },
     "execution_count": 47,
     "metadata": {},
     "output_type": "execute_result"
    },
    {
     "data": {
      "image/png": "[encoded data removed]",
      "text/plain": [
       "<Figure size 1280x480 with 2 Axes>"
      ]
     },
     "metadata": {},
     "output_type": "display_data"
    }
   ],
   "source": [
    "# make a nice plot of the two fits\n",
    "nh, xe = np.histogram(dset, bins=50, range=xrange)\n",
    "cx = 0.5*(xe[1:]+xe[:-1])\n",
    "bw = xe[1]-xe[0]\n",
    "\n",
    "fig, ax = plt.subplots(1,2, figsize=(12.8,4.8))\n",
    "x = np.linspace(*xrange,200)\n",
    "ax[0].errorbar( cx, nh, nh**0.5, fmt='ko', label='Data')\n",
    "ax[0].plot(x, bw*tot_model(x, *bo_vals), 'r--', label='Background Only Fit')\n",
    "ax[0].plot(x, bw*tot_model(x, *sb_vals), 'b-', label='Signal + Background Fit')\n",
    "ax[0].legend()\n",
    "ax[0].set_xlabel( '$m_H$ [GeV]' )\n",
    "ax[0].set_ylabel( f'Events / GeV')\n",
    "ax[0].set_xlim(*xrange)\n",
    "ax[0].legend()\n",
    "\n",
    "# make a plot of the \"pull\" residuals of each\n",
    "bo_y = bw*tot_model( cx, *bo_vals )\n",
    "sb_y = bw*tot_model( cx, *sb_vals )\n",
    "\n",
    "bo_p = (nh - bo_y)/nh**0.5\n",
    "sb_p = (nh - sb_y)/nh**0.5\n",
    "\n",
    "ax[1].errorbar( cx, bo_p, np.ones_like(bo_p), fmt='ro', label='Data - B Only')\n",
    "ax[1].errorbar( cx, sb_p, np.ones_like(sb_p), fmt='bx', label='Data - S+B')\n",
    "ax[1].set_xlabel( '$m_H$ [GeV]' )\n",
    "ax[1].set_ylabel( f'Significance')\n",
    "ax[1].axhline(0, c='k')\n",
    "ax[1].legend()\n"
   ]
  },
  {
   "cell_type": "markdown",
   "id": "a2d627b4",
   "metadata": {},
   "source": [
    "**NOTICE we can see the signal by eye here! It's obvious we should be expecting a letter from Stockholm**"
   ]
  },
  {
   "cell_type": "code",
   "execution_count": 42,
   "id": "034ced97",
   "metadata": {
    "slideshow": {
     "slide_type": "subslide"
    }
   },
   "outputs": [],
   "source": [
    "## do a chisq goodness of fit test for the background only\n",
    "from scipy.stats import chi2\n",
    "bo_chisq = np.sum( (bo_y-nh)**2 / nh )\n",
    "bo_ndof = len(xe) - 1 - 5\n",
    "bo_pval = 1 - chi2.cdf(bo_chisq, bo_ndof)\n",
    "bo_signif = chi2.ppf(1-bo_pval,1)**0.5"
   ]
  },
  {
   "cell_type": "code",
   "execution_count": 55,
   "id": "aa0c920b",
   "metadata": {
    "slideshow": {
     "slide_type": "fragment"
    }
   },
   "outputs": [],
   "source": [
    "# do a Neyman-Pearson Test\n",
    "T = bo_min - sb_min\n",
    "sb_chisq = T\n",
    "sb_ndof = 1\n",
    "sb_pval = 1 - chi2.cdf(sb_chisq, sb_ndof)\n",
    "sb_signif = chi2.ppf(1-sb_pval,1)**0.5\n"
   ]
  },
  {
   "cell_type": "code",
   "execution_count": 44,
   "id": "47c1b9a6",
   "metadata": {
    "slideshow": {
     "slide_type": "fragment"
    }
   },
   "outputs": [
    {
     "name": "stdout",
     "output_type": "stream",
     "text": [
      "chi2 g.o.f =  3.9 sigma\n",
      "NP test    =  7.1 sigma\n"
     ]
    }
   ],
   "source": [
    "print( f'chi2 g.o.f = {bo_signif:4.1f} sigma')\n",
    "print( f'NP test    = {sb_signif:4.1f} sigma')"
   ]
  },
  {
   "cell_type": "markdown",
   "id": "923bd3ac",
   "metadata": {},
   "source": [
    "- Clearly see that the $\\chi^2$ goodness of fit test is not remotely powerful\n",
    "- The Neyman-Pearson test is (increase the significance from ~4 to ~7)\n",
    "- Think about what this means in terms of the probabilities!!! (~6 orders of magnitude)"
   ]
  },
  {
   "cell_type": "code",
   "execution_count": 51,
   "id": "f9953279",
   "metadata": {},
   "outputs": [
    {
     "name": "stdout",
     "output_type": "stream",
     "text": [
      "chi2 g.o.f = 8.6e-05\n",
      "NP test    = 1.4e-12\n"
     ]
    }
   ],
   "source": [
    "print( f'chi2 g.o.f = {bo_pval:4.2g}') \n",
    "print( f'NP test    = {sb_pval:4.2g}')"
   ]
  },
  {
   "cell_type": "markdown",
   "id": "9c96f171",
   "metadata": {
    "slideshow": {
     "slide_type": "slide"
    }
   },
   "source": [
    "# End of Lecture 16\n",
    "\n",
    "By the end of this lecture you should:\n",
    "   - Understand the concept of a <font color=\"blue\">hypothesis test</font>\n",
    "   - Be able to distinguish <font color=\"blue\">Type-I</font> and <font color=\"blue\">Type-II errors</font> arise\n",
    "   - Understand how to quanitfy the <font color=\"blue\">statistical power</font> of a test\n",
    "   - Be able to proove that the most powerful test is the <font color=\"blue\">Neyman-Pearson test</font>"
   ]
  }
 ],
 "metadata": {
  "celltoolbar": "Slideshow",
  "kernelspec": {
   "display_name": "Python 3 (ipykernel)",
   "language": "python",
   "name": "python3"
  },
  "language_info": {
   "codemirror_mode": {
    "name": "ipython",
    "version": 3
   },
   "file_extension": ".py",
   "mimetype": "text/x-python",
   "name": "python",
   "nbconvert_exporter": "python",
   "pygments_lexer": "ipython3",
   "version": "3.9.16"
  },
  "rise": {
   "enable_chalkboard": true,
   "scroll": true
  }
 },
 "nbformat": 4,
 "nbformat_minor": 5
}
