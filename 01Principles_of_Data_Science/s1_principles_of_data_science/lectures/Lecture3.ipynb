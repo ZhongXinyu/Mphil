{
 "cells": [
  {
   "cell_type": "markdown",
   "id": "0db030e3",
   "metadata": {
    "slideshow": {
     "slide_type": "slide"
    }
   },
   "source": [
    "# Principles of Data Science\n",
    "\n",
    "### Lecture 3: Probability Theory\n",
    "\n",
    "_MPhil in Data Intensive Science_\n",
    "\n",
    "**University of Cambridge**\n",
    "\n",
    "<h2 style=\"color: blue\">Matt Kenzie</h2>\n",
    "\n",
    "[mk652@cam.ac.uk](mailto:mk652@cam.ac.uk)"
   ]
  },
  {
   "cell_type": "markdown",
   "id": "d7ffb68b",
   "metadata": {
    "slideshow": {
     "slide_type": "subslide"
    }
   },
   "source": [
    "## Probability Theory\n",
    "\n",
    "- Today's lecture introduces the foundations of probability theory\n",
    "\n",
    "- Learning objectives:\n",
    "   - Describe the <font color=blue>**two philosophies**</font> of statistics\n",
    "   - Understand and apply the formal <font color=blue>**defintion of probability**</font>\n",
    "   - Understand and manipulate <font color=blue>**random variables**</font>"
   ]
  },
  {
   "cell_type": "markdown",
   "id": "1251610b",
   "metadata": {
    "slideshow": {
     "slide_type": "slide"
    }
   },
   "source": [
    "## Definitions of probability\n",
    "<font color=\"green\"><i>Hand written notes in lectures</i></font>\n",
    "- Mathematical probability\n",
    "- Frequentist probability\n",
    "- Bayesian probability"
   ]
  },
  {
   "cell_type": "markdown",
   "id": "58941eeb",
   "metadata": {
    "slideshow": {
     "slide_type": "subslide"
    }
   },
   "source": [
    "## But which one is right?\n",
    "\n",
    "- Both are equally valid but **cannot be mixed**\n",
    "- They are fundamentally different definitions of probability\n",
    "- Choice often depends on the problem (and quite often the field)\n",
    "\n",
    "E.g. probability of heads on a coin:\n",
    "\n",
    "- **Bayesian** says $p=0.5$\n",
    "- **Frequentist** says toss $N$ times and record number of heads $n$, then $p=n/N$\n",
    "    - as $N\\to\\infty$ then $p\\to 0.5$\n"
   ]
  },
  {
   "cell_type": "markdown",
   "id": "5307b3ec",
   "metadata": {
    "slideshow": {
     "slide_type": "subslide"
    }
   },
   "source": [
    "## Historical mudslinging\n",
    "\n",
    "- [CKMfitter](http://ckmfitter.in2p3.fr) group (frequentists) *vs.* [UTfit](http://www.utfit.org) group (Bayesians)\n",
    "- see https://arxiv.org/abs/hep-ph/0607246, https://arxiv.org/abs/hep-ph/0701204, https://arxiv.org/abs/hep-ph/0703073"
   ]
  },
  {
   "cell_type": "markdown",
   "id": "05923969",
   "metadata": {
    "slideshow": {
     "slide_type": "fragment"
    }
   },
   "source": [
    "<img src='plots/CKMUT1.png' alt=\"drawing\">"
   ]
  },
  {
   "cell_type": "markdown",
   "id": "96fae8b3",
   "metadata": {
    "slideshow": {
     "slide_type": "fragment"
    }
   },
   "source": [
    "<img src=\"plots/CKMUT2.png\" alt=\"drawing\">"
   ]
  },
  {
   "cell_type": "markdown",
   "id": "ad1e861e",
   "metadata": {
    "slideshow": {
     "slide_type": "fragment"
    }
   },
   "source": [
    "<img src=\"plots/CKMUT3.png\" alt=\"drawing\">"
   ]
  },
  {
   "cell_type": "markdown",
   "id": "4cfefcd4",
   "metadata": {
    "slideshow": {
     "slide_type": "slide"
    }
   },
   "source": [
    "## Properties of probability\n",
    "<font color=\"green\"><i>Hand written notes in lectures</i></font>\n",
    "- Addition\n",
    "- Conditional probability\n",
    "- Law of total probability\n",
    "- Bayes' theorem for discrete outcomes\n",
    "    - *The Monty Hall problem*"
   ]
  },
  {
   "cell_type": "markdown",
   "id": "9074ae48",
   "metadata": {
    "slideshow": {
     "slide_type": "slide"
    }
   },
   "source": [
    "# <font color=\"darkred\">*Musical interlude...*</font>"
   ]
  },
  {
   "cell_type": "markdown",
   "id": "b10924f1",
   "metadata": {
    "slideshow": {
     "slide_type": "slide"
    }
   },
   "source": [
    "## Random variables\n",
    "<font color=\"green\"><i>Hand written notes in lectures</i></font>\n",
    "- **Random event**: event with more than one possible outcome\n",
    "- Each outcomes has an associated *probability*\n",
    "- Associate outcomes to a *random variable*, $X$\n",
    "- With probability distribution $p(X)$"
   ]
  },
  {
   "cell_type": "markdown",
   "id": "88784325",
   "metadata": {
    "slideshow": {
     "slide_type": "fragment"
    }
   },
   "source": [
    "- Probability distribution for a fair dice\n",
    "$$ P(X) = \\frac{1}{6} $$\n",
    "<img src=\"plots/dice_probs1.png\" alt=\"drawing\" width=\"600\">"
   ]
  },
  {
   "cell_type": "markdown",
   "id": "1e147431",
   "metadata": {
    "slideshow": {
     "slide_type": "fragment"
    }
   },
   "source": [
    "- Probability distribution for a fixed dice\n",
    "    - all ones becomes twos, all sixes become fives\n",
    "$$ P(X) = \\begin{cases} \n",
    "            \\, 0           \\text{ if } X=1 \\text{ or } X=6 \\\\\n",
    "            \\frac{1}{3} \\text{ if } X=2 \\text{ or } X=5 \\\\\n",
    "            \\frac{1}{6} \\text{ if } X=3 \\text{ or } X=4 \n",
    "          \\end{cases} $$\n",
    "<img src=\"plots/dice_probs2.png\" alt=\"drawing\" width=\"600\">"
   ]
  },
  {
   "cell_type": "markdown",
   "id": "621f8f9e",
   "metadata": {
    "slideshow": {
     "slide_type": "slide"
    }
   },
   "source": [
    "## Probability density functions\n",
    "\n",
    "<font color=\"green\"><i>Hand written notes in lectures</i></font>\n",
    "\n",
    "- So far we have considered only *discrete* outcomes\n",
    "    - discrete probability distributions, $p(X)$, are technically called <font color=blue>*probability mass function*</font> (p.m.f.s)\n",
    "- But random variables, $X$, and their probability distributions, $p(X)$, can be *continuous*\n",
    "- Called <font color=blue>*probability density functions*</font> (p.d.f.s)\n",
    "- Probabilities must be positive, or zero (<font color=\"red\"> 1st Kol. axiom </font>) so p.d.f.s must be positive everywhere\n",
    "$$ p(X) \\geq 0  \\;\\; \\forall \\; X $$"
   ]
  },
  {
   "cell_type": "markdown",
   "id": "238eb570",
   "metadata": {
    "slideshow": {
     "slide_type": "subslide"
    }
   },
   "source": [
    "## Change of variables\n",
    "\n",
    "<font color=\"green\"><i>Hand written notes in lectures</i></font>\n",
    "\n",
    "- functions of random variables are also random variables\n",
    "- if $\\vec{X} \\sim f(\\vec{X})$ and $Y=\\vec{h}(\\vec{X})$ then p.d.f. $g(\\vec{Y})$:\n",
    "\n",
    "$$ g(\\vec{Y}) = | J_{h^{-1}}(\\vec{X}, \\vec{Y}) | f(\\vec{X}) $$\n",
    "\n"
   ]
  },
  {
   "cell_type": "markdown",
   "id": "8c8cfd39",
   "metadata": {
    "slideshow": {
     "slide_type": "subslide"
    }
   },
   "source": [
    "# End of Lecture 3\n",
    "\n",
    "By the end of this lecture you should:\n",
    "    \n",
    "1. Be able to describe and explain the definitions of probability and Kolgomorov axioms\n",
    "2. Be able to derive the properties of probability\n",
    "3. Understand and be able to manipulate random variables and probability distributions of them\n",
    "\n",
    "Next lecture we will start to understand more of the properties of the probability distributions"
   ]
  }
 ],
 "metadata": {
  "celltoolbar": "Slideshow",
  "kernelspec": {
   "display_name": "Python 3 (ipykernel)",
   "language": "python",
   "name": "python3"
  },
  "language_info": {
   "codemirror_mode": {
    "name": "ipython",
    "version": 3
   },
   "file_extension": ".py",
   "mimetype": "text/x-python",
   "name": "python",
   "nbconvert_exporter": "python",
   "pygments_lexer": "ipython3",
   "version": "3.9.16"
  },
  "rise": {
   "enable_chalkboard": true,
   "scroll": true
  }
 },
 "nbformat": 4,
 "nbformat_minor": 5
}
