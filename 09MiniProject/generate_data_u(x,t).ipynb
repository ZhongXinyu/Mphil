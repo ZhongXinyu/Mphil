{
 "cells": [
  {
   "cell_type": "code",
   "execution_count": 28,
   "metadata": {},
   "outputs": [],
   "source": [
    "import numpy as np\n",
    "import matplotlib.pyplot as plt\n",
    "\n",
    "\n",
    "# Parameters\n",
    "nu = 0.1        \n",
    "gamma = 0.0 # Set Gamma to be 0.0 for nows\n",
    "L = 10.0\n",
    "T = 1.0\n",
    "Nx = 30  # Number of spatial points\n",
    "Nt = 50  # Number of time points\n",
    "dx = L / Nx\n",
    "dt = T / Nt\n",
    "\n",
    "# Initial condition function\n",
    "def initial_condition(x):\n",
    "    return np.sin(np.pi * x / L)\n",
    "\n",
    "# Boundary condition function\n",
    "def boundary_condition(t):\n",
    "    return 0.0\n",
    "\n",
    "# Function to solve the PDE using finite difference method\n",
    "def solve_pde():\n",
    "    \n",
    "    # Initialize arrays\n",
    "    u = np.zeros((Nt + 1, Nx + 1))\n",
    "    u_xx = np.zeros((Nt + 1, Nx + 1))\n",
    "    u_x = np.zeros((Nt + 1, Nx + 1))\n",
    "    u_t = np.zeros((Nt + 1, Nx + 1))\n",
    "    x_values = np.linspace(0, L, Nx + 1)\n",
    "    t_values = np.linspace(0, T, Nt + 1)\n",
    "\n",
    "    # Set initial condition\n",
    "    u[0, :] = initial_condition(x_values)\n",
    "\n",
    "    # Iterate over time steps\n",
    "    for n in range(Nt):\n",
    "        # Apply boundary conditions\n",
    "        u[n+1, 0] = boundary_condition(t_values[n+1])\n",
    "        u[n+1, Nx] = boundary_condition(t_values[n+1])\n",
    "\n",
    "        # Compute interior points using finite difference method\n",
    "        for i in range(1, Nx):\n",
    "            u_xx[n, i] = (u[n, i+1] - 2*u[n, i] + u[n, i-1]) / (dx**2)\n",
    "            u_x[n, i] = (u[n, i+1] - u[n, i-1]) / (2*dx)\n",
    "            u_t[n, i] = (u[n+1, i] - u[n, i]) / dt\n",
    "            u[n+1, i] = u[n, i] - dt * (20 * nu * u_xx[n, i] - gamma * u[n, i] * (u[n, i]**2 - 1))\n",
    "\n",
    "    return u, u_xx, u_x, u_t, x_values, t_values\n",
    "\n"
   ]
  },
  {
   "cell_type": "code",
   "execution_count": 29,
   "metadata": {},
   "outputs": [],
   "source": [
    "u, u_xx, u_x, u_t, x_values, t_values = solve_pde()"
   ]
  },
  {
   "cell_type": "code",
   "execution_count": 31,
   "metadata": {},
   "outputs": [
    {
     "data": {
      "text/plain": [
       "<matplotlib.image.AxesImage at 0x126be62c0>"
      ]
     },
     "execution_count": 31,
     "metadata": {},
     "output_type": "execute_result"
    },
    {
     "data": {
      "image/png": "[encoded data removed]",
      "text/plain": [
       "<Figure size 640x480 with 1 Axes>"
      ]
     },
     "metadata": {},
     "output_type": "display_data"
    }
   ],
   "source": [
    "# plot u(x, t) using a density plot\n",
    "\n",
    "\n",
    "\n",
    "\n"
   ]
  }
 ],
 "metadata": {
  "kernelspec": {
   "display_name": "GaussianProcessProject",
   "language": "python",
   "name": "python3"
  },
  "language_info": {
   "codemirror_mode": {
    "name": "ipython",
    "version": 3
   },
   "file_extension": ".py",
   "mimetype": "text/x-python",
   "name": "python",
   "nbconvert_exporter": "python",
   "pygments_lexer": "ipython3",
   "version": "3.10.13"
  }
 },
 "nbformat": 4,
 "nbformat_minor": 2
}
