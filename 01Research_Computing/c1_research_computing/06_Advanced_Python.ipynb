{
 "cells": [
  {
   "cell_type": "markdown",
   "metadata": {},
   "source": [
    "Finally we will look at some advanced features of Python that can be useful:\n",
    "\n",
    "## Classes\n",
    "Classes are the building blocks of object oriented programming languages like Python.  They are simply a way to bundle data, and methods specific to that data, together.  We have been using classes lots already. A simple example is a string like:\n",
    "\n",
    "`str1 = \"Hello\"`\n",
    "\n",
    "We originally just referred to this as a data type but it's actually a class as there are a lot of functions that can operate on `str1` which we access with the `.` notation, for example: `str.capitalize`.\n",
    "\n",
    "Classes are a useful way of keeping your code understandable by keeping functions and the data they operate on together so functions can't be misused.  You can think of it being a bit like modules for data.\n",
    "\n",
    "Let's look at some examples:\n"
   ]
  },
  {
   "cell_type": "code",
   "execution_count": null,
   "metadata": {
    "tags": []
   },
   "outputs": [],
   "source": [
    "class MyClass1:\n",
    "    \"\"\" My First Class \"\"\"\n",
    "    one = 1\n",
    "    \n",
    "    def greet(self):\n",
    "        return \"Hello\"\n",
    "\n",
    "test1 = MyClass1()\n",
    "\n",
    "print(test1.one)\n",
    "print(test1.greet())\n",
    "\n",
    "test1.one = 2\n",
    "print(test1.one)\n",
    "test1.one = \"abc\"\n",
    "print(test1.one)"
   ]
  },
  {
   "cell_type": "markdown",
   "metadata": {},
   "source": [
    "This is fairly useless but you can see that you have created a class with one data object called `one` and one method called `greet` (functions in classes are called methods).  The word `self` in the first argument of the function means the class object itself.  This is called `self` by convention (you are free to use anything you want, but there are no good reasons not to use `self`).\n",
    "\n",
    "Generally when we use a class we want to be able to create an object where we can initialise it's data to specific values on creation.  To do this we use the inbuilt function `__init__()`  This is a function which is always called when the class is created.  It has a specific format which is best seen from example:"
   ]
  },
  {
   "cell_type": "code",
   "execution_count": null,
   "metadata": {
    "tags": []
   },
   "outputs": [],
   "source": [
    "import math\n",
    "class CelObj1:\n",
    "    \"\"\" Class for celestial object  \"\"\"\n",
    "    def __init__(self, mass, position, velocity):\n",
    "        self.mass = mass\n",
    "        self.position = position\n",
    "        self.velocity = velocity\n",
    "        \n",
    "    def grav_pot(self, location):\n",
    "        x = location[0] - self.position[0]\n",
    "        y = location[1] - self.position[1]\n",
    "        z = location[2] - self.position[2]\n",
    "        dist = math.sqrt(x*x + y*y + z*z)\n",
    "        return 6.67e-11 * self.mass / dist\n",
    "    \n",
    "\n",
    "earth = CelObj1(6e24, [0,0,0], [3e4,0,0])\n",
    "\n",
    "print(earth.mass)\n",
    "print(earth.position)\n",
    "print(earth.velocity)\n",
    "print(earth.grav_pot([0,4e5,0]))"
   ]
  },
  {
   "cell_type": "markdown",
   "metadata": {},
   "source": [
    "So the format is simply to have `def __init__(self,` followed by the arguments you want to assign.  You may not want to assign all values when you initialise an object so you can make the arguments optional with the following:"
   ]
  },
  {
   "cell_type": "code",
   "execution_count": null,
   "metadata": {
    "tags": []
   },
   "outputs": [],
   "source": [
    "import math\n",
    "class CelObj2:\n",
    "    \"\"\" Class for celestial object \"\"\"\n",
    "    def __init__(self, mass=None, position=None, velocity=None):\n",
    "        self.mass = mass or 0.\n",
    "        self.position = position or [0.,0.,0.]\n",
    "        self.velocity = velocity or [0.,0.,0.]\n",
    "        \n",
    "    def grav_pot(self, location):\n",
    "        x = location[0] - self.position[0]\n",
    "        y = location[1] - self.position[1]\n",
    "        z = location[2] - self.position[2]\n",
    "        dist = math.sqrt(x*x + y*y + z*z)\n",
    "        return 6.67e-11 * self.mass / dist\n",
    "\n",
    "        \n",
    "earth = CelObj2(6e24)\n",
    "print(earth.mass)\n",
    "print(earth.position)\n",
    "print(earth.velocity)\n",
    "venus = CelObj2(position=[1.,2.,3.])\n",
    "print(venus.mass)\n",
    "print(venus.position)\n",
    "print(venus.velocity)"
   ]
  },
  {
   "cell_type": "markdown",
   "metadata": {},
   "source": [
    "The `or` construct is just a short version of:"
   ]
  },
  {
   "cell_type": "code",
   "execution_count": null,
   "metadata": {},
   "outputs": [],
   "source": [
    "if (mass):\n",
    "    self.mass = mass\n",
    "else:\n",
    "    self.mass = 0."
   ]
  },
  {
   "cell_type": "markdown",
   "metadata": {},
   "source": [
    "And we have used `position=None` to avoid the issues with assigning empty lists for functions.  The `or` construct is nice and compact but not perfect as it just tests the object to see if it evaluates to `True` or `False` so the following will also fail. "
   ]
  },
  {
   "cell_type": "code",
   "execution_count": null,
   "metadata": {
    "scrolled": true,
    "tags": []
   },
   "outputs": [],
   "source": [
    "import math\n",
    "class CelObj2:\n",
    "    \"\"\" Class for celestial object \"\"\"\n",
    "    def __init__(self, mass=None, position=None, velocity=None):\n",
    "        self.mass = mass or 9999.\n",
    "        self.position = position or [0.,0.,0.]\n",
    "        self.velocity = velocity or [0.,0.,0.]\n",
    "        \n",
    "    def grav_pot(self, location):\n",
    "        x = location[0] - self.position[0]\n",
    "        y = location[1] - self.position[1]\n",
    "        z = location[2] - self.position[2]\n",
    "        dist = math.sqrt(x*x + y*y + z*z)\n",
    "        return 6.67e-11 * self.mass / dist\n",
    "\n",
    "        \n",
    "earth = CelObj2(6e24)\n",
    "print(earth.mass)\n",
    "earth = CelObj2(0)\n",
    "print(earth.mass)\n",
    "earth = CelObj2(False)\n",
    "print(earth.mass)"
   ]
  },
  {
   "cell_type": "markdown",
   "metadata": {},
   "source": [
    "To avoid these cases we should correct the test to be explicit:"
   ]
  },
  {
   "cell_type": "code",
   "execution_count": null,
   "metadata": {
    "tags": []
   },
   "outputs": [],
   "source": [
    "import math\n",
    "class CelObj2:\n",
    "    \"\"\" Class for celestial object \"\"\"\n",
    "    def __init__(self, mass=None, position=None, velocity=None):\n",
    "        if (mass is not None):\n",
    "            self.mass = mass\n",
    "        else:\n",
    "            self.mass = 9999.\n",
    "        self.position = position or [0.,0.,0.]\n",
    "        self.velocity = velocity or [0.,0.,0.]\n",
    "        \n",
    "    def grav_pot(self, location):\n",
    "        x = location[0] - self.position[0]\n",
    "        y = location[1] - self.position[1]\n",
    "        z = location[2] - self.position[2]\n",
    "        dist = math.sqrt(x*x + y*y + z*z)\n",
    "        return 6.67e-11 * self.mass / dist\n",
    "\n",
    "        \n",
    "earth = CelObj2(6e24)\n",
    "print(earth.mass)\n",
    "earth = CelObj2(0)\n",
    "print(earth.mass)\n",
    "earth = CelObj2(False)\n",
    "print(earth.mass)"
   ]
  },
  {
   "cell_type": "markdown",
   "metadata": {},
   "source": [
    "In the above we had to do three `print` statements to find out what the data associated with each planet object was.  It would be much nicer if we could just do something like `print(earth)` and get it all.  We can do this with the special method `__str__` which returns a string and is called whenever you use `print` on the object.  For example:"
   ]
  },
  {
   "cell_type": "code",
   "execution_count": null,
   "metadata": {
    "tags": []
   },
   "outputs": [],
   "source": [
    "import math\n",
    "class CelObj3:\n",
    "    \"\"\" Class for celestial object  \"\"\"\n",
    "    def __init__(self, mass=None, position=None, velocity=None):\n",
    "        self.mass = mass or 0.\n",
    "        self.position = position or [0.,0.,0.]\n",
    "        self.velocity = velocity or [0.,0.,0.]\n",
    "        \n",
    "    def grav_pot(self, location):\n",
    "        x = location[0] - self.position[0]\n",
    "        y = location[1] - self.position[1]\n",
    "        z = location[2] - self.position[2]\n",
    "        dist = math.sqrt(x*x + y*y + z*z)\n",
    "        return 6.67e-11 * self.mass / dist\n",
    "    \n",
    "    def __str__(self):\n",
    "        mas = '{:.2e}'.format(self.mass)\n",
    "        pos = '({0[0]:.2e},{0[1]:.2e},{0[2]:.2e})'.format(self.position)\n",
    "        vel = '({0[0]:.2e},{0[1]:.2e},{0[2]:.2e})'.format(self.velocity)\n",
    "        return 'Mass: ' + mas + '  Position: ' + pos + '  Velocity: '+vel\n",
    "        \n",
    "        \n",
    "earth = CelObj3(6e24)\n",
    "print(earth)\n",
    "earth = CelObj3(False)\n",
    "print(earth)\n",
    "venus = CelObj3(position=[1.,2.,3.])\n",
    "print(venus)"
   ]
  },
  {
   "cell_type": "markdown",
   "metadata": {},
   "source": [
    "These are both example of special methods which define how the classes dehave with respect to standard operations and functions.  There are many, many of these special methods that allow you to do all sorts of cool things.  Here are some examples for a simple \"vector\" class:"
   ]
  },
  {
   "cell_type": "code",
   "execution_count": null,
   "metadata": {
    "tags": []
   },
   "outputs": [],
   "source": [
    "import math\n",
    "class Vector3D:\n",
    "    \"\"\" Vector Class \"\"\"\n",
    "    def __init__(self, x=None, y=None, z=None):\n",
    "        self.x = x or 0\n",
    "        self.y = y or 0\n",
    "        self.z = z or 0\n",
    "        \n",
    "    def __add__(self, obj):\n",
    "        x = self.x + obj.x\n",
    "        y = self.y + obj.y\n",
    "        z = self.z + obj.z\n",
    "        return Vector3D(x,y,z)\n",
    "        \n",
    "    def __sub__(self, obj):\n",
    "        x = self.x - obj.x\n",
    "        y = self.y - obj.y\n",
    "        z = self.z - obj.z\n",
    "        return Vector3D(x,y,z)\n",
    "    \n",
    "    def size(self):\n",
    "        return math.sqrt(self.x*self.x + self.y*self.y + self.z*self.z)\n",
    "        \n",
    "    def __lt__(self, obj):\n",
    "        l1 = self.size()\n",
    "        l2 = obj.size()\n",
    "        return l1<l2\n",
    "    \n",
    "    def __str__(self):\n",
    "        return '({0},{1},{2})'.format(self.x,self.y,self.z)\n",
    "    \n",
    "vec1 = Vector3D(1,2,3)\n",
    "vec2 = Vector3D(4,5,6)\n",
    "vec3 = Vector3D(0,1,2)\n",
    "vec4 = Vector3D(-1,0,1)\n",
    "print(vec1+vec2)\n",
    "print(vec3-vec4)\n",
    "list1 = [vec1,vec2,vec3,vec4]\n",
    "print(vec1)\n",
    "print(list1[0])\n",
    "list1.sort() # this works as we have defined a less than operator, __lt__, which is used by sort.\n",
    "print(list1[0])"
   ]
  },
  {
   "cell_type": "markdown",
   "metadata": {},
   "source": [
    "As you would expect there are all normal binary operations:\n",
    "\n",
    "`object.__add__(self, other)\n",
    "object.__sub__(self, other)\n",
    "object.__mul__(self, other)\n",
    "object.__truediv__(self, other)\n",
    "object.__floordiv__(self, other)\n",
    "object.__mod__(self, other)\n",
    "object.__divmod__(self, other)\n",
    "object.__pow__(self, other[, modulo])\n",
    "object.__lshift__(self, other)\n",
    "object.__rshift__(self, other)\n",
    "object.__and__(self, other)\n",
    "object.__xor__(self, other)\n",
    "object.__or__(self, other)`\n",
    "\n",
    "and all comparators\n",
    "\n",
    "`object.__lt__(self, other)\n",
    "object.__le__(self, other)\n",
    "object.__eq__(self, other)\n",
    "object.__ne__(self, other)\n",
    "object.__gt__(self, other)\n",
    "object.__ge__(self, other)`\n",
    "\n",
    "There are also standard functions like `__len__` which returns an integer when the `len()` function is used and `__iter__` and `__next__` which make the class usable as an an iterator, see below for an example:"
   ]
  },
  {
   "cell_type": "code",
   "execution_count": null,
   "metadata": {
    "tags": []
   },
   "outputs": [],
   "source": [
    "class FibPair:\n",
    "        def __init__(self, a=None, b=None):\n",
    "            self.a = a or 0\n",
    "            self.b = b or 1\n",
    "        \n",
    "        def __iter__(self):\n",
    "            return self\n",
    "        \n",
    "        def __next__(self):\n",
    "            self.a,self.b = self.b,self.a+self.b\n",
    "            return self\n",
    "        \n",
    "        def __str__(self):\n",
    "            return '({0},{1})'.format(self.a,self.b)\n",
    "\n",
    "pair1 = FibPair(0,1)\n",
    "print(next(pair1))\n",
    "print(next(pair1))\n",
    "print(next(pair1))\n",
    "print(next(pair1))\n",
    "\n",
    "print('Now in a loop')\n",
    "\n",
    "pair2 = FibPair(1,3)\n",
    "for item in pair2:\n",
    "    print(item)\n",
    "    if (item.a > 200):\n",
    "        break"
   ]
  },
  {
   "cell_type": "markdown",
   "metadata": {},
   "source": [
    "Note that it starts by applying `__next__` first so the first `print` is of `(3,4)` rather than `(1,3)`.  \n",
    "\n",
    "You can also use `__next__` to traverse data dependancies, or create an iterator for linked lists: "
   ]
  },
  {
   "cell_type": "code",
   "execution_count": null,
   "metadata": {
    "tags": []
   },
   "outputs": [],
   "source": [
    "class whoeatswho:\n",
    "    # Class to create nodes for a linked list of animals\n",
    "        def __init__(self, animal=None, eatenby=None):\n",
    "            self.animal = animal or None \n",
    "            self.eatenby = eatenby or None  \n",
    "            \n",
    "        def __next__(self):\n",
    "            return self.eatenby\n",
    "        \n",
    "        def __str__(self):\n",
    "            return '{0}'.format(self.animal)\n",
    "\n",
    "class linked_iter:\n",
    "    # Generator class to iterate through any linked list\n",
    "    def __init__(self, node):\n",
    "        self.node = node\n",
    "    \n",
    "    def __iter__(self):\n",
    "        n = self.node\n",
    "        while n:\n",
    "            yield n\n",
    "            n = next(n)    \n",
    "\n",
    "lion = whoeatswho('lion')\n",
    "dog = whoeatswho('dog',lion)\n",
    "cat = whoeatswho('cat',dog)\n",
    "bird = whoeatswho('bird',cat)\n",
    "worm = whoeatswho('worm',bird)\n",
    "\n",
    "animal_iter = linked_iter(worm)\n",
    "\n",
    "for item in animal_iter:\n",
    "    print(item)\n"
   ]
  },
  {
   "cell_type": "markdown",
   "metadata": {},
   "source": [
    "Here only the node needs next defined and the iterator is defined in a seperate function.  Here the iterator function defines how to iterate over the list using the next function (the above will work for any class with a `__next__` defined). The class defines what a node is, with each node has a pointer to the next node in the chain as the return of the `__next__` function.\n",
    "\n",
    "The above is a little sloppy as we are relying on the `None` return to stop iteration in both cases.  For the linked list this is ok as we are using a while but for most iterator classes we should instead define this correctly using `StopIteration`"
   ]
  },
  {
   "cell_type": "code",
   "execution_count": null,
   "metadata": {
    "tags": []
   },
   "outputs": [],
   "source": [
    "class WordLetters:\n",
    "        def __init__(self, a=None):\n",
    "            self.word = a or None\n",
    "            self.__pos = -1\n",
    "            self.__len = len(self.word)\n",
    "\n",
    "        def __iter__(self):\n",
    "            return self\n",
    "        \n",
    "        def __next__(self):\n",
    "            self.__pos += 1\n",
    "            if (self.__pos >= self.__len):\n",
    "                raise StopIteration # signals \"the end\" \n",
    "            return self\n",
    "            \n",
    "        def __str__(self):\n",
    "            return self.word[self.__pos]\n",
    "        \n",
    "word1 = WordLetters('elephant')\n",
    "\n",
    "for item in word1:\n",
    "    print(item)"
   ]
  },
  {
   "cell_type": "markdown",
   "metadata": {},
   "source": [
    "(This actually is how python already works as strings are iterator objects, but the example still holds.)"
   ]
  },
  {
   "cell_type": "code",
   "execution_count": null,
   "metadata": {
    "tags": []
   },
   "outputs": [],
   "source": [
    "word = \"hello\"\n",
    "for item in word:\n",
    "        print(item) "
   ]
  },
  {
   "cell_type": "markdown",
   "metadata": {},
   "source": [
    "### Inheritance\n",
    "\n",
    "You can define subclasses which inherit characteristics from classes.  For example, in game development you might create a class called \"enemy\" which defines normal global properties of enemy characters like how it moves, how it takes damage etc..  Then you could create a sub class \"wizard\" which inherets all the basic functionality, but adds the function \"fireball\" to allow ranged damage. This allows you to easily create new classes without having to redefine all the basic behaviour.\n",
    "\n",
    "We can see how this works in a simple example: "
   ]
  },
  {
   "cell_type": "code",
   "execution_count": null,
   "metadata": {
    "scrolled": true,
    "tags": []
   },
   "outputs": [],
   "source": [
    "import math\n",
    "class CelObj:\n",
    "    \"\"\" Class for celestial object  \"\"\"\n",
    "    def __init__(self, mass=None, position=None, velocity=None):\n",
    "        self.mass = mass or 0.\n",
    "        self.position = position or [0.,0.,0.]\n",
    "        self.velocity = velocity or [0.,0.,0.]\n",
    "        \n",
    "    def grav_pot(self, location):\n",
    "        x = location[0] - self.position[0]\n",
    "        y = location[1] - self.position[1]\n",
    "        z = location[2] - self.position[2]\n",
    "        dist = math.sqrt(x*x + y*y + z*z)\n",
    "        return 6.67e-11 * self.mass / dist\n",
    "    \n",
    "    def __lt__(self, obj):\n",
    "        l1 = self.mass\n",
    "        l2 = obj.mass\n",
    "        return l1<l2\n",
    "    \n",
    "    def __str__(self):\n",
    "        mas = '{:.2e}'.format(self.mass)\n",
    "        pos = '({0[0]:.2e},{0[1]:.2e},{0[2]:.2e})'.format(self.position)\n",
    "        vel = '({0[0]:.2e},{0[1]:.2e},{0[2]:.2e})'.format(self.velocity)\n",
    "        return 'Mass: ' + mas + '  Position: ' + pos + '  Velocity: '+vel\n",
    "\n",
    "class Star(CelObj):\n",
    "    def __init__(self, mass=None, position=None, velocity=None, age=None):\n",
    "        CelObj.__init__(self,mass,position,velocity)\n",
    "        self.age = age or 0.\n",
    "    \n",
    "    def __lt__(self, obj):\n",
    "        l1 = self.age\n",
    "        l2 = obj.age\n",
    "        return l1<l2\n",
    "        \n",
    "    def __str__(self):\n",
    "        std = CelObj.__str__(self)\n",
    "        age = '  Age: {:.2e}'.format(self.age)\n",
    "        return std+age\n",
    "    \n",
    "class Planet(CelObj):\n",
    "    def __init__(self, mass=None, position=None, velocity=None, name=None):\n",
    "        CelObj.__init__(self,mass,position,velocity)\n",
    "        self.name = name or 'Unknown'\n",
    "        \n",
    "    def __str__(self):\n",
    "        std = CelObj.__str__(self)\n",
    "        nme = '  Name: {}'.format(self.name)\n",
    "        return std+nme\n",
    "        \n",
    "earth = Planet(6e24, [1,5e9,0,0], [0,3e4,0], name=\"Earth\")\n",
    "asteroid = CelObj(6e5, [2e10,1e9,3e6], [4e6,2e4,1e5])\n",
    "sun = Star(2e30, age=4.6e9)\n",
    "print(earth)\n",
    "print(asteroid)\n",
    "print(sun)"
   ]
  },
  {
   "cell_type": "markdown",
   "metadata": {},
   "source": [
    "In the above we can see that we create the parent class `CelObj` and two child classes `Star` and `Planet` (Python style guides indicate that classes should have CamelCase names).  To create the children we have to pass the parent class as input to the child class.  We then access the functions and data of the parent using the parent class name.\n",
    "\n",
    "We are free to add data types and functions or modify how they work. If we want to change the name of the parent class we have to change it everywhere we use it in the child class.  To avoid this we can use the `super()` inbuilt function which returns the parent class defined as input.  This would change the `Planet` class to be:"
   ]
  },
  {
   "cell_type": "code",
   "execution_count": null,
   "metadata": {
    "tags": []
   },
   "outputs": [],
   "source": [
    "class Planet(CelObj):\n",
    "    def __init__(self, mass=None, position=None, velocity=None, name=None):\n",
    "        super().__init__(self,mass,position,velocity)\n",
    "        self.name = name or 'Unknown'\n",
    "        \n",
    "    def __str__(self):\n",
    "        std = super().__str__(self)\n",
    "        nme = '  Name: {}'.format(self.name)\n",
    "        return std+nme"
   ]
  },
  {
   "cell_type": "markdown",
   "metadata": {},
   "source": [
    "If you create multiple classes with functions, or data which have the same name in each class, then you can create operations which can act on all of them. This is called 'polymorphisim' and is the kind of thing you only notice if it doesn't exist.  See the example below:"
   ]
  },
  {
   "cell_type": "code",
   "execution_count": null,
   "metadata": {
    "tags": []
   },
   "outputs": [],
   "source": [
    "class Lion:\n",
    "    def __init__(self, age=None, eats=None, name=None):\n",
    "        self.age = age or None\n",
    "        self.eats = eats or None\n",
    "        self.name = name or None\n",
    "    \n",
    "    def birthday(self):\n",
    "        self.age += 1\n",
    "\n",
    "    def __str__(self):\n",
    "        return 'Lion called: {}'.format(self.name)\n",
    "    \n",
    "class Car:\n",
    "    def __init__(self, age=None, milage=None, name=None):\n",
    "        self.age = age or None\n",
    "        self.milage = milage or None\n",
    "        self.name = name or None\n",
    "    \n",
    "    def birthday(self):\n",
    "        self.age += 1\n",
    "\n",
    "    def drive(self, miles):\n",
    "        self.milage += miles\n",
    "\n",
    "    def __str__(self):\n",
    "        return 'Car called: {}'.format(self.name)\n",
    "    \n",
    "Lion1 = Lion(5, 'antelope', 'Simba')\n",
    "Car1 = Car(3, 10000, 'Ford')\n",
    "\n",
    "list1 = [Lion1, Car1]\n",
    "\n",
    "for item in list1:\n",
    "    print(item.name)\n",
    "    item.birthday()\n",
    "    print(item.age)"
   ]
  },
  {
   "cell_type": "markdown",
   "metadata": {},
   "source": [
    "## Decorators\n",
    "\n",
    "Another advanced feature in Python which can be useful are decorators.  While everything we have seen so far exist to some degree in most object oreintated programming languages, decorators as fairly unique to python.\n",
    "\n",
    "Decorators are functions that modify functions and they takes a bit of getting used too as they are a bit weird.  They are not used so much in scientific programming but I'll cover them as there are a few cool use cases, and also when you come across them in other peoples code you need to know what is going on.\n",
    "\n",
    "All functions in python can take functions (or any object) as arguments.  Here is a simple example:"
   ]
  },
  {
   "cell_type": "code",
   "execution_count": null,
   "metadata": {
    "tags": []
   },
   "outputs": [],
   "source": [
    "def change_sign(func,x):\n",
    "    return -func(x)\n",
    "\n",
    "def times_two(x):\n",
    "    return 2e0*x\n",
    "\n",
    "x=3e0\n",
    "\n",
    "print(change_sign(times_two,x))"
   ]
  },
  {
   "cell_type": "markdown",
   "metadata": {},
   "source": [
    "So far so trivial. This isn't very generic as we had to specify the exact arguments for the function we are acting on.  We could generalise a bit by using flexible arguments:"
   ]
  },
  {
   "cell_type": "code",
   "execution_count": null,
   "metadata": {
    "tags": []
   },
   "outputs": [],
   "source": [
    "def change_sign(func,*args, **kwargs):\n",
    "    return -func(*args, **kwargs)\n",
    "\n",
    "def times_two(x):\n",
    "    return 2e0*x\n",
    "\n",
    "def product(x,y):\n",
    "    return x*y\n",
    "\n",
    "x=3e0\n",
    "y=4e0\n",
    "\n",
    "print(change_sign(times_two,x))\n",
    "print(change_sign(product,x,y))"
   ]
  },
  {
   "cell_type": "markdown",
   "metadata": {},
   "source": [
    "Now we have a generic function that can change the sign of the output of any function you pass it.  This is still clunky.  We would really like a function that changed the way the input function actually worked so we only had to do it once then we wouldn't need to change any of the other times it is used in the code. \n",
    "\n",
    "We can do this by making `change_sign` return a function rather than the output of a function. To do this we need to create a \"wrapping\" function inside `change_sign`. "
   ]
  },
  {
   "cell_type": "code",
   "execution_count": null,
   "metadata": {
    "tags": []
   },
   "outputs": [],
   "source": [
    "def change_sign(func):\n",
    "    def wrapper(*args, **kwargs):\n",
    "        return -func(*args, **kwargs)\n",
    "    return wrapper\n",
    "\n",
    "def times_two(x):\n",
    "    return 2e0*x\n",
    "\n",
    "def product(x,y):\n",
    "    return x*y\n",
    "\n",
    "x=3e0\n",
    "y=4e0\n",
    "\n",
    "times_minus_two = change_sign(times_two)\n",
    "\n",
    "print(times_minus_two(x))"
   ]
  },
  {
   "cell_type": "markdown",
   "metadata": {},
   "source": [
    "Now we have a function that will modify any function to create a new function which output the negative.  It's still a bit of a pain to have to redefine all of our functions like above, luckily Python has a great shorthand for this: decorators!"
   ]
  },
  {
   "cell_type": "code",
   "execution_count": null,
   "metadata": {
    "tags": []
   },
   "outputs": [],
   "source": [
    "def change_sign(func):\n",
    "    def wrapper(*args, **kwargs):\n",
    "        return -func(*args, **kwargs)\n",
    "    return wrapper\n",
    "\n",
    "@change_sign\n",
    "def times_two(x):\n",
    "    return 2e0*x\n",
    "\n",
    "@change_sign\n",
    "def product(x,y):\n",
    "    return x*y\n",
    "\n",
    "x=3e0\n",
    "y=4e0\n",
    "\n",
    "print(times_two(x))\n",
    "print(product(x,y))"
   ]
  },
  {
   "cell_type": "markdown",
   "metadata": {},
   "source": [
    "This is all decorators are.  They are syntacticly convenient notation for the code we used to redefine functions above.  They only apply to the function immediately below, they will not affect an other instances of the functions in the code.\n",
    "\n",
    "There is one more thing to fix, which is that currently both product and times_two are confused about their names:"
   ]
  },
  {
   "cell_type": "code",
   "execution_count": null,
   "metadata": {
    "scrolled": true,
    "tags": []
   },
   "outputs": [],
   "source": [
    "help(times_two)\n",
    "help(product)"
   ]
  },
  {
   "cell_type": "markdown",
   "metadata": {},
   "source": [
    "This is corrected by adding a special command which makes sure functions keep their names after wrapping"
   ]
  },
  {
   "cell_type": "code",
   "execution_count": null,
   "metadata": {
    "tags": []
   },
   "outputs": [],
   "source": [
    "import functools\n",
    "\n",
    "def change_sign(func):\n",
    "    @functools.wraps(func)\n",
    "    def wrapper(*args, **kwargs):\n",
    "        return -func(*args, **kwargs)\n",
    "    return wrapper\n",
    "\n",
    "@change_sign\n",
    "def times_two(x):\n",
    "    return 2e0*x\n",
    "\n",
    "@change_sign\n",
    "def product(x,y):\n",
    "    return x*y\n",
    "\n",
    "help(times_two)\n",
    "help(product)"
   ]
  },
  {
   "cell_type": "markdown",
   "metadata": {},
   "source": [
    "Decorators are often used for things like controlling access to functions with decorators like `login_required` or `staff_only` which will ask for the user to login before running or check the users status before allowing access. \n",
    "\n",
    "It's easy to see how useful these are for general programming, but what can scientists use them for?  One good use case is to use a decorator to print the input and output of functions when we want to debug our code.  It is useful to have this with a flag that turns it on and off so you can run the code in \"debug mode\" for any specific functions just by adding the decorator to their definitions.\n",
    "\n",
    "Debug decorator:"
   ]
  },
  {
   "cell_type": "code",
   "execution_count": null,
   "metadata": {
    "tags": []
   },
   "outputs": [],
   "source": [
    "import functools\n",
    "\n",
    "debug_flag = True\n",
    "\n",
    "def debug(func):\n",
    "    @functools.wraps(func)\n",
    "    def wrapper(*args, **kwargs):\n",
    "        if debug_flag:\n",
    "            arguments = [f\"{a}\" for a in args]\n",
    "            karguments = [f\"{k}={v}\" for k,v in kwargs.items()]\n",
    "            name = func.__name__\n",
    "            print(\"Calling \"+name+\" with args: \"+\", \".join(arguments)+\" and kwargs: \"+\", \".join(karguments))\n",
    "            value = func(*args, **kwargs)\n",
    "            print(\"Run function: \"+name+\", which output: \"+repr(value))\n",
    "            return value\n",
    "        else:\n",
    "            return func(*args, **kwargs)\n",
    "    return wrapper\n",
    "\n",
    "# @debug\n",
    "def times_two(x):\n",
    "    return 2e0*x\n",
    "\n",
    "print(times_two(2))"
   ]
  },
  {
   "cell_type": "markdown",
   "metadata": {},
   "source": [
    "Here is another more advanced decorator which \"caches\" function output to speed up computation.  Here every time we call a function for specific input for the first time we create a dictionary linking the input to the output.  Then when we call the function with the same output subsequently we can just look up the result from our dictionary rather than running the function again.\n",
    "\n",
    "This can lead to massive speedups for expensive functions which are called many times for the same input:"
   ]
  },
  {
   "cell_type": "code",
   "execution_count": null,
   "metadata": {
    "tags": []
   },
   "outputs": [],
   "source": [
    "import functools\n",
    "\n",
    "def cache(func):\n",
    "    \"\"\"Keep a cache of previous function calls\"\"\"\n",
    "    @functools.wraps(func)\n",
    "    def wrapper(*args, **kwargs):\n",
    "        cache_key = args + tuple(kwargs.items())\n",
    "        if cache_key not in wrapper.cache:\n",
    "            wrapper.cache[cache_key] = func(*args, **kwargs)\n",
    "        return wrapper.cache[cache_key]\n",
    "    \n",
    "    wrapper.cache = dict()\n",
    "    return wrapper\n",
    "\n",
    "@debug\n",
    "@cache\n",
    "def fibonacci(num):\n",
    "    a=0\n",
    "    b=1\n",
    "    for i in range(num):\n",
    "        a,b = b,a+b\n",
    "    return a\n",
    "\n",
    "\n",
    "fibonacci = cache(fibonacci)\n",
    "fibonacci = debug(fibonacci)\n",
    "\n",
    "%time fibonacci(1000)\n",
    "\n",
    "print(\"\\n*now again*\\n\")\n",
    "\n",
    "%time fibonacci(1000)"
   ]
  },
  {
   "cell_type": "markdown",
   "metadata": {},
   "source": [
    "Another useful decorator would be one to time how long specific functions take (see examples). \n",
    "\n",
    "In numpy we have already met one decorator, `np.vectorize` which modify simple functions to take vector input which you may have used in your previous exercises.  We can use this as either:"
   ]
  },
  {
   "cell_type": "code",
   "execution_count": null,
   "metadata": {},
   "outputs": [],
   "source": [
    "function2 = np.vectorize(function1)\n",
    "\n",
    "# or\n",
    "\n",
    "@np.vectorize\n",
    "def function1(...):"
   ]
  },
  {
   "cell_type": "markdown",
   "metadata": {},
   "source": [
    "Decorators can be used to do some cool things but are fairly advanced and you'll need to spend some time to understand how they work in detail, they're not often covered in introductory books.  I think this is a good place to start:\n",
    "\n",
    "https://realpython.com/primer-on-python-decorators/\n",
    "\n",
    "If nothing else at least if you see the `@` line in some code you'll know what it's doing as otherwise it's not clear at all from context.\n"
   ]
  },
  {
   "cell_type": "markdown",
   "metadata": {},
   "source": [
    "## Global and Local Variables\n",
    "\n",
    "Variables in python can have global or local scope.  Normally you don't need to think about this too much but it can be important for creating some functions.\n",
    "\n",
    "As you would expect global variables are accessible everywhere and local variables only in the function they are defined in.\n",
    "\n",
    "Variables created in for, while and if statements are GLOBAL, so available outside the loop (as are the iterators).  This is the opposite of C++."
   ]
  },
  {
   "cell_type": "code",
   "execution_count": null,
   "metadata": {},
   "outputs": [],
   "source": [
    "for i in range(3):\n",
    "    j=100\n",
    "print(j)\n",
    "print(i)\n",
    "i=0\n",
    "\n",
    "while i<2:\n",
    "    j=101\n",
    "    i=5\n",
    "print(j) \n",
    "\n",
    "if (True):\n",
    "    j=102\n",
    "print(j)"
   ]
  },
  {
   "cell_type": "markdown",
   "metadata": {},
   "source": [
    "Variables created in functions are LOCAL, so not available outside the function."
   ]
  },
  {
   "cell_type": "code",
   "execution_count": null,
   "metadata": {},
   "outputs": [],
   "source": [
    "def function1():\n",
    "    z=103\n",
    "    return 0\n",
    "print(z)\n"
   ]
  },
  {
   "cell_type": "markdown",
   "metadata": {},
   "source": [
    "When global and local variables have the same name python creates two instances, the local variable takes precedence in the function and dies at the net of it, the global variable takes precedence outside the function"
   ]
  },
  {
   "cell_type": "code",
   "execution_count": 24,
   "metadata": {},
   "outputs": [
    {
     "name": "stdout",
     "output_type": "stream",
     "text": [
      "104\n"
     ]
    },
    {
     "ename": "UnboundLocalError",
     "evalue": "cannot access local variable 'k' where it is not associated with a value",
     "output_type": "error",
     "traceback": [
      "\u001b[0;31m---------------------------------------------------------------------------\u001b[0m",
      "\u001b[0;31mUnboundLocalError\u001b[0m                         Traceback (most recent call last)",
      "\u001b[1;32m/Users/jamesfergusson/Library/CloudStorage/OneDrive-UniversityofCambridge/Modules/C1_Research_Computing/06_Advanced_Python.ipynb Cell 55\u001b[0m line \u001b[0;36m1\n\u001b[1;32m     <a href='vscode-notebook-cell:/Users/jamesfergusson/Library/CloudStorage/OneDrive-UniversityofCambridge/Modules/C1_Research_Computing/06_Advanced_Python.ipynb#Y105sZmlsZQ%3D%3D?line=10'>11</a>\u001b[0m     k\u001b[39m+\u001b[39m\u001b[39m=\u001b[39m\u001b[39m105\u001b[39m\n\u001b[1;32m     <a href='vscode-notebook-cell:/Users/jamesfergusson/Library/CloudStorage/OneDrive-UniversityofCambridge/Modules/C1_Research_Computing/06_Advanced_Python.ipynb#Y105sZmlsZQ%3D%3D?line=11'>12</a>\u001b[0m     \u001b[39mreturn\u001b[39;00m \u001b[39m0\u001b[39m\n\u001b[0;32m---> <a href='vscode-notebook-cell:/Users/jamesfergusson/Library/CloudStorage/OneDrive-UniversityofCambridge/Modules/C1_Research_Computing/06_Advanced_Python.ipynb#Y105sZmlsZQ%3D%3D?line=12'>13</a>\u001b[0m function3()\n\u001b[1;32m     <a href='vscode-notebook-cell:/Users/jamesfergusson/Library/CloudStorage/OneDrive-UniversityofCambridge/Modules/C1_Research_Computing/06_Advanced_Python.ipynb#Y105sZmlsZQ%3D%3D?line=13'>14</a>\u001b[0m \u001b[39mprint\u001b[39m(k)\n",
      "\u001b[1;32m/Users/jamesfergusson/Library/CloudStorage/OneDrive-UniversityofCambridge/Modules/C1_Research_Computing/06_Advanced_Python.ipynb Cell 55\u001b[0m line \u001b[0;36m1\n\u001b[1;32m      <a href='vscode-notebook-cell:/Users/jamesfergusson/Library/CloudStorage/OneDrive-UniversityofCambridge/Modules/C1_Research_Computing/06_Advanced_Python.ipynb#Y105sZmlsZQ%3D%3D?line=8'>9</a>\u001b[0m \u001b[39mdef\u001b[39;00m \u001b[39mfunction3\u001b[39m():\n\u001b[0;32m---> <a href='vscode-notebook-cell:/Users/jamesfergusson/Library/CloudStorage/OneDrive-UniversityofCambridge/Modules/C1_Research_Computing/06_Advanced_Python.ipynb#Y105sZmlsZQ%3D%3D?line=9'>10</a>\u001b[0m     \u001b[39mprint\u001b[39m(k)\n\u001b[1;32m     <a href='vscode-notebook-cell:/Users/jamesfergusson/Library/CloudStorage/OneDrive-UniversityofCambridge/Modules/C1_Research_Computing/06_Advanced_Python.ipynb#Y105sZmlsZQ%3D%3D?line=10'>11</a>\u001b[0m     k\u001b[39m+\u001b[39m\u001b[39m=\u001b[39m\u001b[39m105\u001b[39m\n\u001b[1;32m     <a href='vscode-notebook-cell:/Users/jamesfergusson/Library/CloudStorage/OneDrive-UniversityofCambridge/Modules/C1_Research_Computing/06_Advanced_Python.ipynb#Y105sZmlsZQ%3D%3D?line=11'>12</a>\u001b[0m     \u001b[39mreturn\u001b[39;00m \u001b[39m0\u001b[39m\n",
      "\u001b[0;31mUnboundLocalError\u001b[0m: cannot access local variable 'k' where it is not associated with a value"
     ]
    }
   ],
   "source": [
    "\n",
    "k=104\n",
    "def function2(): \n",
    "    k=105\n",
    "    return 0\n",
    "function2()\n",
    "print(k)\n",
    "\n",
    "k=104\n",
    "def function3():\n",
    "    k+=105\n",
    "    return 0\n",
    "function3()\n",
    "print(k)"
   ]
  },
  {
   "cell_type": "markdown",
   "metadata": {},
   "source": [
    "Sometimes we will want functions to modify global variables. To do this we must use the global keyword: "
   ]
  },
  {
   "cell_type": "code",
   "execution_count": 13,
   "metadata": {},
   "outputs": [
    {
     "name": "stdout",
     "output_type": "stream",
     "text": [
      "0\n",
      "1\n"
     ]
    }
   ],
   "source": [
    "# this does not work\n",
    "count=0\n",
    "def increment_count2(count):\n",
    "    count+=1\n",
    "    return 0\n",
    "\n",
    "increment_count2(count)\n",
    "print(count)\n",
    "\n",
    "# correct way\n",
    "count=0\n",
    "def increment_count():\n",
    "    global count\n",
    "    count+=1\n",
    "    return 0\n",
    "\n",
    "increment_count()\n",
    "print(count)"
   ]
  },
  {
   "cell_type": "markdown",
   "metadata": {},
   "source": [
    "This can be useful for defining a set of functions that act on some global variables in a module, like for input parameters for your code or for keeping track of key variables across your programme with out having to pass them.\n",
    "\n",
    "Data structures however do not behave this way and do not get private versions\n",
    "\n"
   ]
  },
  {
   "cell_type": "code",
   "execution_count": 7,
   "metadata": {},
   "outputs": [
    {
     "ename": "NameError",
     "evalue": "name 'list3' is not defined",
     "output_type": "error",
     "traceback": [
      "\u001b[0;31m---------------------------------------------------------------------------\u001b[0m",
      "\u001b[0;31mNameError\u001b[0m                                 Traceback (most recent call last)",
      "\u001b[1;32m/Users/jamesfergusson/Library/CloudStorage/OneDrive-UniversityofCambridge/Modules/C1_Research_Computing/06_Advanced_Python.ipynb Cell 59\u001b[0m line \u001b[0;36m2\n\u001b[1;32m      <a href='vscode-notebook-cell:/Users/jamesfergusson/Library/CloudStorage/OneDrive-UniversityofCambridge/Modules/C1_Research_Computing/06_Advanced_Python.ipynb#Y113sZmlsZQ%3D%3D?line=0'>1</a>\u001b[0m list1 \u001b[39m=\u001b[39m [\u001b[39m0\u001b[39m]\n\u001b[0;32m----> <a href='vscode-notebook-cell:/Users/jamesfergusson/Library/CloudStorage/OneDrive-UniversityofCambridge/Modules/C1_Research_Computing/06_Advanced_Python.ipynb#Y113sZmlsZQ%3D%3D?line=1'>2</a>\u001b[0m list3[\u001b[39m0\u001b[39m] \u001b[39m=\u001b[39m \u001b[39m100\u001b[39m\n\u001b[1;32m      <a href='vscode-notebook-cell:/Users/jamesfergusson/Library/CloudStorage/OneDrive-UniversityofCambridge/Modules/C1_Research_Computing/06_Advanced_Python.ipynb#Y113sZmlsZQ%3D%3D?line=2'>3</a>\u001b[0m \u001b[39mdef\u001b[39;00m \u001b[39mchange_list\u001b[39m():\n\u001b[1;32m      <a href='vscode-notebook-cell:/Users/jamesfergusson/Library/CloudStorage/OneDrive-UniversityofCambridge/Modules/C1_Research_Computing/06_Advanced_Python.ipynb#Y113sZmlsZQ%3D%3D?line=3'>4</a>\u001b[0m     list1[\u001b[39m0\u001b[39m] \u001b[39m=\u001b[39m \u001b[39m100\u001b[39m\n",
      "\u001b[0;31mNameError\u001b[0m: name 'list3' is not defined"
     ]
    }
   ],
   "source": [
    "list1 = [0]\n",
    "\n",
    "def change_list():\n",
    "    list1[0] = 100\n",
    "    return 0\n",
    "\n",
    "print(list1[0])\n",
    "change_list()\n",
    "print(list1[0])\n",
    "\n",
    "def change_list_passing(list1):\n",
    "    list1[0]+=1\n",
    "    return 0\n",
    "\n",
    "change_list_passing(list1)\n",
    "print(list1[0])"
   ]
  },
  {
   "cell_type": "markdown",
   "metadata": {},
   "source": []
  },
  {
   "cell_type": "markdown",
   "metadata": {},
   "source": [
    "Variables created in modules and packages are GLOBAL and accessible within the namespace so can't be made local to the module or package.  If you want to create variables that should only be accessed inside the module then preface them with \"_\" which doesn't stop anything but does indicate to the programmer that they shouldn't use them."
   ]
  }
 ],
 "metadata": {
  "kernelspec": {
   "display_name": "Python 3 (ipykernel)",
   "language": "python",
   "name": "python3"
  },
  "language_info": {
   "codemirror_mode": {
    "name": "ipython",
    "version": 3
   },
   "file_extension": ".py",
   "mimetype": "text/x-python",
   "name": "python",
   "nbconvert_exporter": "python",
   "pygments_lexer": "ipython3",
   "version": "3.11.5"
  }
 },
 "nbformat": 4,
 "nbformat_minor": 4
}
