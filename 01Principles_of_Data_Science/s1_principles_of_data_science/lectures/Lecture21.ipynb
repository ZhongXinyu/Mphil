{
 "cells": [
  {
   "cell_type": "markdown",
   "id": "47468801",
   "metadata": {
    "slideshow": {
     "slide_type": "slide"
    }
   },
   "source": [
    "# Principles of Data Science\n",
    "\n",
    "### Lecture 21: Concepts for Machine Learning\n",
    "\n",
    "_MPhil in Data Intensive Science_\n",
    "\n",
    "**University of Cambridge**\n",
    "\n",
    "<h2 style=\"color: blue\">Matt Kenzie</h2>\n",
    "\n",
    "[mk652@cam.ac.uk](mailto:mk652@cam.ac.uk)"
   ]
  },
  {
   "cell_type": "markdown",
   "id": "08641518",
   "metadata": {
    "slideshow": {
     "slide_type": "subslide"
    }
   },
   "source": [
    "## Advanced Topics\n",
    "\n",
    "- What do I mean by these advanced topics?\n",
    "    - <font color=\"green\">*Some discussion in the lecture*</font>\n",
    "    - Highly useful for applications (e.g. in your project)\n",
    "    - They are **still** examinable\n",
    "\n",
    "- Topics covered:\n",
    "    - Some concepts for machine learning (today)\n",
    "    - Density estimation\n",
    "    - Expectation maximisation\n",
    "    - Gaussian Mixture Models\n",
    "    - Discrete nuisance parameters (*the envelope method*)\n",
    "    - Projecting out p.d.f components (*sWeighting*)"
   ]
  },
  {
   "cell_type": "markdown",
   "id": "ff5d5c45",
   "metadata": {
    "slideshow": {
     "slide_type": "slide"
    }
   },
   "source": [
    "## Concepts for machine learning\n",
    "\n",
    "Today's lecture will heuristically cover some concepts in machine learning (of course related to some of the statistics we have learnt in this course)\n",
    "\n",
    "By the end of this lecture, you should have an overall understanding of, and be comfortable discussing\n",
    "- Measurement Error\n",
    "- Forward modelling\n",
    "- Optimisation\n",
    "- Regularisation"
   ]
  },
  {
   "cell_type": "markdown",
   "id": "70a18b6f",
   "metadata": {
    "slideshow": {
     "slide_type": "slide"
    }
   },
   "source": [
    "## Measurement Error\n",
    "\n",
    "- *Measurement error* (sometimes *observation error*) is the difference between the measured (observed) value and the true value\n",
    "- In **our** language it is\n",
    "\n",
    "$$ \\hat{\\theta} - \\theta $$\n",
    "\n",
    "- The estimate minus the truth\n",
    "\n",
    "- This is **NOT** the bias (a common misconception)\n",
    "\n",
    "$$ b(\\hat{\\theta}) = E[\\hat{\\theta} - \\theta] $$\n"
   ]
  },
  {
   "cell_type": "markdown",
   "id": "1ee58736",
   "metadata": {
    "slideshow": {
     "slide_type": "subslide"
    }
   },
   "source": [
    "- Measurement errors are caused by statistical fluctuations\n",
    "    - They are part and parcel of statistics and data analysis\n",
    "    \n",
    "- These are not normally problematic\n",
    "\n",
    "- We have now built an armoury of statistical theory which incorporates these\n",
    "    - This is what allows us to quote the estimated *error* on our estimates\n",
    "    \n",
    "- There are sometimes *also* systematic biases\n",
    "    - These can cause problems if not accounted for\n",
    "    \n",
    "- **Machine learning applications** (mostly based on regression) are based on statistical theory which **incorporates measurement error**"
   ]
  },
  {
   "cell_type": "markdown",
   "id": "33425c61",
   "metadata": {
    "slideshow": {
     "slide_type": "slide"
    }
   },
   "source": [
    "## Forward modelling\n",
    "\n",
    "- This is **what supervised machine learning algorithms do**\n",
    "- They make some prediction based on input features\n",
    "- We want them to minimise the difference between the prediction and some reference target\n",
    "- Consider training sample of size $N$\n",
    "$$ \\vec{x}_i = \\{\\vec{x}_1, \\vec{x}_2, \\dots, \\vec{x}_N \\} $$\n",
    "- And target\n",
    "\n",
    "$$ Y_i = \\{ Y_1, Y_2, \\dots, Y_N \\} $$\n",
    "\n",
    "- Want to build function (with some parameters) which makes some prediction (note small case $y$)\n",
    "\n",
    "$$ y_i = f(\\vec{x}_i, \\vec{\\theta}) $$\n",
    "\n",
    "- <font color=\"red\">*For typical regression problems, $\\vec{\\theta}$, are weights, $w_j$, and biases, $b_j$*</font>"
   ]
  },
  {
   "cell_type": "markdown",
   "id": "24ce27c0",
   "metadata": {
    "slideshow": {
     "slide_type": "subslide"
    }
   },
   "source": [
    "- Algorithm training done by adjusting $\\vec{\\theta}$ to minimise different between $y_i$ and $Y_i$\n",
    "\n",
    "$$ \\chi^2 = \\sum_i^N (y_i - Y_i)^2 = \\sum_i^N \\left( f(\\vec{x}_i) - Y_i \\right)^2 $$\n",
    "\n",
    "- This is what is meant by **forward modelling**\n",
    "\n",
    "- Need to ensure we avoid **over-training** using *statistically independent* adjoint samples (test / validation samples)"
   ]
  },
  {
   "cell_type": "markdown",
   "id": "1ff320e3",
   "metadata": {
    "slideshow": {
     "slide_type": "slide"
    }
   },
   "source": [
    "## Optimisation\n",
    "\n",
    "- Given a function\n",
    "$$ f(\\vec{x}) $$\n",
    "find the parameters $x_0$ which either *maximise* or *minimise* $f$\n",
    "\n",
    "<br>\n",
    "\n",
    "- Our typical examples have involved minimising / maximising a $\\chi^2$ or a likelihood\n",
    "\n",
    "#### How would you design a minimiser?\n"
   ]
  },
  {
   "cell_type": "markdown",
   "id": "3cdea61d",
   "metadata": {
    "slideshow": {
     "slide_type": "fragment"
    }
   },
   "source": [
    "- 1D is rather trivial (scan points)\n",
    "    - the brute force approach\n",
    "    \n",
    "- quickly gets out of hand for many-dimensions (scales with $n^m$)\n",
    "\n",
    "- better to find the gradient (can be done analytically or numericall)\n",
    "\n",
    "$$ \\frac{\\partial f}{\\partial x} $$\n",
    "\n",
    "- can also help to find the double gradient\n",
    "\n",
    "$$ \\frac{\\partial^2 f}{\\partial x^2} $$\n",
    "\n",
    "- In the case of a **negative log-likelihood minimisation** the double gradient is also useful to compute\n",
    "\n",
    "$$ V(\\hat{\\theta}) \\approx \\left. \\frac{\\partial^2 \\ln L}{\\partial \\theta^2} \\right|_{\\theta=\\hat{\\theta}}^{-1} $$"
   ]
  },
  {
   "cell_type": "markdown",
   "id": "49cd53f3",
   "metadata": {
    "slideshow": {
     "slide_type": "slide"
    }
   },
   "source": [
    "# <font color=\"darkred\">*Musical interlude...*</font>"
   ]
  },
  {
   "cell_type": "markdown",
   "id": "f59baf28",
   "metadata": {
    "slideshow": {
     "slide_type": "subslide"
    }
   },
   "source": [
    "## Optimisation alogrithms\n",
    "\n",
    "- `scipy.optimize` contains several which are useful"
   ]
  },
  {
   "cell_type": "code",
   "execution_count": 3,
   "id": "8bad7e9b",
   "metadata": {
    "slideshow": {
     "slide_type": "notes"
    }
   },
   "outputs": [],
   "source": [
    "import numpy as np\n",
    "import matplotlib.pyplot as plt"
   ]
  },
  {
   "cell_type": "markdown",
   "id": "508da287",
   "metadata": {},
   "source": [
    "- `scipy.optimize.minimize` has several `methods`\n",
    "- read the `scipy` docs to get an overview\n",
    "- requires an initial guess\n",
    "- can optionally pass bounds"
   ]
  },
  {
   "cell_type": "code",
   "execution_count": 14,
   "id": "00fde406",
   "metadata": {
    "scrolled": true,
    "slideshow": {
     "slide_type": "fragment"
    }
   },
   "outputs": [
    {
     "name": "stdout",
     "output_type": "stream",
     "text": [
      "  message: Optimization terminated successfully.\n",
      "  success: True\n",
      "   status: 0\n",
      "      fun: 0.0\n",
      "        x: [ 1.000e+00]\n",
      "      nit: 3\n",
      "      jac: [ 0.000e+00]\n",
      " hess_inv: [[ 5.000e-01]]\n",
      "     nfev: 8\n",
      "     njev: 4\n"
     ]
    }
   ],
   "source": [
    "import scipy.optimize as opt\n",
    "\n",
    "def f(x):\n",
    "    return x**2 - 2*x + 1\n",
    "\n",
    "res = opt.minimize(f, x0=5)\n",
    "\n",
    "print(res)"
   ]
  },
  {
   "cell_type": "markdown",
   "id": "72dbeca4",
   "metadata": {},
   "source": [
    "- note this does give some information on the uncertainty\n",
    "- as it returns the Hessian matrix (matrix of double differentials)"
   ]
  },
  {
   "cell_type": "code",
   "execution_count": 16,
   "id": "0a1687fa",
   "metadata": {},
   "outputs": [
    {
     "data": {
      "text/plain": [
       "<matplotlib.lines.Line2D at 0x14afc2d30>"
      ]
     },
     "execution_count": 16,
     "metadata": {},
     "output_type": "execute_result"
    },
    {
     "data": {
      "image/png": "[encoded data removed]",
      "text/plain": [
       "<Figure size 640x480 with 1 Axes>"
      ]
     },
     "metadata": {},
     "output_type": "display_data"
    }
   ],
   "source": [
    "x = np.linspace(-4,6,100)\n",
    "plt.plot(x, f(x))\n",
    "plt.axvline( res.x[0], c='r', ls='--')"
   ]
  },
  {
   "cell_type": "markdown",
   "id": "2c5db341",
   "metadata": {
    "slideshow": {
     "slide_type": "subslide"
    }
   },
   "source": [
    "- `scipy.optimize.basinhopping` and `scipy.optimize.brute`\n",
    "- useful for cases with multiple minima"
   ]
  },
  {
   "cell_type": "code",
   "execution_count": 23,
   "id": "97400d49",
   "metadata": {},
   "outputs": [
    {
     "data": {
      "text/plain": [
       "[<matplotlib.lines.Line2D at 0x14b351e20>]"
      ]
     },
     "execution_count": 23,
     "metadata": {},
     "output_type": "execute_result"
    },
    {
     "data": {
      "image/png": "[encoded data removed]",
      "text/plain": [
       "<Figure size 640x480 with 1 Axes>"
      ]
     },
     "metadata": {},
     "output_type": "display_data"
    }
   ],
   "source": [
    "def func(x):\n",
    "    return 2*x**4 + 0.4*x**3 - 4*x**2 + x + 3.5\n",
    "\n",
    "xrange = (-1.8, 1.5)\n",
    "x = np.linspace(*xrange, 200)\n",
    "plt.plot(x, func(x))"
   ]
  },
  {
   "cell_type": "code",
   "execution_count": 25,
   "id": "e1165746",
   "metadata": {
    "slideshow": {
     "slide_type": "fragment"
    }
   },
   "outputs": [
    {
     "name": "stdout",
     "output_type": "stream",
     "text": [
      "  message: Optimization terminated successfully.\n",
      "  success: True\n",
      "   status: 0\n",
      "      fun: 2.7496449642158223\n",
      "        x: [ 8.518e-01]\n",
      "      nit: 5\n",
      "      jac: [-1.788e-07]\n",
      " hess_inv: [[ 8.719e-02]]\n",
      "     nfev: 14\n",
      "     njev: 7\n"
     ]
    }
   ],
   "source": [
    "res1 = opt.minimize(func, x0=1)\n",
    "print(res1)"
   ]
  },
  {
   "cell_type": "code",
   "execution_count": 28,
   "id": "9033560f",
   "metadata": {},
   "outputs": [
    {
     "name": "stdout",
     "output_type": "stream",
     "text": [
      "                    message: ['requested number of basinhopping iterations completed successfully']\n",
      "                    success: True\n",
      "                        fun: 2.7496449642158196\n",
      "                          x: [ 8.518e-01]\n",
      "                        nit: 100\n",
      "      minimization_failures: 0\n",
      "                       nfev: 1566\n",
      "                       njev: 783\n",
      " lowest_optimization_result:  message: Optimization terminated successfully.\n",
      "                              success: True\n",
      "                               status: 0\n",
      "                                  fun: 2.7496449642158196\n",
      "                                    x: [ 8.518e-01]\n",
      "                                  nit: 5\n",
      "                                  jac: [ 8.941e-08]\n",
      "                             hess_inv: [[ 8.734e-02]]\n",
      "                                 nfev: 14\n",
      "                                 njev: 7\n"
     ]
    }
   ],
   "source": [
    "res2 = opt.basinhopping(func, x0=1)\n",
    "print(res2)"
   ]
  },
  {
   "cell_type": "code",
   "execution_count": 30,
   "id": "993c675b",
   "metadata": {},
   "outputs": [
    {
     "name": "stdout",
     "output_type": "stream",
     "text": [
      "[-1.1314376]\n"
     ]
    }
   ],
   "source": [
    "res3 = opt.brute(func, ranges=[xrange])\n",
    "print(res3)"
   ]
  },
  {
   "cell_type": "code",
   "execution_count": 42,
   "id": "36e5516e",
   "metadata": {},
   "outputs": [
    {
     "data": {
      "text/plain": [
       "<matplotlib.collections.PathCollection at 0x14b278940>"
      ]
     },
     "execution_count": 42,
     "metadata": {},
     "output_type": "execute_result"
    },
    {
     "data": {
      "image/png": "[encoded data removed]",
      "text/plain": [
       "<Figure size 640x480 with 1 Axes>"
      ]
     },
     "metadata": {},
     "output_type": "display_data"
    }
   ],
   "source": [
    "plt.plot(x, func(x))\n",
    "plt.scatter( res1.x[0], func(res1.x[0]), c='r', s=100)\n",
    "plt.scatter( res2.x[0], func(res2.x[0]), c='k', marker='x', s=50)\n",
    "plt.scatter( res3[0], func(res3[0]), c='g', s=100)"
   ]
  },
  {
   "cell_type": "markdown",
   "id": "04fcd4cc",
   "metadata": {
    "slideshow": {
     "slide_type": "subslide"
    }
   },
   "source": [
    "- the `migrad` algorithm\n",
    "- you have seen me make **extensive** use of this\n",
    "- it is the minimise that `iminuit` uses\n",
    "- it is **ancient** (by modern standards) but insurpassable (IMO) for statistical fits"
   ]
  },
  {
   "cell_type": "markdown",
   "id": "8f50458a",
   "metadata": {
    "slideshow": {
     "slide_type": "slide"
    }
   },
   "source": [
    "## Gradient descent\n",
    "\n",
    "- Used extensively in machine learning (often via the \"Adam\" optimiser)\n",
    "- Numerical calculation of gradient to \"descend\" in *cost function*\n",
    "- Has a free parameter, the <font color=\"blue\">*learning rate*</font> (sometimes called `alpha`)"
   ]
  },
  {
   "cell_type": "markdown",
   "id": "738f5a9f",
   "metadata": {
    "slideshow": {
     "slide_type": "fragment"
    }
   },
   "source": [
    "<img src=\"plots/grad_descent1.png\" alt=\"drawing\">"
   ]
  },
  {
   "cell_type": "markdown",
   "id": "d24c9b79",
   "metadata": {
    "slideshow": {
     "slide_type": "subslide"
    }
   },
   "source": [
    "- Beware of local minima and saddle points\n",
    "- Most optimisation algorithms are not designed for these\n",
    "- Beware also of **vanishing gradients** and **exploding gradients**\n",
    "- Training gets stuck over epochs"
   ]
  },
  {
   "cell_type": "markdown",
   "id": "fd59909e",
   "metadata": {
    "slideshow": {
     "slide_type": "fragment"
    }
   },
   "source": [
    "<img src=\"plots/grad_descent2.png\" alt=\"drawing\">"
   ]
  },
  {
   "cell_type": "markdown",
   "id": "dfc04d41",
   "metadata": {
    "slideshow": {
     "slide_type": "slide"
    }
   },
   "source": [
    "## Parameters in optimisations\n",
    "\n",
    "<font color=\"green\">*Discussion in the lecture*</font> <br>\n",
    "<br>\n",
    "Think **very** carefully about:\n",
    "\n",
    "- parameter definitions\n",
    "    - optimisers are designed for and generally like parameters to be $\\mathcal{O}(1)$\n",
    "- parameter starting values\n",
    "    - most optimisers **require** a starting value\n",
    "- parameter starting errors\n",
    "    - some optimiser **optionally provide** a starting uncertainty\n",
    "    - `migrad` is one of these which will initially guess 10% of the starting value\n",
    "    - this helps to tell the minimiser \"**how far away**\" it should be looking (more accurate gradients)\n",
    "    \n",
    "- parameter limits\n",
    "    - most optimisers **support** parameter limits\n",
    "    - helps to tell the minimiser the boundaries of where it should be looking"
   ]
  },
  {
   "cell_type": "markdown",
   "id": "b6f91b2b",
   "metadata": {},
   "source": [
    "<img src='plots/starting_vals.png'>"
   ]
  },
  {
   "cell_type": "markdown",
   "id": "b78d9bc9",
   "metadata": {
    "slideshow": {
     "slide_type": "slide"
    }
   },
   "source": [
    "## Regularisation\n",
    "\n",
    "- *Regularisation* refers to specific terms added to the cost function in order to **steer** or change the optimisation outcome\n",
    "- Examples include\n",
    "    - Priors\n",
    "    - Constraints\n",
    "    - Terms to avoid over-fitting \n",
    "    - Early-stopping\n",
    "    - Hyperparameters\n",
    "- Without regularisation many ML algorithms will *perfectly* learn their training sample\n",
    "    - We want them to **establish trends** not learn **statistical fluctuations**"
   ]
  },
  {
   "cell_type": "markdown",
   "id": "dc7d3821",
   "metadata": {
    "slideshow": {
     "slide_type": "subslide"
    }
   },
   "source": [
    "- *Regularisation* achieved by\n",
    "$$ L = \\sum_i^N V\\left( f(x_i), Y_i) \\right) + \\lambda R(f) $$\n",
    "\n",
    "- With $R$ the <font color=\"red\">*regularisation term</font>\n",
    "    - typically depends on the complexity of $f$ (number of $w_j$ and $b_j$) and the sample size, $N$\n",
    "<br><br>\n",
    "- The parameter $\\lambda$ is an additional hyperparameter\n",
    "    - can be tuned or trained on an independent sample\n",
    "    \n",
    "<img src=\"plots/regularisation.png\" width=\"800\">"
   ]
  },
  {
   "cell_type": "markdown",
   "id": "efbff94b",
   "metadata": {
    "slideshow": {
     "slide_type": "subslide"
    }
   },
   "source": [
    "## Examples of regularisation we have already seen\n",
    "\n",
    "- The extended maximum likelihood\n",
    "- Constraint terms in likelihoods \n",
    "- Systematic terms"
   ]
  },
  {
   "cell_type": "markdown",
   "id": "9c96f171",
   "metadata": {
    "slideshow": {
     "slide_type": "slide"
    }
   },
   "source": [
    "# End of Lecture 21\n",
    "\n",
    "By the end of this lecture you should have an overall understanding of, and be comfortable discussing\n",
    "- Measurement Error\n",
    "- Forward modelling\n",
    "- Optimisation\n",
    "- Regularisation"
   ]
  }
 ],
 "metadata": {
  "celltoolbar": "Slideshow",
  "kernelspec": {
   "display_name": "Python 3 (ipykernel)",
   "language": "python",
   "name": "python3"
  },
  "language_info": {
   "codemirror_mode": {
    "name": "ipython",
    "version": 3
   },
   "file_extension": ".py",
   "mimetype": "text/x-python",
   "name": "python",
   "nbconvert_exporter": "python",
   "pygments_lexer": "ipython3",
   "version": "3.9.16"
  },
  "rise": {
   "enable_chalkboard": true,
   "scroll": true
  }
 },
 "nbformat": 4,
 "nbformat_minor": 5
}
