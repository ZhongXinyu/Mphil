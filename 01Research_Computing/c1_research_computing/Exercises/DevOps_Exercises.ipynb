{
 "cells": [
  {
   "cell_type": "markdown",
   "metadata": {},
   "source": [
    "### Git Exercises\n",
    "\n",
    "1. Make a directory and create a git repository in it.\n",
    "2. Create 3 files A.txt, B.txt, C.txt with some text in them, add them to git then commit\n",
    "3. Add the text \"I'm in master\" to C.txt then commit\n",
    "4. Checkout the original commit and create a branch. Switch to it, then create 2 more files D.txt, E.txt (again with some text) Add them, then commit\n",
    "5. Switch between the master and branch and see how they change\n",
    "6. Switch to the branch and add the text \"I'm in branch\" to C.txt\n",
    "7. Merge the branch and master and resolve the conflict\n",
    "8. Delete the branch, use gitk (if installed) to view the repository\n",
    "9. Investigate the .git folder and use cat-file to read the commits and draw by hand the DAG with short SHA-1 codes.\n",
    "\n",
    "### Group Exercise\n",
    "\n",
    "9. For this we will write a collaborative story together in groups.\n",
    "    - you have been added ot a gitlab repo in your supervision groups (called group*)\n",
    "    - You must add three sentences to `story.txt` on **three different days**\n",
    "\n",
    "The goal is to try and write the best story possible! (but mostly get used to working with remote repositories)\n",
    "\n",
    "There is a lot more you can do with git. You should also consider using it for tasks beyond just coding, e.g. for writing collaborative papers in latex. To learn more, this is pretty useful: https://git-scm.com/doc "
   ]
  },
  {
   "cell_type": "markdown",
   "metadata": {},
   "source": [
    "### Prototyping Exercise\n",
    "\n",
    "Create a programme that can take the noisy data in the files `Data/period?.txt`, extract the periodic features and stack them up on a plot.  You may want to use routines in the package scipy signal: https://docs.scipy.org/doc/scipy/reference/signal.html. You should plan you strategy on paper then test and implement it with proper documentation.  Once you have finished you should swap with someone else and try to understand each others code without any explanation. The result should take the left and turn it into the right in the figures below:\n",
    "\n",
    "![](../Plots/Period1.png)\n",
    "![](../Plots/Period2.png)\n",
    "![](../Plots/Period3.png)\n",
    "![](../Plots/Period4.png)"
   ]
  },
  {
   "cell_type": "markdown",
   "metadata": {},
   "source": [
    "### Testing Exercise\n",
    "\n",
    "Write a small module that runs Conway's game of life, https://en.wikipedia.org/wiki/Conway%27s_Game_of_Life.  You start with a 2D grid (whose size is to be specified at runtime) where the cells are either 'alive' or 'dead'.  Then the rules for stepping in time are:\n",
    "\n",
    "- Overpopulation. Live cells with more than 3 neighbours die\n",
    "- Underpopulation. Live cells with less than 2 neighbours die\n",
    "- Reproduction. Dead cells with exactly 3 neighbours become live\n",
    "\n",
    "Boundaries are periodic\n",
    "\n",
    "The goal is to:\n",
    "1. Prototype \n",
    "    - It should take a starting set of cells or generate a random board\n",
    "    - Have a \"step\" function which advanced the board one timestep\n",
    "    - Have a \"run\" function which evolves the game n steps and plots/animates the result\n",
    "2. Design unit tests (The \"Oscillators\" from the wikipedia page are good for test cases)\n",
    "3. THEN! Write the code, try to use debug and include error traps.  You can use your unit tests to validate as you go.. See if you can use CI for the project.\n",
    "\n",
    "You can create all the logic yourself but the following functions will make it much easier: 2D convolution from https://docs.scipy.org/doc/scipy-0.15.1/reference/signal.html, which will count your neighbours, and then https://docs.scipy.org/doc/numpy/reference/generated/numpy.where.html for implementing the rules."
   ]
  },
  {
   "cell_type": "markdown",
   "metadata": {},
   "source": [
    "### Profiling Exercise:\n",
    "\n",
    "Profile both your periodic signal code and your 'game of life' code from above and identify any bottlenecks.  See if you can get them to run any faster. Ideally you should use this in your prototyping stage to check the quality of modules you may want to use."
   ]
  }
 ],
 "metadata": {
  "language_info": {
   "name": "python"
  },
  "orig_nbformat": 4
 },
 "nbformat": 4,
 "nbformat_minor": 2
}
