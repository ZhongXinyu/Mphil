{
 "cells": [
  {
   "cell_type": "markdown",
   "id": "47468801",
   "metadata": {
    "slideshow": {
     "slide_type": "slide"
    }
   },
   "source": [
    "# Principles of Data Science\n",
    "\n",
    "### Lecture 17: Limit Setting\n",
    "\n",
    "_MPhil in Data Intensive Science_\n",
    "\n",
    "**University of Cambridge**\n",
    "\n",
    "<h2 style=\"color: blue\">Matt Kenzie</h2>\n",
    "\n",
    "[mk652@cam.ac.uk](mailto:mk652@cam.ac.uk)"
   ]
  },
  {
   "cell_type": "markdown",
   "id": "08641518",
   "metadata": {
    "slideshow": {
     "slide_type": "subslide"
    }
   },
   "source": [
    "## Limit Setting\n",
    "\n",
    "- Today's lecture covers procedures for setting limits \n",
    "\n",
    "- Learning objectives:\n",
    "    - Recall how to set upper (or lower) limits on quantities using Feldman-Cousins\n",
    "    - Understand and be able to apply the CLs limit setting method"
   ]
  },
  {
   "cell_type": "markdown",
   "id": "2c0c66fc",
   "metadata": {
    "slideshow": {
     "slide_type": "subslide"
    }
   },
   "source": [
    "## Recap\n",
    "\n",
    "- Concept of a confidence band\n",
    "\n",
    "<img src=\"plots/conf_belt_norm.png\" alt=\"drawing\">\n",
    "\n",
    "- Use of Feldman-Cousins method when near a physical boundary\n",
    "\n",
    "<img src=\"plots/fc_norm.png\" alt=\"drawing\" width=\"600\">\n",
    "\n",
    "- Concept of hypothesis testing between $H_0$ and $H_1$\n",
    "\n",
    "<img src=\"plots/hypothesis_test.png\" alt=\"drawing\" width=\"600\">"
   ]
  },
  {
   "cell_type": "markdown",
   "id": "d7e01ef8",
   "metadata": {
    "slideshow": {
     "slide_type": "slide"
    }
   },
   "source": [
    "## Limit Setting\n",
    "\n",
    "- Limit setting is useful if we do not have sufficient precision to make a measurement\n",
    "- Allows us to exclude certain hypotheses\n",
    "- The typical use case is in <font color=\"blue\">searches for signals</font>\n",
    "    - small signal on top of a (small or large) background\n",
    "    \n",
    "- It is clear in this case there are two hypotheses:\n",
    "    - $H_0$ (the null) is the **background only** hypothesis\n",
    "    - $H_1$ (the alternate) is the **signal plus background** hypothesis"
   ]
  },
  {
   "cell_type": "markdown",
   "id": "31947219",
   "metadata": {
    "slideshow": {
     "slide_type": "subslide"
    }
   },
   "source": [
    "## Signal searches\n",
    "\n",
    "- The null hypothesis, $H_0$, (background only) is a **subset** of the alternate hypothesis\n",
    "- Imagine a model of the form\n",
    "\n",
    "$$ p(X; \\vec{\\theta}) = f s(X; \\vec{\\theta}_s) + (1-f) b(X; \\vec{\\theta}_b) $$\n",
    "\n",
    "- $H_0$ is a subset of the model where $f=0$\n",
    "- $H_1$ is then a continuous set of models with different values of $f$\n",
    "- We would normally consider the one at the best-fit value in our data $\\hat{f}$ to be **the** alternate\n",
    "\n",
    "- Recall that the test-statistic we should use is the log-likelihood ratio\n",
    "\n",
    "$$ T = -2\\ln \\left( \\frac{ L(f=\\hat{f}) }{L( f=0)} \\right) $$"
   ]
  },
  {
   "cell_type": "markdown",
   "id": "f1c0a823",
   "metadata": {
    "slideshow": {
     "slide_type": "subslide"
    }
   },
   "source": [
    "- The test-statistic will then take some distribution under the different hypotheses\n",
    "- The null distribution does not change\n",
    "- The alternate will change depending on the value of $f$\n",
    "- The data will only ever take a **single** value of $T$\n",
    "\n",
    "<img src=\"plots/test_stat_dist.png\" alt=\"drawing\" width=\"600\">"
   ]
  },
  {
   "cell_type": "markdown",
   "id": "ca858c7f",
   "metadata": {
    "slideshow": {
     "slide_type": "subslide"
    }
   },
   "source": [
    "- Based on this I can then decide whether to accept or reject the null hypothesis\n",
    "\n",
    "- Can reject $H_0$ with confidence $\\alpha$\n",
    "\n",
    "$$ \\alpha = \\int_{T_0}^\\infty p(T|H_0) dT $$\n",
    "\n",
    "- Or may decide to reject $H_1$ with confidence $1-\\beta$\n",
    "\n",
    "$$ 1-\\beta = \\int_\\infty^{T_0} p(T|H_1) dT $$"
   ]
  },
  {
   "cell_type": "markdown",
   "id": "ce730dd5",
   "metadata": {
    "slideshow": {
     "slide_type": "slide"
    }
   },
   "source": [
    "## And to set a limit?\n",
    "\n",
    "- So what if I see something consistent with $H_0$ and I want to set a limit on the value of $f$ at some confidence level $\\beta$?\n",
    "- Now I have to find the value of $f$ (call this $f_{\\text{lim}}$) for which I get the desired $\\beta$\n",
    "\n",
    "$$ 1 - \\beta = \\int_\\infty^{T_0} p(T|H_1) dT $$\n",
    "\n",
    "- This means I can now state: \"values of $f>f_{\\text{lim}}$ are excluded at $\\beta\\%$ C.L.\"\n",
    "\n",
    "<img src=\"plots/test_stat_dist2.png\" alt=\"drawing\" width=\"600\">"
   ]
  },
  {
   "cell_type": "markdown",
   "id": "c26510ee",
   "metadata": {
    "slideshow": {
     "slide_type": "subslide"
    }
   },
   "source": [
    "- This is known as the **\"observed\"** limit\n",
    "- Quite often see it drawn as a function of the signal rate (the red line below)\n",
    "\n",
    "<img src=\"plots/lhcb-limit-curve.png\" alt=\"drawing\" width=\"800\">\n",
    "\n",
    "- But what are all these other lines for?"
   ]
  },
  {
   "cell_type": "markdown",
   "id": "035c7fb3",
   "metadata": {
    "slideshow": {
     "slide_type": "slide"
    }
   },
   "source": [
    "## Expected limits\n",
    "\n",
    "- Our data is always just some sample from the **\"true\"** distribution\n",
    "- We are always interested in our data of course\n",
    "- But we are also often interested in the \"ensemble\" of all possible datasets we **could have** got\n",
    "- This is where the expected line and expected band come in\n",
    "    - the expected limit is the median \n",
    "    - the band is the quantile at some CL\n",
    "    \n",
    "<img src=\"plots/test_stat_dist3.png\" alt=\"drawing\" width=\"600\">"
   ]
  },
  {
   "cell_type": "markdown",
   "id": "9d7c7139",
   "metadata": {
    "slideshow": {
     "slide_type": "subslide"
    }
   },
   "source": [
    "## Set up an example\n",
    "\n",
    " - First some code to setup the model"
   ]
  },
  {
   "cell_type": "code",
   "execution_count": 1,
   "id": "3a190c01",
   "metadata": {
    "slideshow": {
     "slide_type": "notes"
    }
   },
   "outputs": [],
   "source": [
    "import numpy as np\n",
    "np.random.seed(210187)\n",
    "import matplotlib.pyplot as plt\n",
    "plt.style.use('../mphil.mplstyle')\n",
    "from scipy.stats import uniform, norm"
   ]
  },
  {
   "cell_type": "code",
   "execution_count": 2,
   "id": "c0620056",
   "metadata": {},
   "outputs": [],
   "source": [
    "# obs range\n",
    "xrange = (3,3.5)\n",
    "\n",
    "# true pars\n",
    "mu = 3.25\n",
    "sg = 0.05\n",
    "fr = 0.1\n",
    "Nevs = 500\n",
    "\n",
    "# models\n",
    "def smodel(x, mu, sg):\n",
    "    return norm.pdf(x, mu, sg)\n",
    "\n",
    "def bmodel(x):\n",
    "    return uniform.pdf(x, xrange[0], xrange[1]-xrange[0])\n",
    "\n",
    "def model(x, f, mu, sg):\n",
    "    return f*smodel(x,mu,sg) + (1-f)*bmodel(x)\n",
    "\n",
    "def density(x, Ns, mu, sg, Nb):\n",
    "    return Ns+Nb, Ns*smodel(x,mu,sg) + Nb*bmodel(x)\n"
   ]
  },
  {
   "cell_type": "markdown",
   "id": "be7d3020",
   "metadata": {},
   "source": [
    "- then some code to setup a generation"
   ]
  },
  {
   "cell_type": "code",
   "execution_count": 3,
   "id": "726a63d2",
   "metadata": {},
   "outputs": [],
   "source": [
    "def generate(Ns, mu, sg, Nb, poiss=True):\n",
    "    smodel = norm(mu,sg)\n",
    "    bmodel = uniform(xrange[0], xrange[1]-xrange[0])\n",
    "    \n",
    "    if poiss:\n",
    "        Ns = np.random.poisson( Ns )\n",
    "        Nb = np.random.poisson( Nb )\n",
    "\n",
    "    bevs = bmodel.rvs(size=Nb)\n",
    "    sevs = smodel.rvs(size=Ns)\n",
    "\n",
    "    dset = np.concatenate([bevs,sevs])\n",
    "    \n",
    "    return dset\n",
    "    \n",
    "    "
   ]
  },
  {
   "cell_type": "markdown",
   "id": "6427fe46",
   "metadata": {},
   "source": [
    "- next let's generate what we will call our \"data\""
   ]
  },
  {
   "cell_type": "code",
   "execution_count": 4,
   "id": "f07b8229",
   "metadata": {},
   "outputs": [],
   "source": [
    "dset = generate( Ns=fr*Nevs, mu=mu, sg=sg, Nb=(1-fr)*Nevs )"
   ]
  },
  {
   "cell_type": "code",
   "execution_count": 5,
   "id": "fcb9d3e5",
   "metadata": {},
   "outputs": [],
   "source": [
    "# write a fitting function\n",
    "from iminuit import cost, Minuit\n",
    "\n",
    "def fit(dset, verbose=False):\n",
    "    nll = cost.ExtendedUnbinnedNLL(dset, density)\n",
    "    mi = Minuit(nll, Ns=fr*Nevs, mu=mu, sg=sg, Nb=(1-fr)*Nevs)\n",
    "    mi.limits['Ns','Nb'] = (0,3*Nevs)\n",
    "    mi.limits['mu'] = xrange\n",
    "    mi.limits['sg'] = (0,0.5)\n",
    "\n",
    "    # free fit\n",
    "    mi.migrad()\n",
    "    mi.hesse()\n",
    "    sb_nll = mi.fval\n",
    "    sb_vals = list(mi.values)\n",
    "    if verbose:\n",
    "        print(mi)\n",
    "\n",
    "    # b-only fit\n",
    "    mi.values['Ns'] = 0\n",
    "    mi.fixed['Ns','mu','sg'] = True\n",
    "    mi.migrad()\n",
    "    mi.hesse()\n",
    "    bo_nll = mi.fval\n",
    "    bo_vals = list(mi.values)\n",
    "    if verbose:\n",
    "        print(mi)\n",
    "        \n",
    "    n2ll = -2*(sb_nll-bo_nll)\n",
    "     \n",
    "    return n2ll, sb_vals, bo_vals\n"
   ]
  },
  {
   "cell_type": "markdown",
   "id": "50e6cac2",
   "metadata": {},
   "source": [
    "- run the fit to our pretend data"
   ]
  },
  {
   "cell_type": "code",
   "execution_count": 6,
   "id": "e8d94de7",
   "metadata": {},
   "outputs": [],
   "source": [
    "T0, sb_vals, bo_vals = fit(dset)"
   ]
  },
  {
   "cell_type": "code",
   "execution_count": 7,
   "id": "2b56f0f2",
   "metadata": {
    "scrolled": false,
    "slideshow": {
     "slide_type": "notes"
    }
   },
   "outputs": [
    {
     "data": {
      "image/png": "[encoded data removed]",
      "text/plain": [
       "<Figure size 640x480 with 1 Axes>"
      ]
     },
     "metadata": {},
     "output_type": "display_data"
    }
   ],
   "source": [
    "# write a plotting function to check it looks ok\n",
    "def plot(dset, sb_vals, bo_vals):\n",
    "    \n",
    "    fig, ax = plt.subplots()\n",
    "    nh, xe = np.histogram(dset, bins=25)\n",
    "    cx = 0.5*(xe[:-1]+xe[1:])\n",
    "    bw = xe[1]-xe[0]\n",
    "    \n",
    "    ax.errorbar(cx, nh, nh**0.5, fmt='ko', label='Data')\n",
    "    \n",
    "    x = np.linspace(*xrange, 400)\n",
    "    \n",
    "    ax.plot( x, bw*density(x, *bo_vals)[1], 'r--', label='B-only' )\n",
    "    ax.plot( x, bw*density(x, *sb_vals)[1], 'b-' , label='S+B')\n",
    "    \n",
    "    ax.legend()\n",
    "    \n",
    "    ax.set_xlabel('$X$')\n",
    "    ax.set_ylabel('Counts')\n",
    "    \n",
    "plot(dset, sb_vals, bo_vals)"
   ]
  },
  {
   "cell_type": "markdown",
   "id": "b6c11d0b",
   "metadata": {
    "slideshow": {
     "slide_type": "subslide"
    }
   },
   "source": [
    "## Now actually generate the $H_1$ distribution\n",
    "\n",
    "- Going to simulate a series of \"pseudo-experiments\" which mimic some $H_1$ hypothesis"
   ]
  },
  {
   "cell_type": "code",
   "execution_count": 8,
   "id": "ad835c7b",
   "metadata": {
    "scrolled": false
   },
   "outputs": [
    {
     "name": "stderr",
     "output_type": "stream",
     "text": [
      "100%|██████████████████████████████████████████████████████████████████████████████████████████████████████████████████████████████████████████████████| 2000/2000 [00:35<00:00, 56.10it/s]\n"
     ]
    }
   ],
   "source": [
    "from tqdm import tqdm\n",
    "ntoys = 2000\n",
    "gen_vals = sb_vals\n",
    "sb_test_stats = []\n",
    "for i in tqdm(range(ntoys)):\n",
    "    toy = generate(*gen_vals) \n",
    "    ll, sb, bo = fit(toy)\n",
    "    sb_test_stats.append(ll)\n",
    "    "
   ]
  },
  {
   "cell_type": "code",
   "execution_count": 11,
   "id": "d78e6b75",
   "metadata": {
    "scrolled": true
   },
   "outputs": [
    {
     "data": {
      "text/plain": [
       "Text(0.5, 0, '$T$')"
      ]
     },
     "execution_count": 11,
     "metadata": {},
     "output_type": "execute_result"
    },
    {
     "data": {
      "image/png": "[encoded data removed]",
      "text/plain": [
       "<Figure size 640x480 with 1 Axes>"
      ]
     },
     "metadata": {},
     "output_type": "display_data"
    }
   ],
   "source": [
    "# find expected point and band\n",
    "from scipy.stats import chi2\n",
    "Texp = np.median( sb_test_stats)\n",
    "qlow = (1-chi2.cdf(1,1))/2\n",
    "qup = 1-qlow\n",
    "Tlow, Tup = np.quantile( sb_test_stats, [qlow, qup] )\n",
    "\n",
    "plt.hist(sb_test_stats, density=True, bins=50, alpha=0.5)\n",
    "plt.plot( [T0, T0], [0,0.025], label='$T_0$', c='k')\n",
    "plt.plot( [Texp, Texp], [0, 0.025], label='$T_{exp}$' )\n",
    "plt.plot( [Tlow, Tlow], [0, 0.025], c='C2', ls='--')\n",
    "plt.plot( [Tup, Tup], [0, 0.025], c='C2', ls='--')\n",
    "plt.legend()\n",
    "plt.xlabel('$T$')"
   ]
  },
  {
   "cell_type": "markdown",
   "id": "49cd53f3",
   "metadata": {
    "slideshow": {
     "slide_type": "slide"
    }
   },
   "source": [
    "# <font color=\"darkred\">*Musical interlude...*</font>"
   ]
  },
  {
   "cell_type": "markdown",
   "id": "6b4302b5",
   "metadata": {
    "slideshow": {
     "slide_type": "slide"
    }
   },
   "source": [
    "## The $CL_s$ method\n",
    "\n",
    "- What you may realise is that we have a bit of an issue if our data is not consistent with either $H_0$ nor $H_1$ and we have poor sensitivity to their separation\n",
    "- For example, imagine a downward fluctuation in data and poor $H_0$ and $H_1$ separation (i.e. little or no sensitivity to the signal)\n",
    "\n",
    "<img src=\"plots/test_stat_dist4.png\" alt=\"drawing\" width=\"600\">\n",
    "\n",
    "- But I would rule out the signal here, even though I am not sensitive to it\n",
    "- Many consider this poor practise"
   ]
  },
  {
   "cell_type": "markdown",
   "id": "9db7b705",
   "metadata": {
    "slideshow": {
     "slide_type": "subslide"
    }
   },
   "source": [
    "- Thus the so-called $CL_s$ method is introduced to overcome this specific problem\n",
    "- The limits or exclusion region we have found previously (and called $\\beta$) is the $1-CL_{sb}$ region with $p$-value denoted by $p_{sb}$\n",
    "- The $CL_s$ method simply weights this by the equivalent region for $H_0$ only, i.e. the $CL_b$ region so that\n",
    "\n",
    "$$ p_{s} = \\frac{ p_{sb} } { 1-p_{b} } $$\n",
    "\n",
    "<img src=\"plots/test_stat_dist5.png\" alt=\"drawing\" width=\"600\">\n",
    "\n",
    "- Thus is there perfect discrimination between $H_0$ and $H_1$ are $p$-value gets scaled by 1\n",
    "- Otherwise it is scaled by something smaller than 1 (potentially much smaller) meaning our exclusion gets worse"
   ]
  },
  {
   "cell_type": "markdown",
   "id": "c0a00706",
   "metadata": {
    "slideshow": {
     "slide_type": "subslide"
    }
   },
   "source": [
    "## The CLs method\n",
    "\n",
    "- The CLs method is (intentionally) conservative\n",
    "- It is meant to protect against *false* exclusions\n",
    "- It should be noted that it will in general overcover unless $H_0$ and $H_1$ are easily distinguishable\n",
    "\n",
    "<img src=\"plots/cls_coverage.png\" alt=\"drawing\" width=\"600\">"
   ]
  },
  {
   "cell_type": "markdown",
   "id": "52399cbd",
   "metadata": {
    "slideshow": {
     "slide_type": "slide"
    }
   },
   "source": [
    "## Applying CLs to the example above\n",
    "\n",
    "- Now need to generate some background only pseudo-experiments as well"
   ]
  },
  {
   "cell_type": "code",
   "execution_count": 12,
   "id": "31824c90",
   "metadata": {},
   "outputs": [
    {
     "name": "stderr",
     "output_type": "stream",
     "text": [
      "100%|██████████████████████████████████████████████████████████████████████████████████████████████████████████████████████████████████████████████████| 2000/2000 [00:52<00:00, 37.93it/s]\n"
     ]
    }
   ],
   "source": [
    "gen_vals = bo_val s\n",
    "bo_test_stats = []\n",
    "for i in tqdm(range(ntoys)):\n",
    "    toy = generate(*gen_vals) \n",
    "    ll, sb, bo = fit(toy)\n",
    "    bo_test_stats.append(ll)"
   ]
  },
  {
   "cell_type": "code",
   "execution_count": 14,
   "id": "d6c6f96f",
   "metadata": {},
   "outputs": [
    {
     "data": {
      "text/plain": [
       "[<matplotlib.lines.Line2D at 0x149e07cd0>]"
      ]
     },
     "execution_count": 14,
     "metadata": {},
     "output_type": "execute_result"
    },
    {
     "data": {
      "image/png": "[encoded data removed]",
      "text/plain": [
       "<Figure size 640x480 with 1 Axes>"
      ]
     },
     "metadata": {},
     "output_type": "display_data"
    }
   ],
   "source": [
    "plt.hist(sb_test_stats, density=True, bins=50, alpha=0.5)\n",
    "plt.hist(bo_test_stats, density=True, bins=50, alpha=0.5)\n",
    "plt.plot( [T0, T0], [0,0.1], label='$T_0$', c='k')"
   ]
  },
  {
   "cell_type": "markdown",
   "id": "04d0f9e7",
   "metadata": {
    "slideshow": {
     "slide_type": "subslide"
    }
   },
   "source": [
    "- Actually in this case see that the separation is already good\n",
    "- Count fraction of \"toys\" below the observation"
   ]
  },
  {
   "cell_type": "code",
   "execution_count": 18,
   "id": "db93613c",
   "metadata": {},
   "outputs": [
    {
     "name": "stdout",
     "output_type": "stream",
     "text": [
      "0.4035 1.0 0.4035\n"
     ]
    }
   ],
   "source": [
    "sb_test_stats = np.asarray( sb_test_stats )\n",
    "bo_test_stats = np.asarray( bo_test_stats )\n",
    "CLsb = len( sb_test_stats[sb_test_stats < T0] ) / 2000\n",
    "CLb  = len( bo_test_stats[bo_test_stats < T0] ) / 2000\n",
    "\n",
    "CLs = CLsb / CLb\n",
    "print(CLsb, CLb, CLs)"
   ]
  },
  {
   "cell_type": "markdown",
   "id": "d3e221d9",
   "metadata": {},
   "source": [
    "- Comments and thoughts here\n",
    "- Recall that to find the signal rate (or Ns) value excluded at X\\% CL (rather than just this pathetic 60\\%)\n",
    "    - Run toys for $H_1$ at higher values of $N_s$ and find where this crosses to generate the plot like\n",
    "\n",
    "<img src=\"plots/lhcb-limit-curve.png\" alt=\"drawing\" width=\"600\">"
   ]
  },
  {
   "cell_type": "markdown",
   "id": "9c96f171",
   "metadata": {
    "slideshow": {
     "slide_type": "slide"
    }
   },
   "source": [
    "# End of Lecture Number\n",
    "\n",
    "By the end of this lecture you should:\n",
    "   - Recall how to set upper (or lower) limits on quantities using Feldman-Cousins\n",
    "   - Understand and be able to apply the CLs limit setting method"
   ]
  }
 ],
 "metadata": {
  "celltoolbar": "Slideshow",
  "kernelspec": {
   "display_name": "Python 3 (ipykernel)",
   "language": "python",
   "name": "python3"
  },
  "language_info": {
   "codemirror_mode": {
    "name": "ipython",
    "version": 3
   },
   "file_extension": ".py",
   "mimetype": "text/x-python",
   "name": "python",
   "nbconvert_exporter": "python",
   "pygments_lexer": "ipython3",
   "version": "3.9.16"
  },
  "rise": {
   "enable_chalkboard": true,
   "scroll": true
  }
 },
 "nbformat": 4,
 "nbformat_minor": 5
}
