{
 "cells": [
  {
   "cell_type": "code",
   "execution_count": 430,
   "metadata": {},
   "outputs": [],
   "source": [
    "import numpy as np\n",
    "import matplotlib.pyplot as plt\n",
    "from scipy.special import erf\n",
    "from scipy.optimize import minimize\n",
    "from iminuit import Minuit\n",
    "from iminuit.cost import UnbinnedNLL"
   ]
  },
  {
   "cell_type": "code",
   "execution_count": 431,
   "metadata": {},
   "outputs": [],
   "source": [
    "# define probability function\n",
    "def pdf(x, mu, sigma, a, b):\n",
    "\n",
    "    # cdf from a to b\n",
    "    cdf = lambda x: 0.5 * (1 + erf((x - mu) / (sigma * (2 ** 0.5))))\n",
    "\n",
    "    # normalization constant\n",
    "    N = 1 / (1 - (cdf(b) - cdf(a)))\n",
    "    \n",
    "    # return gaussian\n",
    "    return N * (1 / (sigma * ((2 * np.pi) ** 0.5))) * (np.exp ((-0.5 * (((x - mu) / sigma) ** 2))))"
   ]
  },
  {
   "cell_type": "code",
   "execution_count": 432,
   "metadata": {},
   "outputs": [],
   "source": [
    "# set the parameters \n",
    "mu_true = 0.1\n",
    "sigma_true = 0.9\n",
    "a_true = - 1.2\n",
    "b_true = - 0.4\n",
    "num_samples = 100000\n",
    "\n",
    "# generate data that follows gaussian distribution \n",
    "data = np.random.normal(mu_true, sigma_true, num_samples)\n",
    "\n",
    "# remove data that falls between a and b\n",
    "data = [x for x in data if x > b_true or x < a_true]"
   ]
  },
  {
   "cell_type": "code",
   "execution_count": 433,
   "metadata": {},
   "outputs": [
    {
     "data": {
      "image/png": "[encoded data removed]",
      "text/plain": [
       "<Figure size 640x480 with 1 Axes>"
      ]
     },
     "metadata": {},
     "output_type": "display_data"
    }
   ],
   "source": [
    "# plot data as histogram\n",
    "plt.hist(data, bins=100)\n",
    "plt.show()"
   ]
  },
  {
   "cell_type": "code",
   "execution_count": 434,
   "metadata": {},
   "outputs": [],
   "source": [
    "# define the model to generate the PDF of p \n",
    "def nll(mu, sigma, a, da):\n",
    "    nll = 0\n",
    "    for x in data:\n",
    "        if x < a + da and x > a:\n",
    "            nll += - np.log(0.00000000001)\n",
    "        else:\n",
    "            nll += - np.log(pdf(x, mu, sigma, a, a + da))\n",
    "    return nll"
   ]
  },
  {
   "cell_type": "code",
   "execution_count": 435,
   "metadata": {},
   "outputs": [
    {
     "name": "stderr",
     "output_type": "stream",
     "text": [
      "/var/folders/ry/r28_vw1507xg9nf1c8mtsr500000gn/T/ipykernel_21077/295934724.py:8: RuntimeWarning: divide by zero encountered in log\n",
      "  nll += - np.log(pdf(x, mu, sigma, a, a + da))\n"
     ]
    },
    {
     "data": {
      "text/html": [
       "<table>\n",
       "    <tr>\n",
       "        <th colspan=\"2\" style=\"text-align:center\" title=\"Minimizer\"> Migrad </th>\n",
       "    </tr>\n",
       "    <tr>\n",
       "        <td style=\"text-align:left\" title=\"Minimum value of function\"> FCN = 8.781e+04 </td>\n",
       "        <td style=\"text-align:center\" title=\"Total number of function and (optional) gradient evaluations\"> Nfcn = 442 </td>\n",
       "    </tr>\n",
       "    <tr>\n",
       "        <td style=\"text-align:left\" title=\"Estimated distance to minimum and goal\"> EDM = 8.96e+04 (Goal: 0.0002) </td>\n",
       "        <td style=\"text-align:center\" title=\"Total run time of algorithms\">  </td>\n",
       "    </tr>\n",
       "    <tr>\n",
       "        <td style=\"text-align:center;background-color:#c15ef7;color:black\"> INVALID Minimum </td>\n",
       "        <td style=\"text-align:center;background-color:#c15ef7;color:black\"> ABOVE EDM threshold (goal x 10) </td>\n",
       "    </tr>\n",
       "    <tr>\n",
       "        <td style=\"text-align:center;background-color:#92CCA6;color:black\"> No parameters at limit </td>\n",
       "        <td style=\"text-align:center;background-color:#92CCA6;color:black\"> Below call limit </td>\n",
       "    </tr>\n",
       "    <tr>\n",
       "        <td style=\"text-align:center;background-color:#92CCA6;color:black\"> Hesse ok </td>\n",
       "        <td style=\"text-align:center;background-color:#92CCA6;color:black\"> Covariance accurate </td>\n",
       "    </tr>\n",
       "</table><table>\n",
       "    <tr>\n",
       "        <td></td>\n",
       "        <th title=\"Variable name\"> Name </th>\n",
       "        <th title=\"Value of parameter\"> Value </th>\n",
       "        <th title=\"Hesse error\"> Hesse Error </th>\n",
       "        <th title=\"Minos lower error\"> Minos Error- </th>\n",
       "        <th title=\"Minos upper error\"> Minos Error+ </th>\n",
       "        <th title=\"Lower limit of the parameter\"> Limit- </th>\n",
       "        <th title=\"Upper limit of the parameter\"> Limit+ </th>\n",
       "        <th title=\"Is the parameter fixed in the fit\"> Fixed </th>\n",
       "    </tr>\n",
       "    <tr>\n",
       "        <th> 0 </th>\n",
       "        <td> mu </td>\n",
       "        <td> 0.165 </td>\n",
       "        <td> 0.004 </td>\n",
       "        <td>  </td>\n",
       "        <td>  </td>\n",
       "        <td> -5 </td>\n",
       "        <td> 5 </td>\n",
       "        <td>  </td>\n",
       "    </tr>\n",
       "    <tr>\n",
       "        <th> 1 </th>\n",
       "        <td> sigma </td>\n",
       "        <td> 0.8815 </td>\n",
       "        <td> 0.0029 </td>\n",
       "        <td>  </td>\n",
       "        <td>  </td>\n",
       "        <td> 0.0001 </td>\n",
       "        <td> 5 </td>\n",
       "        <td>  </td>\n",
       "    </tr>\n",
       "    <tr>\n",
       "        <th> 2 </th>\n",
       "        <td> a </td>\n",
       "        <td> -1.0000004 </td>\n",
       "        <td> 0.0000014 </td>\n",
       "        <td>  </td>\n",
       "        <td>  </td>\n",
       "        <td> -5 </td>\n",
       "        <td> 5 </td>\n",
       "        <td>  </td>\n",
       "    </tr>\n",
       "    <tr>\n",
       "        <th> 3 </th>\n",
       "        <td> da </td>\n",
       "        <td> 600.01e-3 </td>\n",
       "        <td> 0.08e-3 </td>\n",
       "        <td>  </td>\n",
       "        <td>  </td>\n",
       "        <td> 0.0001 </td>\n",
       "        <td> 5 </td>\n",
       "        <td>  </td>\n",
       "    </tr>\n",
       "</table><table>\n",
       "    <tr>\n",
       "        <td></td>\n",
       "        <th> mu </th>\n",
       "        <th> sigma </th>\n",
       "        <th> a </th>\n",
       "        <th> da </th>\n",
       "    </tr>\n",
       "    <tr>\n",
       "        <th> mu </th>\n",
       "        <td> 2.02e-05 </td>\n",
       "        <td style=\"background-color:rgb(250,250,250);color:black\"> 0e-6 <strong>(0.002)</strong> </td>\n",
       "        <td style=\"background-color:rgb(250,250,250);color:black\"> 4.0e-12 </td>\n",
       "        <td style=\"background-color:rgb(250,250,250);color:black\"> 0e-9 </td>\n",
       "    </tr>\n",
       "    <tr>\n",
       "        <th> sigma </th>\n",
       "        <td style=\"background-color:rgb(250,250,250);color:black\"> 0e-6 <strong>(0.002)</strong> </td>\n",
       "        <td> 8.33e-06 </td>\n",
       "        <td style=\"background-color:rgb(250,250,250);color:black\"> 0.9e-12 </td>\n",
       "        <td style=\"background-color:rgb(250,250,250);color:black\"> 0e-9 </td>\n",
       "    </tr>\n",
       "    <tr>\n",
       "        <th> a </th>\n",
       "        <td style=\"background-color:rgb(250,250,250);color:black\"> 4.0e-12 </td>\n",
       "        <td style=\"background-color:rgb(250,250,250);color:black\"> 0.9e-12 </td>\n",
       "        <td> 1.82e-12 </td>\n",
       "        <td style=\"background-color:rgb(250,236,236);color:black\"> 10.0e-12 <strong>(0.091)</strong> </td>\n",
       "    </tr>\n",
       "    <tr>\n",
       "        <th> da </th>\n",
       "        <td style=\"background-color:rgb(250,250,250);color:black\"> 0e-9 </td>\n",
       "        <td style=\"background-color:rgb(250,250,250);color:black\"> 0e-9 </td>\n",
       "        <td style=\"background-color:rgb(250,236,236);color:black\"> 10.0e-12 <strong>(0.091)</strong> </td>\n",
       "        <td> 6.54e-09 </td>\n",
       "    </tr>\n",
       "</table>"
      ],
      "text/plain": [
       "┌─────────────────────────────────────────────────────────────────────────┐\n",
       "│                                Migrad                                   │\n",
       "├──────────────────────────────────┬──────────────────────────────────────┤\n",
       "│ FCN = 8.781e+04                  │              Nfcn = 442              │\n",
       "│ EDM = 8.96e+04 (Goal: 0.0002)    │                                      │\n",
       "├──────────────────────────────────┼──────────────────────────────────────┤\n",
       "│         INVALID Minimum          │   ABOVE EDM threshold (goal x 10)    │\n",
       "├──────────────────────────────────┼──────────────────────────────────────┤\n",
       "│      No parameters at limit      │           Below call limit           │\n",
       "├──────────────────────────────────┼──────────────────────────────────────┤\n",
       "│             Hesse ok             │         Covariance accurate          │\n",
       "└──────────────────────────────────┴──────────────────────────────────────┘\n",
       "┌───┬───────┬───────────┬───────────┬────────────┬────────────┬─────────┬─────────┬───────┐\n",
       "│   │ Name  │   Value   │ Hesse Err │ Minos Err- │ Minos Err+ │ Limit-  │ Limit+  │ Fixed │\n",
       "├───┼───────┼───────────┼───────────┼────────────┼────────────┼─────────┼─────────┼───────┤\n",
       "│ 0 │ mu    │   0.165   │   0.004   │            │            │   -5    │    5    │       │\n",
       "│ 1 │ sigma │  0.8815   │  0.0029   │            │            │ 0.0001  │    5    │       │\n",
       "│ 2 │ a     │-1.0000004 │ 0.0000014 │            │            │   -5    │    5    │       │\n",
       "│ 3 │ da    │ 600.01e-3 │  0.08e-3  │            │            │ 0.0001  │    5    │       │\n",
       "└───┴───────┴───────────┴───────────┴────────────┴────────────┴─────────┴─────────┴───────┘\n",
       "┌───────┬─────────────────────────────────────┐\n",
       "│       │       mu    sigma        a       da │\n",
       "├───────┼─────────────────────────────────────┤\n",
       "│    mu │ 2.02e-05     0e-6  4.0e-12     0e-9 │\n",
       "│ sigma │     0e-6 8.33e-06  0.9e-12     0e-9 │\n",
       "│     a │  4.0e-12  0.9e-12 1.82e-12 10.0e-12 │\n",
       "│    da │     0e-9     0e-9 10.0e-12 6.54e-09 │\n",
       "└───────┴─────────────────────────────────────┘"
      ]
     },
     "execution_count": 435,
     "metadata": {},
     "output_type": "execute_result"
    }
   ],
   "source": [
    "# Use iminuit to minimize the NLL\n",
    "m = Minuit(nll, mu=0.01, sigma=1.5, a=-1, da=0.2)\n",
    "\n",
    "# Set limits on parameters\n",
    "m.limits['mu'] = (-5, 5)\n",
    "m.limits['sigma'] = (0.0001, 5)\n",
    "m.limits['a'] = (-5, 5)\n",
    "m.limits['da'] = (0.0001, 5)\n",
    "\n",
    "m.migrad()\n",
    "\n",
    "params = m.values\n",
    "\n",
    "m.hesse()"
   ]
  },
  {
   "cell_type": "code",
   "execution_count": 436,
   "metadata": {},
   "outputs": [
    {
     "data": {
      "image/png": "[encoded data removed]",
      "text/plain": [
       "<Figure size 640x480 with 1 Axes>"
      ]
     },
     "metadata": {},
     "output_type": "display_data"
    }
   ],
   "source": [
    "# plot gaussian with fitted parameters\n",
    "x = np.linspace(-5, 5, 1000)\n",
    "y = pdf(x, params['mu'], params['sigma'], params['a'], params['a'] + params['da'])\n",
    "plt.plot(x, y, color='red')\n",
    "\n",
    "# plot a and b on x axis\n",
    "plt.axvline(x=params['a'], color='green')\n",
    "plt.axvline(x=params['a'] + params['da'], color='green')\n",
    "\n",
    "# plot data as frequency histogram\n",
    "plt.hist(data, bins=100, density = True)\n",
    "plt.show()"
   ]
  }
 ],
 "metadata": {
  "kernelspec": {
   "display_name": "GaussianProcessProject",
   "language": "python",
   "name": "python3"
  },
  "language_info": {
   "codemirror_mode": {
    "name": "ipython",
    "version": 3
   },
   "file_extension": ".py",
   "mimetype": "text/x-python",
   "name": "python",
   "nbconvert_exporter": "python",
   "pygments_lexer": "ipython3",
   "version": "3.11.7"
  }
 },
 "nbformat": 4,
 "nbformat_minor": 2
}
