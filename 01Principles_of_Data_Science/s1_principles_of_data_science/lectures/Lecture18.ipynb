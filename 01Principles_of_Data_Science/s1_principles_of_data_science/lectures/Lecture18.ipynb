{
 "cells": [
  {
   "cell_type": "markdown",
   "id": "47468801",
   "metadata": {
    "slideshow": {
     "slide_type": "slide"
    }
   },
   "source": [
    "# Principles of Data Science\n",
    "\n",
    "### Lecture 18: Resampling \n",
    "\n",
    "_MPhil in Data Intensive Science_\n",
    "\n",
    "**University of Cambridge**\n",
    "\n",
    "<h2 style=\"color: blue\">Matt Kenzie</h2>\n",
    "\n",
    "[mk652@cam.ac.uk](mailto:mk652@cam.ac.uk)"
   ]
  },
  {
   "cell_type": "markdown",
   "id": "08641518",
   "metadata": {
    "slideshow": {
     "slide_type": "subslide"
    }
   },
   "source": [
    "## Resampling \n",
    "\n",
    "- Today's lecture covers some useful resampling techniques for estimation\n",
    "    - The bootstrap\n",
    "    - The jackknife\n",
    "\n",
    "- Learning objectives:\n",
    "    - Understand how resampling methods work\n",
    "    - Be able to deploy them as estimation techniques"
   ]
  },
  {
   "cell_type": "markdown",
   "id": "2c0c66fc",
   "metadata": {
    "slideshow": {
     "slide_type": "subslide"
    }
   },
   "source": [
    "## Recap\n",
    "\n",
    "- We have now seen **several** estimation methods\n",
    "    - Maximum Likelihood\n",
    "    - Least Squares\n",
    "    - Method of Moments\n",
    "    - Feldman Cousins (intervals and limits)\n",
    "    - The CLs method (limits)\n",
    "    \n",
    "- The <font color=\"blue\">bootstrap</font> and <font color=\"blue\">jackknife</font> are <font color=\"red\">fantastic</font> alternatives\n",
    "    - Although can be computationally expensive\n"
   ]
  },
  {
   "cell_type": "markdown",
   "id": "f86e3cc2",
   "metadata": {
    "slideshow": {
     "slide_type": "slide"
    }
   },
   "source": [
    "## When to use resampling methods\n",
    "\n",
    "- Probably all the time\n",
    "- They take some compute time (which is the limitation)\n",
    "- But they are excellent estimation methods\n",
    "    - but often needed in conjunction with one of the \"standard\" estimation methods we have already seen\n",
    "- Also excellent tools for cross-checking procedure\n",
    "- Some fields refer to parametric bootstrapping as \"*throwing toys*\" or \"*generating pseudo-experiments*\"\n",
    "- We have seen this in use when generating test-statistic distributions"
   ]
  },
  {
   "cell_type": "markdown",
   "id": "136e4adb",
   "metadata": {
    "slideshow": {
     "slide_type": "slide"
    }
   },
   "source": [
    "## What is resampling for?\n",
    "- The data sample we have, $X_i = \\{X_1,X_2,\\dots,X_N\\}$\n",
    "- Is really sampled from the population\n",
    "- Often want to know what the distribution of possible samples *we could have got* would be\n",
    "- This is what a resampling can provide\n",
    "- There are a few alternatives we will discuss:\n",
    "    - jackknife\n",
    "    - (non-parametric) bootstrap\n",
    "    - parametric bootstrap"
   ]
  },
  {
   "cell_type": "markdown",
   "id": "19d5d0ee",
   "metadata": {
    "slideshow": {
     "slide_type": "slide"
    }
   },
   "source": [
    "## Jackknife resampling\n",
    "\n",
    "- <font color=\"green\">*See handwritten notes*</font>\n",
    "- Have an $N-1$ type sampling\n",
    "- If our original sample is $X_i = \\{X_1, X_2, \\dots, X_N\\}$\n",
    "\n",
    "- Produce $N$ jackknife samples omitting one point at a time\n",
    "$$ X_{(1)} = \\{X_2, X_3, X_4, \\dots, X_N\\} \\\\\n",
    "   X_{(2)} = \\{X_1, X_3, X_4, \\dots, X_N\\} \\\\\n",
    "   \\vdots \\\\\n",
    "   X_{(N)} = \\{X_1, X_2, X_3, \\dots, X_{N-1} \\}\n",
    "$$\n",
    "\n",
    "- Can now reproduce estimate for each jackknife sample"
   ]
  },
  {
   "cell_type": "markdown",
   "id": "0910cc99",
   "metadata": {
    "slideshow": {
     "slide_type": "subslide"
    }
   },
   "source": [
    "## Jackknife estimates\n",
    "\n",
    "<font color=\"green\">*See hand written notes*</font>\n",
    "\n",
    "\n"
   ]
  },
  {
   "cell_type": "markdown",
   "id": "48a9bce4",
   "metadata": {
    "slideshow": {
     "slide_type": "fragment"
    }
   },
   "source": [
    "- For original sample, $X$, and jacknife samples, $X_{(i)}$\n",
    "- If estimate obtained with $\\hat{\\theta}= f(X)$\n",
    "- Jackknife samples estimates are \n",
    "$$\\hat{\\theta}_{(i)} = f(X_1, \\dots, X_{i-1}, X_{i+1}, \\dots, X_N)$$\n",
    "- The average of these is \n",
    "$$\\hat{\\theta}_{\\text{(.)}} = \\frac{1}{N} \\sum_{i=1}^{N} \\hat{\\theta}_{(i)}$$\n",
    "\n",
    "- From which we can obtain an estimate of the bias:\n",
    "\n",
    "$$ \\hat{b}(\\theta) = (n-1)( \\hat{\\theta}_{\\text{(.)}} - \\hat{\\theta} ) $$\n",
    "\n",
    "- An consequently a **bias-corrected** estimate\n",
    "\n",
    "$$ \\hat{\\theta}_{c} = \\hat{\\theta} - \\hat{b}(\\theta) = n\\hat{\\theta} - (n-1) \\hat{\\theta}_{(.)} $$\n",
    "\n",
    "- Sometimes one sees a definition of \"*pseudo-values*\"\n",
    "\n",
    "$$ \\tilde{\\theta}_{(i)} = n\\hat{\\theta} - (n-1) \\hat{\\theta}_{(i)} $$\n",
    "\n",
    "- In which case the unbiased (**bias-corrected**) estimate is simply the average of these\n",
    "\n",
    "$$ \\hat{\\theta}_{c} = \\frac{1}{N} \\sum_{i=1}^N \\tilde{\\theta}_{(i)} $$\n"
   ]
  },
  {
   "cell_type": "markdown",
   "id": "785b01bd",
   "metadata": {
    "slideshow": {
     "slide_type": "subslide"
    }
   },
   "source": [
    "## Jackknife variance\n",
    "\n",
    "<font color=\"green\">*See hand written notes for proofs*</font>\n",
    "\n",
    "\n",
    "\n"
   ]
  },
  {
   "cell_type": "markdown",
   "id": "5add1a92",
   "metadata": {
    "slideshow": {
     "slide_type": "fragment"
    }
   },
   "source": [
    "- These *pseudo-values* can be treated as approximately i.i.d and thus we use their variance to obtain the variance on the jackknife estimate\n",
    "\n",
    "$$ V(\\hat{\\theta}_c) = \\frac{\\hat{s}^2}{N} = \\frac{1}{N}\\frac{1}{N-1} \\sum_{i=1}^N (\\tilde{\\theta}_{(i)} - \\hat{\\theta}_c )^2$$\n",
    "\n",
    "- We can compute the variance on the jackknife estimate, $\\hat{\\theta}_{(.)}$\n",
    "\n",
    "$$ V(\\hat{\\theta}_{(.)}) = \\frac{N-1}{N} \\sum_{i=1}^N ( \\hat{\\theta}_{(i)} - \\hat{\\theta}_{(.)} )^2$$\n",
    "\n",
    "- The $(N-1)/N$ term corrects for the sample size of $N-1$"
   ]
  },
  {
   "cell_type": "markdown",
   "id": "49cd53f3",
   "metadata": {
    "slideshow": {
     "slide_type": "slide"
    }
   },
   "source": [
    "# <font color=\"darkred\">*Musical interlude...*</font>"
   ]
  },
  {
   "cell_type": "markdown",
   "id": "bb5f575a",
   "metadata": {
    "slideshow": {
     "slide_type": "subslide"
    }
   },
   "source": [
    "## Delete-m Jackknife\n",
    "\n",
    "- An extension / simplification of the jackknife for **very large** samples\n",
    "- For a sample of size $N$ will have $N$ jackknife samples\n",
    "- The \"*delete-m*\" technique does not remove one event at a time but $m$ events at a time\n",
    "- Have $J$ groups containing $m=N/J$ events\n",
    "- Have estimates $\\hat{\\theta}_{(j)}$ based on all events excluding those in the group $j$\n",
    "- The <font color=\"red\">*pseudo-values*</font> become\n",
    "\n",
    "$$ \\tilde{\\theta}_{(j)} = J \\hat{\\theta} - (J-1) \\hat{\\theta}_{(j)} $$\n",
    "\n",
    "- The <font color=\"blue\">**bias-corrected**</font> estimate becomes\n",
    "\n",
    "$$ \\hat{\\theta}_c = \\frac{1}{J} \\sum_{j=1}^J \\tilde{\\theta}_{(j)} $$\n",
    "\n",
    "- With <font color=\"blue\">**variance**</font>\n",
    "\n",
    "$$ V(\\hat{\\theta}_{c}) = \\frac{1}{J}\\frac{1}{J-1} \\sum_{j=1}^{J} ( \\tilde{\\theta}_{(j)} - \\hat{\\theta}_c )^2 $$\n"
   ]
  },
  {
   "cell_type": "markdown",
   "id": "9bb98f51",
   "metadata": {
    "slideshow": {
     "slide_type": "slide"
    }
   },
   "source": [
    "## Bootstrap resampling\n",
    "\n",
    "- Jackknife is deterministic but \n",
    "    - computationally expensive for large samples\n",
    "    - inaccurate for small samples\n",
    "    - provides point-estimate and variance\n",
    "    \n",
    "- An alternative is the (non-parametric) bootstrap\n",
    "\n",
    "- <font color=\"blue\">**Sample with replacement**</font> as many times as needed (<font color=\"green\">*hand-written notes to explain if needed*</font>)\n",
    "    - get a sample of the same size as the original (with some repetition)\n",
    "    - non-deterministic (relies on random sampling) so will give slightly different outcomes each time\n",
    "    - will produce the entire distribution of the estimate (from which variance can be calculated)"
   ]
  },
  {
   "cell_type": "markdown",
   "id": "f446a7fb",
   "metadata": {
    "slideshow": {
     "slide_type": "subslide"
    }
   },
   "source": [
    "## Bootstrapped intervals\n",
    "\n",
    "- Can produce confidence intervals from the quantiles of the bootstrapped distribution\n",
    "- Large samples needed for reasonable accuracy at high / low CL \n",
    "- Typically accurate to 1/N\n",
    "- In this case find the emprical CDF, $\\tilde{F}$, with inverse, $\\tilde{\\Phi}= \\tilde{F}^{\\,-1}$, from the bootstrapped sample and find the percentiles\n",
    "\n",
    "$$ [\\theta_l, \\theta_h] = [\\tilde{\\Phi}(\\alpha/2), \\tilde{\\Phi}(1-\\alpha/2)] = [\\tilde{\\Phi}(z_\\alpha), \\tilde{\\Phi}(z_{1-\\alpha})]$$\n",
    "\n",
    "- This works perfectly fine if there is no bias in the bootstrap sample and the distribution is symmetric"
   ]
  },
  {
   "cell_type": "code",
   "execution_count": 36,
   "id": "0b8a7e50",
   "metadata": {
    "slideshow": {
     "slide_type": "fragment"
    }
   },
   "outputs": [
    {
     "data": {
      "text/plain": [
       "<matplotlib.lines.Line2D at 0x2a0d447f0>"
      ]
     },
     "execution_count": 36,
     "metadata": {},
     "output_type": "execute_result"
    },
    {
     "data": {
      "image/png": "[encoded data removed]",
      "text/plain": [
       "<Figure size 1280x480 with 2 Axes>"
      ]
     },
     "metadata": {},
     "output_type": "display_data"
    }
   ],
   "source": [
    "import numpy as np\n",
    "import matplotlib.pyplot as plt\n",
    "plt.style.use('../mphil.mplstyle')\n",
    "from scipy.stats import chi2\n",
    "theta_b = np.random.normal(size=5000)\n",
    "\n",
    "# percentile to compute\n",
    "alpha = 1-chi2.cdf(1,1)\n",
    "\n",
    "# compute percentiles\n",
    "theta_l, theta_h = np.percentile(theta_b, [100*alpha/2, 100*(1-alpha/2)] )\n",
    "\n",
    "fig, ax = plt.subplots(1,2, figsize=(12.8, 4.8))\n",
    "ax[0].hist( theta_b, bins=100 )\n",
    "ax[0].axvline( theta_l, c='r', ls='--' )\n",
    "ax[0].axvline( theta_h, c='r', ls='--' )\n",
    "\n",
    "ax[1].plot( np.sort(theta_b), np.linspace(0, 1, len(theta_b), endpoint=False))\n",
    "ax[1].axvline( theta_l, c='r', ls='--' )\n",
    "ax[1].axvline( theta_h, c='r', ls='--' )\n",
    "ax[1].axhline( alpha/2, c='r', ls=':' )\n",
    "ax[1].axhline( 1-alpha/2, c='r', ls=':' )\n"
   ]
  },
  {
   "cell_type": "markdown",
   "id": "1538f5ee",
   "metadata": {
    "slideshow": {
     "slide_type": "subslide"
    }
   },
   "source": [
    "## Bias-corrected-accelerated (BCa) intervals\n",
    "\n",
    "- An extension for confidence interval computation which corrects for bias and skewness in the bootstrap  distribution\n",
    "- Need to estimate two parameters, $z_0$ and $a$ for bias and skewness correction\n",
    "- Our standard interval makes the assumption that\n",
    "$$ \\frac{\\hat{\\theta} - \\theta}{\\hat{\\sigma}} = \\mathcal{N}(0,1) $$\n"
   ]
  },
  {
   "cell_type": "markdown",
   "id": "e24c8f4c",
   "metadata": {
    "slideshow": {
     "slide_type": "fragment"
    }
   },
   "source": [
    "<font color=\"blue\">**The bias correction**</font> (called the \"BC interval\"):\n",
    "\n",
    "$$ [\\theta_l, \\theta_h] = [ \\tilde{\\Phi}( \\hat{z}_0 + z_\\alpha), \\tilde{\\Phi}( \\hat{z}_0 + z_{1-\\alpha} ) ] $$\n",
    "\n",
    "where $\\hat{z}_0$ is a <font color=\"red\">*bias parameter*</font> that is estimated from the bootsrapped sample\n",
    "\n",
    "- this now corrects the interval such that\n",
    "\n",
    "$$ \\frac{\\hat{\\theta} - \\theta}{\\hat{\\sigma}} = \\mathcal{N}(-z_0, 1) $$"
   ]
  },
  {
   "cell_type": "markdown",
   "id": "a3ac47d2",
   "metadata": {
    "slideshow": {
     "slide_type": "fragment"
    }
   },
   "source": [
    "<font color=\"blue\">**The additional acceleration**</font> (called the \"BCa interval\"):\n",
    "\n",
    "$$ [\\theta_l, \\theta_h] = \\left[ \\tilde{\\Phi}\\left( \\hat{z}_0 + \\frac{ \\hat{z}_0 + z_\\alpha}{1- \\hat{a}(\\hat{z}_0 + z_\\alpha)} \\right), \\tilde{\\Phi}\\left( \\hat{z}_0 + \\frac{ \\hat{z}_0 + z_{1-\\alpha}}{1- \\hat{a}(\\hat{z}_0 + z_{1-\\alpha})} \\right)\\right] $$\n",
    "\n",
    "where $\\hat{a}$ is an <font color=\"red\">*acceleration parameter*</font> that is estimated using a jackknife of the sample\n",
    "\n",
    "- this now corrects the interval such that\n",
    "\n",
    "$$ \\frac{\\hat{\\theta} - \\theta}{\\hat{\\sigma}} = \\mathcal{N}\\left(-z_0(1+a\\theta), (1+a\\theta)^2 \\right) $$ "
   ]
  },
  {
   "cell_type": "markdown",
   "id": "9c96f171",
   "metadata": {
    "slideshow": {
     "slide_type": "slide"
    }
   },
   "source": [
    "# End of Lecture 18\n",
    "\n",
    "By the end of this lecture you should:\n",
    "   - Understand how the <font color=\"blue\">jackknife</font> and <font color=\"blue\">bootstrap</font> resampling methods work\n",
    "   - Be able to deploy them as estimation techniques (we will see some examples in the next lecture)"
   ]
  }
 ],
 "metadata": {
  "celltoolbar": "Slideshow",
  "kernelspec": {
   "display_name": "Python 3 (ipykernel)",
   "language": "python",
   "name": "python3"
  },
  "language_info": {
   "codemirror_mode": {
    "name": "ipython",
    "version": 3
   },
   "file_extension": ".py",
   "mimetype": "text/x-python",
   "name": "python",
   "nbconvert_exporter": "python",
   "pygments_lexer": "ipython3",
   "version": "3.9.16"
  },
  "rise": {
   "enable_chalkboard": true,
   "scroll": true
  }
 },
 "nbformat": 4,
 "nbformat_minor": 5
}
