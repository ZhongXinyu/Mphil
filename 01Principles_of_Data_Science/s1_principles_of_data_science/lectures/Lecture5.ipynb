{
 "cells": [
  {
   "cell_type": "markdown",
   "id": "47468801",
   "metadata": {
    "slideshow": {
     "slide_type": "slide"
    }
   },
   "source": [
    "# Principles of Data Science\n",
    "\n",
    "### Lecture 5: Properties of Distributions\n",
    "\n",
    "_MPhil in Data Intensive Science_\n",
    "\n",
    "**University of Cambridge**\n",
    "\n",
    "<h2 style=\"color: blue\">Matt Kenzie</h2>\n",
    "\n",
    "[mk652@cam.ac.uk](mailto:mk652@cam.ac.uk)"
   ]
  },
  {
   "cell_type": "markdown",
   "id": "08641518",
   "metadata": {
    "slideshow": {
     "slide_type": "subslide"
    }
   },
   "source": [
    "## Properties of distributions\n",
    "\n",
    "- Today's lecture generalises our discussions of the mean and covariance to distributions and introduces the concept of expectation values\n",
    "- We also discover and investigate the characteristic function of a distribution\n",
    "\n",
    "- Learning objectives:\n",
    "    - Understand and be able to compute the expectation, mean, variance, covariance and correlation of probability distributions\n",
    "    - Understand the role of the characteristic function and its relation to the p.d.f"
   ]
  },
  {
   "cell_type": "markdown",
   "id": "2c0c66fc",
   "metadata": {
    "slideshow": {
     "slide_type": "subslide"
    }
   },
   "source": [
    "## Recap\n",
    "\n",
    "- Recall definitions of mean, variance and covariance on datasets\n",
    "    $$ \\overline{x} = \\frac{1}{N} \\sum_i^N x_i $$ \n",
    "    $$ V(x) = \\overline{x^2} - \\overline{x}^2 = \\frac{1}{N} \\sum_i^N (x_i - \\overline{x})^2 $$\n",
    "    $$ V(x,y) = \\overline{xy} - \\overline{x}\\overline{y} = \\frac{1}{N} \\sum_i^N(x_i - \\overline{x})(y_i - \\overline{y}) $$\n",
    "- Recall p.d.f.s and c.d.f.s\n",
    "   - for random variable $X$\n",
    "   - probability distribution described by $f(X)$\n",
    "   - cumalative probability decscirbed by \n",
    "   $$F(X) = \\int_{-\\infty}^{X} f(X') dX'$$"
   ]
  },
  {
   "cell_type": "markdown",
   "id": "cd853bb6",
   "metadata": {
    "slideshow": {
     "slide_type": "slide"
    }
   },
   "source": [
    "## Properties of distributions\n",
    "\n",
    "<font color=green>*Hand-written notes*</font>\n",
    "\n",
    "- Expectation\n",
    "- Mean\n",
    "- Variance\n",
    "- Covariance\n",
    "- Correlation\n",
    "\n",
    "<font color=red>*Worked example with a normal distribution*</font>"
   ]
  },
  {
   "cell_type": "markdown",
   "id": "adeb7a38",
   "metadata": {
    "slideshow": {
     "slide_type": "slide"
    }
   },
   "source": [
    "# <font color=\"darkred\">*Musical interlude...*</font>"
   ]
  },
  {
   "cell_type": "markdown",
   "id": "625015ef",
   "metadata": {
    "slideshow": {
     "slide_type": "subslide"
    }
   },
   "source": [
    "## The characteristic function\n",
    "\n",
    "<font color=green>*Hand-written notes*</font>\n",
    "\n",
    "- Definition and properties\n",
    "- Proof of form for a normal distribution"
   ]
  },
  {
   "cell_type": "markdown",
   "id": "998cd138",
   "metadata": {
    "slideshow": {
     "slide_type": "slide"
    }
   },
   "source": [
    "# End of Lecture 5\n",
    "\n",
    "By the end of this lecture you should:\n",
    "   - Understand and be able to compute the expectation, mean, variance, covariance and correlation of probability distributions\n",
    "   - Understand the role of the characteristic function and its relation to the p.d.f"
   ]
  }
 ],
 "metadata": {
  "celltoolbar": "Slideshow",
  "kernelspec": {
   "display_name": "Python 3 (ipykernel)",
   "language": "python",
   "name": "python3"
  },
  "language_info": {
   "codemirror_mode": {
    "name": "ipython",
    "version": 3
   },
   "file_extension": ".py",
   "mimetype": "text/x-python",
   "name": "python",
   "nbconvert_exporter": "python",
   "pygments_lexer": "ipython3",
   "version": "3.9.16"
  },
  "rise": {
   "enable_chalkboard": true,
   "scroll": true
  }
 },
 "nbformat": 4,
 "nbformat_minor": 5
}
